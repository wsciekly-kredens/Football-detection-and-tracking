{
 "cells": [
  {
   "cell_type": "code",
   "execution_count": 121,
   "id": "initial_id",
   "metadata": {
    "collapsed": true,
    "ExecuteTime": {
     "end_time": "2024-11-02T18:36:46.713739400Z",
     "start_time": "2024-11-02T18:36:44.107046600Z"
    }
   },
   "outputs": [],
   "source": [
    "from ultralytics import YOLO\n",
    "from PIL import Image\n",
    "import numpy as np\n",
    "import cv2\n",
    "import matplotlib.pyplot as plt\n",
    "import os\n",
    "import seaborn as sb"
   ]
  },
  {
   "cell_type": "code",
   "execution_count": 3,
   "outputs": [],
   "source": [
    "model = YOLO('yolo11n.pt')"
   ],
   "metadata": {
    "collapsed": false,
    "ExecuteTime": {
     "end_time": "2024-11-02T18:05:05.622988300Z",
     "start_time": "2024-11-02T18:05:05.566798900Z"
    }
   },
   "id": "66cd5322109e0f55"
  },
  {
   "cell_type": "code",
   "execution_count": 4,
   "outputs": [
    {
     "name": "stdout",
     "output_type": "stream",
     "text": [
      "image 1/1 C:\\Users\\kowal\\PycharmProjects\\inzynierka\\data\\SoccerNetGS\\gamestate-2024\\valid\\SNGS-021\\img1\\000001.jpg: 384x640 14 persons, 55.1ms\n",
      "Speed: 3.5ms preprocess, 55.1ms inference, 0.0ms postprocess per image at shape (1, 3, 384, 640)\n"
     ]
    }
   ],
   "source": [
    "image_path = 'data/SoccerNetGS/gamestate-2024/valid/SNGS-021/img1/000001.jpg'\n",
    "results = model.predict(image_path)"
   ],
   "metadata": {
    "collapsed": false,
    "ExecuteTime": {
     "end_time": "2024-11-02T18:05:06.431053300Z",
     "start_time": "2024-11-02T18:05:05.622988300Z"
    }
   },
   "id": "f7ad6472fccb46d9"
  },
  {
   "cell_type": "code",
   "execution_count": 151,
   "outputs": [],
   "source": [
    "frame = cv2.imread(image_path)"
   ],
   "metadata": {
    "collapsed": false,
    "ExecuteTime": {
     "end_time": "2024-11-04T07:58:04.093775900Z",
     "start_time": "2024-11-04T07:58:04.021283400Z"
    }
   },
   "id": "12f03dc4aa40788c"
  },
  {
   "cell_type": "code",
   "execution_count": 162,
   "outputs": [],
   "source": [
    "b_boxes = results[0].boxes.xyxy.tolist()"
   ],
   "metadata": {
    "collapsed": false,
    "ExecuteTime": {
     "end_time": "2024-11-04T08:02:19.504904700Z",
     "start_time": "2024-11-04T08:02:19.487751Z"
    }
   },
   "id": "6684783397977d9b"
  },
  {
   "cell_type": "code",
   "execution_count": 165,
   "outputs": [],
   "source": [
    "cv2.imshow('frame', frame[int(b_boxes[2][1]):int(b_boxes[2][3]), int(b_boxes[2][0]):int(b_boxes[2][2])])\n",
    "cv2.waitKey(0)\n",
    "cv2.destroyAllWindows()"
   ],
   "metadata": {
    "collapsed": false,
    "ExecuteTime": {
     "end_time": "2024-11-04T08:03:46.495997400Z",
     "start_time": "2024-11-04T08:03:34.179867100Z"
    }
   },
   "id": "9295bd047d266c39"
  },
  {
   "cell_type": "code",
   "execution_count": 153,
   "outputs": [],
   "source": [
    "def get_players(frame: np.ndarray, boxes: list[np.ndarray]) -> list[np.ndarray]:\n",
    "    players = []\n",
    "    for bbox in boxes:\n",
    "        player = frame[int(bbox[1]):int(bbox[3]), int(bbox[0]):int(bbox[2])]\n",
    "        players.append(player)\n",
    "    return players"
   ],
   "metadata": {
    "collapsed": false,
    "ExecuteTime": {
     "end_time": "2024-11-04T07:58:56.496544600Z",
     "start_time": "2024-11-04T07:58:56.464548Z"
    }
   },
   "id": "50bc3cc42f2653d5"
  },
  {
   "cell_type": "code",
   "execution_count": 154,
   "outputs": [],
   "source": [
    "players = get_players(frame, results[0].boxes.xyxy.tolist())"
   ],
   "metadata": {
    "collapsed": false,
    "ExecuteTime": {
     "end_time": "2024-11-04T07:58:59.817223400Z",
     "start_time": "2024-11-04T07:58:59.792587700Z"
    }
   },
   "id": "7ec023077c560e8c"
  },
  {
   "cell_type": "code",
   "execution_count": 168,
   "outputs": [
    {
     "data": {
      "text/plain": "(85, 29, 3)"
     },
     "execution_count": 168,
     "metadata": {},
     "output_type": "execute_result"
    }
   ],
   "source": [
    "players[2].shape"
   ],
   "metadata": {
    "collapsed": false,
    "ExecuteTime": {
     "end_time": "2024-11-04T08:04:09.929222900Z",
     "start_time": "2024-11-04T08:04:09.900850500Z"
    }
   },
   "id": "65fe91997bce2816"
  },
  {
   "cell_type": "code",
   "execution_count": 169,
   "outputs": [],
   "source": [
    "def get_kits(players: list[np.ndarray]) -> list[np.ndarray]:\n",
    "    kits = []\n",
    "    for player in players:\n",
    "        kit = player[player.shape[0]//6:player.shape[0]//2, int(player.shape[1] * 0.25):int(player.shape[1] * 0.75)]\n",
    "        kits.append(kit)\n",
    "    return kits"
   ],
   "metadata": {
    "collapsed": false,
    "ExecuteTime": {
     "end_time": "2024-11-04T08:04:31.342815Z",
     "start_time": "2024-11-04T08:04:31.295132500Z"
    }
   },
   "id": "166f2f083ce985e4"
  },
  {
   "cell_type": "code",
   "execution_count": 170,
   "outputs": [],
   "source": [
    "kits = get_kits(players)"
   ],
   "metadata": {
    "collapsed": false,
    "ExecuteTime": {
     "end_time": "2024-11-04T08:04:34.166318Z",
     "start_time": "2024-11-04T08:04:34.134728700Z"
    }
   },
   "id": "1b20ba878744bb7f"
  },
  {
   "cell_type": "code",
   "execution_count": 171,
   "outputs": [
    {
     "data": {
      "text/plain": "array([[[154,  48,  47],\n        [164,  59,  56],\n        [148,  69,  58],\n        ...,\n        [158,  67,  70],\n        [156,  73,  71],\n        [173,  96,  93]],\n\n       [[155,  61,  55],\n        [169,  71,  65],\n        [156,  67,  57],\n        ...,\n        [191, 107, 102],\n        [219, 162, 153],\n        [209, 162, 154]],\n\n       [[132,  51,  46],\n        [134,  52,  47],\n        [151,  68,  66],\n        ...,\n        [140,  81,  71],\n        [207, 180, 166],\n        [207, 188, 173]],\n\n       ...,\n\n       [[141, 108,  93],\n        [144,  85,  75],\n        [151,  74,  65],\n        ...,\n        [165,  70,  60],\n        [169,  71,  65],\n        [163,  66,  62]],\n\n       [[141, 106,  92],\n        [145,  84,  74],\n        [151,  74,  65],\n        ...,\n        [164,  68,  62],\n        [168,  71,  67],\n        [164,  67,  64]],\n\n       [[139, 104,  90],\n        [143,  82,  72],\n        [150,  72,  65],\n        ...,\n        [164,  70,  65],\n        [167,  70,  67],\n        [163,  65,  65]]], dtype=uint8)"
     },
     "execution_count": 171,
     "metadata": {},
     "output_type": "execute_result"
    }
   ],
   "source": [
    "kits[2]"
   ],
   "metadata": {
    "collapsed": false,
    "ExecuteTime": {
     "end_time": "2024-11-04T08:04:36.154988900Z",
     "start_time": "2024-11-04T08:04:36.123477900Z"
    }
   },
   "id": "1cd47af87234a7d"
  },
  {
   "cell_type": "code",
   "execution_count": 10,
   "outputs": [],
   "source": [
    "cv2.imshow('kit1', kits[0])"
   ],
   "metadata": {
    "collapsed": false,
    "ExecuteTime": {
     "end_time": "2024-11-02T18:05:35.161705800Z",
     "start_time": "2024-11-02T18:05:35.138451500Z"
    }
   },
   "id": "4d5d42fa00572501"
  },
  {
   "cell_type": "code",
   "execution_count": 29,
   "outputs": [],
   "source": [
    "for i, kit in enumerate(kits):\n",
    "    cv2.imwrite(f'kits/kit{i+1}.png', kits[i])"
   ],
   "metadata": {
    "collapsed": false,
    "ExecuteTime": {
     "end_time": "2024-11-02T18:12:33.172855300Z",
     "start_time": "2024-11-02T18:12:33.158843400Z"
    }
   },
   "id": "61c71951341cbb5b"
  },
  {
   "cell_type": "code",
   "execution_count": 11,
   "outputs": [],
   "source": [
    "cv2.imwrite('kits/kit1.png', kits[0])\n",
    "cv2.imshow('kits_0', kits[0])\n",
    "cv2.waitKey(0)\n",
    "cv2.destroyAllWindows()"
   ],
   "metadata": {
    "collapsed": false,
    "ExecuteTime": {
     "end_time": "2024-11-02T18:06:15.969237600Z",
     "start_time": "2024-11-02T18:05:53.001314100Z"
    }
   },
   "id": "5510afe3f03ef9aa"
  },
  {
   "cell_type": "code",
   "execution_count": 173,
   "outputs": [],
   "source": [
    "def get_mean_color(kits: np.ndarray) -> list[np.ndarray]:\n",
    "    mean_colors: list[int] = []\n",
    "    for kit in kits:\n",
    "        im = Image.fromarray(kit)\n",
    "        im = im.convert('P', colors=16)\n",
    "        im = np.array(im)\n",
    "        mean_color = np.mean(im, axis=(0, 1))\n",
    "        # color_image = np.zeros((100, 100, 3), dtype=np.uint8)\n",
    "        # color_image[:] = [int(mean_color[0]), int(mean_color[1]), int(mean_color[2])]\n",
    "        mean_colors.append(mean_color)\n",
    "    return mean_colors"
   ],
   "metadata": {
    "collapsed": false,
    "ExecuteTime": {
     "end_time": "2024-11-04T08:05:00.560614700Z",
     "start_time": "2024-11-04T08:05:00.518259600Z"
    }
   },
   "id": "1f97553db3c55440"
  },
  {
   "cell_type": "code",
   "execution_count": 174,
   "outputs": [
    {
     "data": {
      "text/plain": "[np.float64(157.18970588235294),\n np.float64(166.31565656565655),\n np.float64(83.73469387755102),\n np.float64(93.05333333333333),\n np.float64(69.35666666666667),\n np.float64(168.9707792207792),\n np.float64(154.5408653846154),\n np.float64(93.57407407407408),\n np.float64(125.90378787878788),\n np.float64(84.4054054054054),\n np.float64(160.37767094017093),\n np.float64(82.46825396825396),\n np.float64(171.82403100775193),\n np.float64(99.98512585812357)]"
     },
     "execution_count": 174,
     "metadata": {},
     "output_type": "execute_result"
    }
   ],
   "source": [
    "means = get_mean_color(kits)\n",
    "means"
   ],
   "metadata": {
    "collapsed": false,
    "ExecuteTime": {
     "end_time": "2024-11-04T08:05:08.090050700Z",
     "start_time": "2024-11-04T08:05:08.025968Z"
    }
   },
   "id": "4cef95702fb1dca7"
  },
  {
   "cell_type": "code",
   "execution_count": 30,
   "outputs": [],
   "source": [
    "def get_shirt_color(num: int) -> int:\n",
    "    image = Image.open(f'kits/kit{num}.png')\n",
    "    image = image.convert('P', palette=Image.ADAPTIVE, colors=2)\n",
    "    img_colors = image.getcolors(maxcolors=2)\n",
    "    print(img_colors)\n",
    "    w, h = image.size\n",
    "    points = [(0,0), (0, h-1), (w-1, 0), (w-1, h-1)]\n",
    "    colors: list[tuple] = []\n",
    "    for point in points:\n",
    "        colors.append(image.getpixel(point))\n",
    "    bg_color: int = max(set(colors), key=colors.count)\n",
    "    shirt_index: int = 1 - bg_color\n",
    "    for color in img_colors:\n",
    "        if color[1] == shirt_index:\n",
    "            return color[0]\n",
    "    return -1"
   ],
   "metadata": {
    "collapsed": false,
    "ExecuteTime": {
     "end_time": "2024-11-02T18:12:40.413296800Z",
     "start_time": "2024-11-02T18:12:40.408043Z"
    }
   },
   "id": "5b66df8f9d430c1d"
  },
  {
   "cell_type": "code",
   "execution_count": 37,
   "outputs": [
    {
     "name": "stdout",
     "output_type": "stream",
     "text": [
      "[(2264, 0), (1876, 1)]\n",
      "[(924, 0), (696, 1)]\n",
      "[(365, 0), (447, 1)]\n",
      "[(1619, 0), (1981, 1)]\n",
      "[(1204, 0), (1196, 1)]\n",
      "[(920, 0), (886, 1)]\n",
      "[(382, 0), (450, 1)]\n",
      "[(1297, 0), (818, 1)]\n",
      "[(1239, 0), (1401, 1)]\n",
      "[(1057, 0), (867, 1)]\n",
      "[(2118, 0), (1574, 1)]\n",
      "[(492, 0), (516, 1)]\n",
      "[(1538, 0), (999, 1)]\n",
      "[(1090, 0), (658, 1)]\n"
     ]
    }
   ],
   "source": [
    "kits_n = len(kits)\n",
    "shirt_color = []\n",
    "for i in range(kits_n):\n",
    "    shirt_color.append(get_shirt_color(i+1))"
   ],
   "metadata": {
    "collapsed": false,
    "ExecuteTime": {
     "end_time": "2024-11-02T18:14:28.299546500Z",
     "start_time": "2024-11-02T18:14:28.267626500Z"
    }
   },
   "id": "78ba8ac11f686410"
  },
  {
   "cell_type": "code",
   "execution_count": 38,
   "outputs": [
    {
     "data": {
      "text/plain": "[2264, 924, 447, 1981, 1196, 920, 382, 818, 1239, 867, 2118, 516, 1538, 658]"
     },
     "execution_count": 38,
     "metadata": {},
     "output_type": "execute_result"
    }
   ],
   "source": [
    "shirt_color"
   ],
   "metadata": {
    "collapsed": false,
    "ExecuteTime": {
     "end_time": "2024-11-02T18:14:31.169716500Z",
     "start_time": "2024-11-02T18:14:31.165234800Z"
    }
   },
   "id": "63440aa1c5058ffc"
  },
  {
   "cell_type": "code",
   "execution_count": 119,
   "outputs": [],
   "source": [
    "y = shirt_color.copy()"
   ],
   "metadata": {
    "collapsed": false,
    "ExecuteTime": {
     "end_time": "2024-11-02T18:36:23.628431400Z",
     "start_time": "2024-11-02T18:36:23.622503500Z"
    }
   },
   "id": "47af94c84a1023c3"
  },
  {
   "cell_type": "code",
   "execution_count": 123,
   "outputs": [],
   "source": [
    "true = [1, 1, 0, 0, 0, 1, 1, 0, 2, 0, 1, 0, 1, 0]"
   ],
   "metadata": {
    "collapsed": false,
    "ExecuteTime": {
     "end_time": "2024-11-02T18:36:55.862347600Z",
     "start_time": "2024-11-02T18:36:55.845203700Z"
    }
   },
   "id": "c16fa8fbc5402844"
  },
  {
   "cell_type": "code",
   "execution_count": 175,
   "outputs": [
    {
     "data": {
      "text/plain": "<matplotlib.collections.PathCollection at 0x22ff89fe660>"
     },
     "execution_count": 175,
     "metadata": {},
     "output_type": "execute_result"
    },
    {
     "data": {
      "text/plain": "<Figure size 640x480 with 1 Axes>",
      "image/png": "[encoded data removed]"
     },
     "metadata": {},
     "output_type": "display_data"
    }
   ],
   "source": [
    "plt.scatter(range(1, len(means)+1), means, c=true)"
   ],
   "metadata": {
    "collapsed": false,
    "ExecuteTime": {
     "end_time": "2024-11-04T08:05:39.413399300Z",
     "start_time": "2024-11-04T08:05:39.093606600Z"
    }
   },
   "id": "3bff1b844649ad2e"
  },
  {
   "cell_type": "code",
   "execution_count": 129,
   "outputs": [
    {
     "data": {
      "text/plain": "<PIL.Image.Image image mode=P size=32x26>",
      "image/png": "[encoded data removed]"
     },
     "execution_count": 129,
     "metadata": {},
     "output_type": "execute_result"
    }
   ],
   "source": [
    "img_rgb = Image.open('kits/kit7.png')\n",
    "img_rgb = img_rgb.convert('P', palette=Image.ADAPTIVE, colors=2)\n",
    "img_rgb"
   ],
   "metadata": {
    "collapsed": false,
    "ExecuteTime": {
     "end_time": "2024-11-02T18:43:37.695852900Z",
     "start_time": "2024-11-02T18:43:37.666909400Z"
    }
   },
   "id": "febf3e39cf399816"
  }
 ],
 "metadata": {
  "kernelspec": {
   "display_name": "Python 3",
   "language": "python",
   "name": "python3"
  },
  "language_info": {
   "codemirror_mode": {
    "name": "ipython",
    "version": 2
   },
   "file_extension": ".py",
   "mimetype": "text/x-python",
   "name": "python",
   "nbconvert_exporter": "python",
   "pygments_lexer": "ipython2",
   "version": "2.7.6"
  }
 },
 "nbformat": 4,
 "nbformat_minor": 5
}
