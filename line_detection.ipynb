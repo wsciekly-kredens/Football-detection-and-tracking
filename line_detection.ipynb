{
 "cells": [
  {
   "cell_type": "code",
   "id": "initial_id",
   "metadata": {
    "collapsed": true
   },
   "source": [
    "from pandas import DataFrame\n",
    "from tqdm import tqdm\n",
    "import numpy as np\n",
    "import pandas as pd\n",
    "import cv2\n",
    "from ultralytics import YOLO\n",
    "import os\n",
    "import json\n",
    "import time\n",
    "import matplotlib.pyplot as plt"
   ],
   "outputs": [],
   "execution_count": null
  },
  {
   "metadata": {},
   "cell_type": "code",
   "source": [
    "DIRECTORY = 'data/SoccerNetGS/gamestate-2024/train/'\n",
    "\n",
    "\n",
    "def load_data(dir: str = None) -> list:\n",
    "    data = list()\n",
    "    print('Wczytywanie danych...')\n",
    "    for folder_name in tqdm(os.listdir(DIRECTORY)):\n",
    "        folder_full_path = os.path.join(DIRECTORY, folder_name)\n",
    "        if os.path.isdir(folder_full_path):\n",
    "            with open(os.path.join(DIRECTORY, folder_name, 'Labels-GameState.json')) as f:\n",
    "                d = json.load(f)\n",
    "                data.append(d['annotations'])\n",
    "    return data\n",
    "\n",
    "\n",
    "def parse_data_to_df(data: list) -> pd.DataFrame:\n",
    "    start = time.time()\n",
    "    print('Tworzenie DataFrame...')\n",
    "    flat_dict = dict()\n",
    "    for annotations in tqdm(data):\n",
    "        data_image = filter(lambda x: x['supercategory'] == 'object' \n",
    "                                      and x['bbox_pitch_raw'] is not None, annotations)\n",
    "        for img in data_image:\n",
    "            for key in img:\n",
    "                if isinstance(img[key], dict):\n",
    "                    for key2 in img[key]:\n",
    "                        if key + '_' + key2 not in flat_dict:\n",
    "                            flat_dict[key + '_' + key2] = []\n",
    "                        flat_dict[key + '_' + key2].append(img[key][key2])\n",
    "                else:\n",
    "                    if key not in flat_dict:\n",
    "                        flat_dict[key] = []\n",
    "                    flat_dict[key].append(img[key])\n",
    "    df = pd.DataFrame(flat_dict, index=flat_dict['id'])\n",
    "    df = df.drop(columns=['id'])\n",
    "    return df\n"
   ],
   "id": "f9e1dc3c9ea20dad",
   "outputs": [],
   "execution_count": null
  },
  {
   "metadata": {},
   "cell_type": "code",
   "source": [
    "def flatten_data(data: list[list[dict]]) -> list:\n",
    "    flat_list = [y for x in data for y in x]\n",
    "    return flat_list"
   ],
   "id": "d143871516fe14e0",
   "outputs": [],
   "execution_count": null
  },
  {
   "metadata": {},
   "cell_type": "code",
   "source": [
    "def get_pitch_data_df(data: list) -> pd.DataFrame:\n",
    "    pitch_data_dict = {'id': [], 'image_id': [], 'line_type': [], 'x': [], 'y': []}\n",
    "    data = filter(lambda x: x['supercategory'] == 'pitch', data)\n",
    "    for anotation in tqdm(data):\n",
    "        for line in anotation['lines']:\n",
    "            for data_point in anotation['lines'][line]:\n",
    "                pitch_data_dict['id'].append(int(anotation['id']))\n",
    "                pitch_data_dict['image_id'].append(int(anotation['image_id']))\n",
    "                pitch_data_dict['line_type'].append(line)\n",
    "                pitch_data_dict['x'].append(data_point['x'])\n",
    "                pitch_data_dict['y'].append(data_point['y'])\n",
    "    pitch_df = pd.DataFrame(pitch_data_dict)\n",
    "    return pitch_df"
   ],
   "id": "d963e7a27ba56ae0",
   "outputs": [],
   "execution_count": null
  },
  {
   "metadata": {},
   "cell_type": "code",
   "source": [
    "def denormalize_coordinates(x: float, y: float, img_width: int, img_height: int) -> tuple[int, int]:\n",
    "    return int(x * img_width), int(y * img_height)\n",
    "\n",
    "\n",
    "def draw_points_on_image(image: np.ndarray, coords: pd.DataFrame) -> np.ndarray:\n",
    "    image_height, image_width, _ = image.shape\n",
    "\n",
    "    colors = {\n",
    "        # 3 punkrtowce\n",
    "        'Circle central': (0, 255, 255),\n",
    "        'Circle left': (255, 255, 255),\n",
    "        'Circle right': (140, 159, 191),\n",
    "        # 'Goal left crossbar': (255, 128, 128),\n",
    "        # 'Goal left post left': (128, 255, 128),\n",
    "        # 'Goal left post right': (128, 128, 255),\n",
    "        # 'Goal right crossbar': (255, 128, 255),\n",
    "        # 'Goal right post left': (255, 255, 128),\n",
    "        # 'Goal right post right': (128, 255, 255),\n",
    "        # lewe pole karne\n",
    "        'Big rect. left bottom': (0,0,0),\n",
    "        'Big rect. left main': (0, 255, 0),\n",
    "        'Big rect. left top': (255, 0, 0),\n",
    "        'Small rect. left bottom': (64, 255, 128),\n",
    "        'Small rect. left main': (192, 255, 32),\n",
    "        'Small rect. left top': (32, 192, 255),\n",
    "        #prawe pole karne        \n",
    "        'Big rect. right bottom': (0, 0, 255),\n",
    "        'Big rect. right main': (255, 255, 0),\n",
    "        'Big rect. right top': (255, 0, 255),\n",
    "        'Small rect. right bottom': (255, 32, 192),\n",
    "        'Small rect. right main': (32, 255, 192),\n",
    "        'Small rect. right top': (192, 32, 255),\n",
    "        #linie\n",
    "        'Middle line': (255, 64, 128),\n",
    "        'Side line bottom': (128, 255, 64),\n",
    "        'Side line left': (64, 128, 255),\n",
    "        'Side line right': (128, 64, 255),\n",
    "        'Side line top': (255, 128, 64)\n",
    "    }\n",
    "    for i, row in coords.iterrows():\n",
    "        color = colors[row['line_type']] if row['line_type'] in colors.keys() else (0, 0, 0)\n",
    "        x_pixel, y_pixel = denormalize_coordinates(row['x'], row['y'], image_width, image_height)\n",
    "        cv2.circle(image, (x_pixel, y_pixel), radius=5, color=color, thickness=-1)\n",
    "    # for category, points in coords.items():\n",
    "    #     color = colors[category]\n",
    "    #     for point in points:\n",
    "    #         if category == 'Middle line':\n",
    "    #             x_pixel, y_pixel = denormalize_coordinates(point['x'], point['y'], image_width, image_height)\n",
    "    #             cv2.circle(image, (x_pixel, y_pixel), radius=5, color=color, thickness=-1)\n",
    "\n",
    "    scale_factor = min(1920 / image_width, 1080 / image_height)\n",
    "    if scale_factor < 1:\n",
    "        image = cv2.resize(image, (int(image_width * scale_factor), int(image_height * scale_factor)))\n",
    "\n",
    "    # cv2.imshow(\"Image with Points\", image)\n",
    "    # cv2.waitKey(0)\n",
    "    # cv2.destroyAllWindows()\n",
    "    return image"
   ],
   "id": "7abb52033361e083",
   "outputs": [],
   "execution_count": null
  },
  {
   "metadata": {},
   "cell_type": "code",
   "source": [
    "line_to_yolo_class_mapping = {\n",
    "    'Circle central': 0,\n",
    "    'Circle left': 1,\n",
    "    'Circle right': 2,\n",
    "    # lewe pole karne\n",
    "    'Big rect. left bottom': 3,\n",
    "    'Big rect. left main': 4,\n",
    "    'Big rect. left top': 5,\n",
    "    'Small rect. left bottom': 6,\n",
    "    'Small rect. left main': 7,\n",
    "    'Small rect. left top': 8,\n",
    "    #prawe pole karne        \n",
    "    'Big rect. right bottom': 9,\n",
    "    'Big rect. right main': 10,\n",
    "    'Big rect. right top': 11,\n",
    "    'Small rect. right bottom': 12,\n",
    "    'Small rect. right main': 13,\n",
    "    'Small rect. right top': 14,\n",
    "    #linie\n",
    "    'Middle line': 15,\n",
    "    'Side line bottom': 16,\n",
    "    'Side line left': 17,\n",
    "    'Side line right': 18,\n",
    "    'Side line top': 19\n",
    "}"
   ],
   "id": "20ea8d663f0478",
   "outputs": [],
   "execution_count": null
  },
  {
   "metadata": {},
   "cell_type": "code",
   "source": [
    "def get_yolo_file_for_pitch(df: pd.DataFrame, split: str) -> None:\n",
    "    file_contents = ['' for _ in range(df.image_id.nunique())]\n",
    "    df = df[df['line_type'].isin(line_to_yolo_class_mapping.keys())]\n",
    "    for i, row in tqdm(df.iterrows()):\n",
    "        line_type: str = row['line_type']\n",
    "        x: float = row['x']\n",
    "        y: float = row['y']\n",
    "        category: int = line_to_yolo_class_mapping[line_type]\n",
    "        file_contents[int(str(row['image_id'])[-3:]) - 1] += f'{category} {x} {y}\\n'\n",
    "    for i, file in tqdm(enumerate(file_contents)):\n",
    "        with open(f'datasets/football_lines/{split}/labels/{i + 1 :06d}.txt', 'w') as f:\n",
    "            f.write(file)"
   ],
   "id": "e54f94308d2096fb",
   "outputs": [],
   "execution_count": null
  },
  {
   "metadata": {},
   "cell_type": "code",
   "source": "data: list = load_data()",
   "id": "c3fdbd1583e0c5d5",
   "outputs": [],
   "execution_count": null
  },
  {
   "metadata": {},
   "cell_type": "code",
   "source": "flatten_data_list: list[dict] = flatten_data(data)",
   "id": "556e0cccd3790a7b",
   "outputs": [],
   "execution_count": null
  },
  {
   "metadata": {},
   "cell_type": "code",
   "source": "pitch_df: pd.DataFrame = get_pitch_data_df(flatten_data_list)",
   "id": "b8123786783d24fb",
   "outputs": [],
   "execution_count": null
  },
  {
   "metadata": {},
   "cell_type": "code",
   "source": "pitch_df",
   "id": "f4219ff284b866d4",
   "outputs": [],
   "execution_count": null
  },
  {
   "metadata": {},
   "cell_type": "code",
   "source": "pitch_df_one_clip = pitch_df[pitch_df['image_id'].astype(str).str.startswith('1060')]",
   "id": "1198bfda74f3b6b5",
   "outputs": [],
   "execution_count": null
  },
  {
   "metadata": {},
   "cell_type": "code",
   "source": "pitch_df_one_clip",
   "id": "f0b4d0e12fc5e966",
   "outputs": [],
   "execution_count": null
  },
  {
   "metadata": {},
   "cell_type": "code",
   "source": [
    "def get_line_pattern(x1: float, y1: float, x2: float, y2: float) -> tuple[float, float]:\n",
    "    # y = ax + b\n",
    "    a = (y1 - y2) / (x1 - x2)\n",
    "    b = y2 - a * x2\n",
    "    return a, b"
   ],
   "id": "dd36226f4f28bf42",
   "outputs": [],
   "execution_count": null
  },
  {
   "metadata": {},
   "cell_type": "code",
   "source": [
    "def get_circle_pattern(x1: float, y1: float, x2: float, y2: float, x3: float, y3: float) -> tuple[float, float, float]:\n",
    "    A = np.array([\n",
    "        [x1, x2, 1],\n",
    "        [x2, y2, 1],\n",
    "        [x3, y3, 1]\n",
    "    ])\n",
    "    \n",
    "    B = np.array([\n",
    "        [-(x1**2 + y1**2)],\n",
    "        [-(x2**2 + y2**2)],\n",
    "        [-(x3**2 + y3**2)]\n",
    "    ])\n",
    "    \n",
    "    d, e, f = np.linalg.solve(A, B).flatten()\n",
    "    \n",
    "    a = -d / 2\n",
    "    b = -e / 2\n",
    "    r = np.sqrt(pow(a, 2) + pow(b, 2) - f)\n",
    "    \n",
    "    return a, b, r"
   ],
   "id": "e5bacfb47db54060",
   "outputs": [],
   "execution_count": null
  },
  {
   "metadata": {},
   "cell_type": "code",
   "source": [
    "lista = [1, 2, 3]\n",
    "lista[:3]"
   ],
   "id": "4375ba7717b30a09",
   "outputs": [],
   "execution_count": null
  },
  {
   "metadata": {},
   "cell_type": "code",
   "source": [
    "def get_func_pattern(df: pd.DataFrame) -> dict[str, list[tuple]]:\n",
    "    func_patterns = {'line': [], 'circle': []}\n",
    "    df_list: list[pd.DataFrame] = [image_id for _, image_id in df.groupby('image_id')]\n",
    "    for df_of_image in df_list:\n",
    "        image_id: int = df_of_image.iloc[0]['image_id']\n",
    "        points_dict: dict[str, list] = {key: [] for key in df_of_image['line_type'].unique()}\n",
    "        for i, row in df_of_image.iterrows():\n",
    "            points_dict[row['line_type']].append((row['x'], row['y']))\n",
    "        for line in points_dict.keys():\n",
    "            if 'Circle' in line and len(points_dict[line]) >= 3:\n",
    "                points: list[float, float] = points_dict[line][:3]\n",
    "                flatten_points = []\n",
    "                for x, y in points:\n",
    "                    flatten_points.append(x * 1920)\n",
    "                    flatten_points.append(y * 1080)\n",
    "                func_pattern = get_circle_pattern(*flatten_points)\n",
    "                func_patterns['circle'].append((image_id, *func_pattern))\n",
    "            else:\n",
    "                points = points_dict[line][:2]\n",
    "                flatten_points = []\n",
    "                for x, y in points:\n",
    "                    flatten_points.append(x * 1920)\n",
    "                    flatten_points.append(y * 1080)\n",
    "                func_pattern = get_line_pattern(*flatten_points)\n",
    "                func_patterns['line'].append((image_id, *func_pattern))\n",
    "    return func_patterns"
   ],
   "id": "fdbcb2964bdbd50c",
   "outputs": [],
   "execution_count": null
  },
  {
   "metadata": {},
   "cell_type": "code",
   "source": "lines = get_func_pattern(pitch_df_one_clip)",
   "id": "c928a5079930d7c4",
   "outputs": [],
   "execution_count": null
  },
  {
   "metadata": {},
   "cell_type": "code",
   "source": "len(lines['circle'])",
   "id": "77cd00b479ac3325",
   "outputs": [],
   "execution_count": null
  },
  {
   "metadata": {},
   "cell_type": "code",
   "source": [
    "lines\n",
    "# TODO uzupełnić o dane i narysować na obrazie te linie"
   ],
   "id": "c3940eb18ecb0f75",
   "outputs": [],
   "execution_count": null
  },
  {
   "metadata": {},
   "cell_type": "code",
   "source": [
    "def draw_on_image(image: np.array, func: tuple):\n",
    "    image_id = func[0]\n",
    "    a = func[1]\n",
    "    b = func[2]\n",
    "    print(f'f(x) = {a}x + {b}')\n",
    "    image = cv2.imread(image)\n",
    "    print(image.shape)\n",
    "    image_rgb = cv2.cvtColor(image, cv2.COLOR_BGR2RGB)\n",
    "    x = np.linspace(0, image.shape[1], 100)  # Zakres x, dopasowany do szerokości obrazu\n",
    "    y = a * x + b\n",
    "    plt.figure(figsize=(image.shape[1] / 50, image.shape[0] / 50), dpi=100)  # Dopasowanie rozmiaru\n",
    "    plt.imshow(image_rgb)  # Wyświetlenie obrazu\n",
    "    plt.plot(x, y, color='red', linewidth=2)\n",
    "    plt.yticks(np.arange(0, image.shape[0], 20))\n",
    "    plt.xticks(np.arange(0, image.shape[1], 40))\n",
    "    plt.grid()\n",
    "    plt.show()"
   ],
   "id": "1ef28029158c25b0",
   "outputs": [],
   "execution_count": null
  },
  {
   "metadata": {},
   "cell_type": "code",
   "source": [
    "path = 'data/SoccerNetGS/gamestate-2024/train/SNGS-060/img1/000001.jpg'\n",
    "draw_on_image(path, lines['line'][0])"
   ],
   "id": "2210c09b0d841a79",
   "outputs": [],
   "execution_count": null
  },
  {
   "metadata": {},
   "cell_type": "code",
   "source": [
    "img = cv2.imread(path)\n",
    "edited = draw_points_on_image(img, pitch_df_one_clip[pitch_df_one_clip['image_id'] == 1060000001])"
   ],
   "id": "3b5aaf29a4d07b3c",
   "outputs": [],
   "execution_count": null
  },
  {
   "metadata": {},
   "cell_type": "code",
   "source": [
    "cv2.imshow(\"img with points\", edited)\n",
    "cv2.waitKey(0)\n",
    "cv2.destroyAllWindows()"
   ],
   "id": "a0fb98d6bd6e332d",
   "outputs": [],
   "execution_count": null
  },
  {
   "metadata": {},
   "cell_type": "code",
   "source": "",
   "id": "8c3d5556d62180ce",
   "outputs": [],
   "execution_count": null
  }
 ],
 "metadata": {
  "kernelspec": {
   "display_name": "Python 3",
   "language": "python",
   "name": "python3"
  },
  "language_info": {
   "codemirror_mode": {
    "name": "ipython",
    "version": 2
   },
   "file_extension": ".py",
   "mimetype": "text/x-python",
   "name": "python",
   "nbconvert_exporter": "python",
   "pygments_lexer": "ipython2",
   "version": "2.7.6"
  }
 },
 "nbformat": 4,
 "nbformat_minor": 5
}
