{
 "cells": [
  {
   "cell_type": "code",
   "id": "initial_id",
   "metadata": {
    "collapsed": true
   },
   "source": [
    "from mplsoccer.pitch import Pitch\n",
    "import numpy as np\n",
    "import matplotlib.pyplot as plt\n",
    "import cv2\n",
    "from prompt_toolkit.shortcuts.progress_bar import Label\n",
    "\n",
    "from data_parse import DataParser\n",
    "from keypoint import Keypoint\n",
    "import pandas as pd"
   ],
   "outputs": [],
   "execution_count": null
  },
  {
   "metadata": {},
   "cell_type": "code",
   "source": [
    "directory = 'data/SoccerNetGS/gamestate-2024/train/'\n",
    "data_parser = DataParser(directory)\n",
    "data = data_parser.parse_data_to_df()"
   ],
   "id": "65c8e7db65b2c0cd",
   "outputs": [],
   "execution_count": null
  },
  {
   "metadata": {},
   "cell_type": "code",
   "source": "one_img_data = data[data['image_id'] == '1060000001']",
   "id": "b8cd9032d1104cdc",
   "outputs": [],
   "execution_count": null
  },
  {
   "metadata": {},
   "cell_type": "code",
   "source": "positional_data: pd.DataFrame = data_parser.get_shirts_data()",
   "id": "3e7529cc3734dd72",
   "outputs": [],
   "execution_count": null
  },
  {
   "metadata": {},
   "cell_type": "code",
   "source": "positional_data",
   "id": "c0dd72ee181b4517",
   "outputs": [],
   "execution_count": null
  },
  {
   "metadata": {},
   "cell_type": "code",
   "source": "pitch_data: pd.DataFrame = data_parser.get_pitch_data_df()",
   "id": "6a77aa4dcb2429c9",
   "outputs": [],
   "execution_count": null
  },
  {
   "metadata": {},
   "cell_type": "code",
   "source": "pitch_data_one_img = pitch_data[pitch_data['image_id'] == 1060000233]",
   "id": "21947d112e3785e3",
   "outputs": [],
   "execution_count": null
  },
  {
   "metadata": {},
   "cell_type": "code",
   "source": [
    "keypoint = Keypoint()\n",
    "lines = keypoint.get_func_pattern(pitch_data_one_img)"
   ],
   "id": "f7f75444413dc74c",
   "outputs": [],
   "execution_count": null
  },
  {
   "metadata": {},
   "cell_type": "code",
   "source": "lines",
   "id": "e359ce5a0e7f94f",
   "outputs": [],
   "execution_count": null
  },
  {
   "metadata": {},
   "cell_type": "code",
   "source": "keypoints = keypoint.get_all_keypoints_by_id(np.int64(1060000233))",
   "id": "9000351fd98d98ea",
   "outputs": [],
   "execution_count": null
  },
  {
   "metadata": {},
   "cell_type": "code",
   "source": "keypoints",
   "id": "86ac0238ff2f6cea",
   "outputs": [],
   "execution_count": null
  },
  {
   "metadata": {},
   "cell_type": "code",
   "source": "",
   "id": "c3ad3fb6257f5a6d",
   "outputs": [],
   "execution_count": null
  },
  {
   "metadata": {},
   "cell_type": "code",
   "source": "keypoints_not_none = [point for point in keypoints if point is not None]",
   "id": "6ac7e8dab679638a",
   "outputs": [],
   "execution_count": null
  },
  {
   "metadata": {},
   "cell_type": "code",
   "source": "keypoints_np = np.array([[x, y] for x, y in keypoints_not_none])",
   "id": "10cf0407b886e6fd",
   "outputs": [],
   "execution_count": null
  },
  {
   "metadata": {},
   "cell_type": "code",
   "source": "keypoints_np = keypoints_np[:4]",
   "id": "61dd3a813cf75ce5",
   "outputs": [],
   "execution_count": null
  },
  {
   "metadata": {},
   "cell_type": "code",
   "source": "keypoints_np",
   "id": "a2a0d77c1954271c",
   "outputs": [],
   "execution_count": null
  },
  {
   "metadata": {},
   "cell_type": "code",
   "source": [
    "image = cv2.imread('data/SoccerNetGS/gamestate-2024/train/SNGS-060/img1/000233.jpg')\n",
    "for point in keypoints[-4:]:\n",
    "    if point is not None:\n",
    "        cv2.circle(image, (int(point[0]), int(point[1])), 5, (0, 0, 255), -1)\n",
    "cv2.imshow('image', image)\n",
    "cv2.waitKey(0)\n",
    "cv2.destroyAllWindows()"
   ],
   "id": "3476bdc920dcdd56",
   "outputs": [],
   "execution_count": null
  },
  {
   "metadata": {},
   "cell_type": "code",
   "source": "real_pitch_coordinates = np.array([[16.5, 13.85], [0.0, 43.15], [0.0, 68.0], [16.5, 54.15]])",
   "id": "18f0c129b1433e9b",
   "outputs": [],
   "execution_count": null
  },
  {
   "metadata": {},
   "cell_type": "code",
   "source": "print(real_pitch_coordinates)",
   "id": "6ea02e4ac08486b1",
   "outputs": [],
   "execution_count": null
  },
  {
   "metadata": {},
   "cell_type": "code",
   "source": "homography_mat, mask = cv2.findHomography(keypoints_np, real_pitch_coordinates)",
   "id": "3df40ddec2528ced",
   "outputs": [],
   "execution_count": null
  },
  {
   "metadata": {},
   "cell_type": "code",
   "source": "homography_mat",
   "id": "6eec34c60f62810",
   "outputs": [],
   "execution_count": null
  },
  {
   "metadata": {},
   "cell_type": "code",
   "source": [
    "# pith size in meters\n",
    "pitch_length = 105\n",
    "pitch_width = 68"
   ],
   "id": "35328b6e0950785c",
   "outputs": [],
   "execution_count": null
  },
  {
   "metadata": {},
   "cell_type": "code",
   "source": [
    "positional_data_one_img = positional_data[positional_data['image_id'] == '1060000233']\n",
    "positional_data_one_img"
   ],
   "id": "d6ce0e4a66616a60",
   "outputs": [],
   "execution_count": null
  },
  {
   "metadata": {},
   "cell_type": "code",
   "source": [
    "player_position_df = positional_data_one_img.copy()\n",
    "player_position_df['x'] = player_position_df['bbox_image_x'] + player_position_df['bbox_image_w'] / 2"
   ],
   "id": "c28903c9efd7823",
   "outputs": [],
   "execution_count": null
  },
  {
   "metadata": {},
   "cell_type": "code",
   "source": "player_position_df['y'] = player_position_df['bbox_image_y'] + player_position_df['bbox_image_h'] / 2",
   "id": "e9f573b262f937c6",
   "outputs": [],
   "execution_count": null
  },
  {
   "metadata": {},
   "cell_type": "code",
   "source": "player_position_df.drop(columns=['bbox_image_x', 'bbox_image_y', 'bbox_image_w', 'bbox_image_h'], inplace=True)",
   "id": "ac813fe2110682cc",
   "outputs": [],
   "execution_count": null
  },
  {
   "metadata": {},
   "cell_type": "code",
   "source": "player_position_df",
   "id": "d25ddbc07cd302d9",
   "outputs": [],
   "execution_count": null
  },
  {
   "metadata": {},
   "cell_type": "code",
   "source": "player_position_df_np = player_position_df.to_numpy()",
   "id": "ae3092f1d2a40cf6",
   "outputs": [],
   "execution_count": null
  },
  {
   "metadata": {},
   "cell_type": "code",
   "source": "player_position_df_np",
   "id": "29cfa8305f774714",
   "outputs": [],
   "execution_count": null
  },
  {
   "metadata": {},
   "cell_type": "code",
   "source": "points_src = player_position_df.drop(columns=['image_id', 'attributes_team']).to_numpy()",
   "id": "be6709831c438fd6",
   "outputs": [],
   "execution_count": null
  },
  {
   "metadata": {},
   "cell_type": "code",
   "source": "points_src = np.array([[x, y] for x, y in points_src])",
   "id": "7ee9cb30a6b06d0e",
   "outputs": [],
   "execution_count": null
  },
  {
   "metadata": {},
   "cell_type": "code",
   "source": "points_src",
   "id": "f4e0f821af18ebc8",
   "outputs": [],
   "execution_count": null
  },
  {
   "metadata": {},
   "cell_type": "code",
   "source": "points_src = points_src.reshape(-1, 1, 2)",
   "id": "55d18fbe66f884f7",
   "outputs": [],
   "execution_count": null
  },
  {
   "metadata": {},
   "cell_type": "code",
   "source": "points_dst = cv2.perspectiveTransform(points_src, homography_mat)",
   "id": "76b1b7b97f291b1a",
   "outputs": [],
   "execution_count": null
  },
  {
   "metadata": {},
   "cell_type": "code",
   "source": "points_dst = points_dst.reshape(-1, 2)",
   "id": "b141c2c6767e95fa",
   "outputs": [],
   "execution_count": null
  },
  {
   "metadata": {},
   "cell_type": "code",
   "source": "points_dst",
   "id": "6fb552830b699231",
   "outputs": [],
   "execution_count": null
  },
  {
   "metadata": {},
   "cell_type": "code",
   "source": "points_dst[:, 1] = 68 - points_dst[:, 1]",
   "id": "9a30534eb91cfc77",
   "outputs": [],
   "execution_count": null
  },
  {
   "metadata": {},
   "cell_type": "code",
   "source": "points_dst",
   "id": "108530d6e604760b",
   "outputs": [],
   "execution_count": null
  },
  {
   "metadata": {},
   "cell_type": "code",
   "source": [
    "from mplsoccer import Pitch, Sbopen\n",
    "import matplotlib.pyplot as plt\n",
    "\n",
    "# read data\n",
    "parser = Sbopen()\n",
    "df, related, freeze, tactics = parser.event(7478)"
   ],
   "id": "7ddc695a8fbd6590",
   "outputs": [],
   "execution_count": null
  },
  {
   "metadata": {},
   "cell_type": "code",
   "source": "df = df[(df.player_name == 'Jodie Taylor') & (df.type_name == 'Pass')].copy()",
   "id": "b77a6e7f0c72c30",
   "outputs": [],
   "execution_count": null
  },
  {
   "metadata": {},
   "cell_type": "code",
   "source": [
    "pitch = Pitch()\n",
    "fig, ax = pitch.draw(figsize=(8, 6))\n",
    "scatter = pitch.scatter(df.x, df.y, ax=ax, edgecolor='black', facecolor='cornflowerblue')\n",
    "plt.show()"
   ],
   "id": "a234f42716f016ab",
   "outputs": [],
   "execution_count": null
  },
  {
   "metadata": {},
   "cell_type": "code",
   "source": "team = player_position_df['attributes_team'].to_numpy()",
   "id": "790499724f95d505",
   "outputs": [],
   "execution_count": null
  },
  {
   "metadata": {},
   "cell_type": "code",
   "source": "team = np.where(team == 'left', 1, 0)",
   "id": "da6f04165182cb82",
   "outputs": [],
   "execution_count": null
  },
  {
   "metadata": {},
   "cell_type": "code",
   "source": "team",
   "id": "9fff8414112f8b6e",
   "outputs": [],
   "execution_count": null
  },
  {
   "metadata": {},
   "cell_type": "code",
   "source": [
    "pitch = Pitch(pitch_type='uefa', axis=True, label=True)\n",
    "fig, ax = pitch.draw()\n",
    "scatter = pitch.scatter(points_dst[:, 0], points_dst[:, 1], ax=ax, edgecolor=\"black\", c=team)\n",
    "plt.grid()"
   ],
   "id": "ff97040ef64b48f1",
   "outputs": [],
   "execution_count": null
  },
  {
   "metadata": {},
   "cell_type": "code",
   "source": "plt.show()",
   "id": "14500a2096dad54b",
   "outputs": [],
   "execution_count": null
  },
  {
   "metadata": {},
   "cell_type": "code",
   "source": "points_dst[1:, 1]",
   "id": "5def96d517420537",
   "outputs": [],
   "execution_count": null
  },
  {
   "metadata": {},
   "cell_type": "code",
   "source": [
    "pitch_length = 105\n",
    "pitch_width = 68\n",
    "corner_to_box_edge = 13.85\n",
    "box_edge_to_goal = 16.5\n",
    "goal_width = 7.32\n",
    "inside_box_edge_to_goal = 5.5\n",
    "box_length = 16.5\n",
    "inside_box_length = 5.5\n",
    "circle_radius = 9.15\n",
    "big_box_edge_to_inside_box_edge = box_edge_to_goal - inside_box_edge_to_goal\n",
    "\n",
    "real_pitch_coordinates_full = np.array([\n",
    "    [0.0, 0.0],\n",
    "    [0.0, corner_to_box_edge],\n",
    "    [0.0, corner_to_box_edge + big_box_edge_to_inside_box_edge],\n",
    "    [0.0, 68.0 - corner_to_box_edge - big_box_edge_to_inside_box_edge],\n",
    "    [0.0, 68.0 - corner_to_box_edge],\n",
    "    [0.0, 68.0],\n",
    "    \n",
    "    [inside_box_length, corner_to_box_edge + big_box_edge_to_inside_box_edge],\n",
    "    [inside_box_length, 68 - corner_to_box_edge - big_box_edge_to_inside_box_edge],\n",
    "    \n",
    "    [11.0, pitch_width/2],\n",
    "    \n",
    "    [box_length, corner_to_box_edge],\n",
    "    [box_length, 34.0 - 7.66],\n",
    "    [box_length, 34.0 + 7.66],\n",
    "    [box_length, 68 - corner_to_box_edge],\n",
    "    \n",
    "    [pitch_length/2 - circle_radius, pitch_width/2],\n",
    "    \n",
    "    [pitch_length/2, 0.0],\n",
    "    [pitch_length/2, pitch_width/2 - circle_radius],\n",
    "    [pitch_length/2, pitch_width/2 + circle_radius],\n",
    "    [pitch_length/2, 68.0],\n",
    "    \n",
    "    [pitch_length/2 + circle_radius, pitch_width/2],\n",
    "    \n",
    "    [pitch_length - box_length, corner_to_box_edge],\n",
    "    [pitch_length - box_length, 34.0 - 7.66],\n",
    "    [pitch_length - box_length, 34.0 + 7.66],\n",
    "    [pitch_length - box_length, 68 - corner_to_box_edge],\n",
    "    \n",
    "    [pitch_length - 11.0, pitch_width/2],\n",
    "    \n",
    "    [pitch_length - inside_box_length, corner_to_box_edge + big_box_edge_to_inside_box_edge],\n",
    "    [pitch_length - inside_box_length, 68 - corner_to_box_edge - big_box_edge_to_inside_box_edge],\n",
    "    \n",
    "    [pitch_length, 0.0],\n",
    "    [pitch_length, corner_to_box_edge],\n",
    "    [pitch_length, corner_to_box_edge + big_box_edge_to_inside_box_edge],\n",
    "    [pitch_length, 68.0 - corner_to_box_edge - big_box_edge_to_inside_box_edge],\n",
    "    [pitch_length, 68.0 - corner_to_box_edge],\n",
    "    [pitch_length, 68.0]\n",
    "])"
   ],
   "id": "ab7d61ad6df675d3",
   "outputs": [],
   "execution_count": null
  },
  {
   "metadata": {},
   "cell_type": "code",
   "source": "real_pitch_coordinates_full",
   "id": "81bbb5daa9d4a389",
   "outputs": [],
   "execution_count": null
  }
 ],
 "metadata": {
  "kernelspec": {
   "display_name": "Python 3",
   "language": "python",
   "name": "python3"
  },
  "language_info": {
   "codemirror_mode": {
    "name": "ipython",
    "version": 2
   },
   "file_extension": ".py",
   "mimetype": "text/x-python",
   "name": "python",
   "nbconvert_exporter": "python",
   "pygments_lexer": "ipython2",
   "version": "2.7.6"
  }
 },
 "nbformat": 4,
 "nbformat_minor": 5
}
