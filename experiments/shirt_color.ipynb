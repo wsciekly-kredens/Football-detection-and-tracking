{
 "cells": [
  {
   "cell_type": "code",
   "id": "initial_id",
   "metadata": {
    "collapsed": true,
    "ExecuteTime": {
     "end_time": "2024-12-03T17:24:38.087693Z",
     "start_time": "2024-12-03T17:24:37.889047Z"
    }
   },
   "source": [
    "import cv2\n",
    "import numpy as np\n",
    "import pandas as pd\n",
    "from data_parse import DataParser\n",
    "from shirt_color import ShirtColor\n",
    "import random\n",
    "from tqdm import tqdm\n",
    "import matplotlib.pyplot as plt"
   ],
   "outputs": [],
   "execution_count": 1
  },
  {
   "metadata": {
    "ExecuteTime": {
     "end_time": "2024-12-03T17:24:53.661328Z",
     "start_time": "2024-12-03T17:24:39.521872Z"
    }
   },
   "cell_type": "code",
   "source": [
    "directory = '../data/SoccerNetGS/gamestate-2024/test/'\n",
    "data_parser = DataParser(directory)\n",
    "df = data_parser.parse_data_to_df()"
   ],
   "id": "5632756686bfbeb",
   "outputs": [
    {
     "name": "stdout",
     "output_type": "stream",
     "text": [
      "Wczytywanie danych...\n"
     ]
    },
    {
     "name": "stderr",
     "output_type": "stream",
     "text": [
      "100%|██████████| 50/50 [00:08<00:00,  5.62it/s]\n"
     ]
    },
    {
     "name": "stdout",
     "output_type": "stream",
     "text": [
      "Tworzenie DataFrame...\n"
     ]
    },
    {
     "name": "stderr",
     "output_type": "stream",
     "text": [
      "100%|██████████| 49/49 [00:03<00:00, 15.97it/s]\n"
     ]
    }
   ],
   "execution_count": 2
  },
  {
   "metadata": {
    "ExecuteTime": {
     "end_time": "2024-12-03T17:24:53.718987Z",
     "start_time": "2024-12-03T17:24:53.664326Z"
    }
   },
   "cell_type": "code",
   "source": "indexes = random.sample(list(df['image_id'].unique()), 500)",
   "id": "1f8b2f83104a629e",
   "outputs": [],
   "execution_count": 3
  },
  {
   "metadata": {
    "ExecuteTime": {
     "end_time": "2024-12-03T17:24:53.935487Z",
     "start_time": "2024-12-03T17:24:53.930966Z"
    }
   },
   "cell_type": "code",
   "source": [
    "def get_predictions(crop_factor: float = 0.25):\n",
    "    prediction_results = {}\n",
    "    are_kits_saved = False\n",
    "    for img_id in tqdm(indexes):\n",
    "        img_path = f'../data/SoccerNetGS/gamestate-2024/test/SNGS-{img_id[1:4]}/img1/{img_id[-6:]}.jpg'\n",
    "        frame = cv2.imread(img_path)\n",
    "        shirts_data: pd.DataFrame = data_parser.get_shirts_data(img_id)\n",
    "        shirts_data['x2'] = shirts_data['bbox_image_x'] + shirts_data['bbox_image_w']\n",
    "        shirts_data['y2'] = shirts_data['bbox_image_y'] + shirts_data['bbox_image_h']\n",
    "        b_boxes = [row for row in shirts_data[['bbox_image_x', 'bbox_image_y', 'x2', 'y2']].values]\n",
    "        true_values = [1 if row == 'left' else 0 for row in shirts_data['attributes_team'].values]\n",
    "        if len(b_boxes) > 1:\n",
    "            shirt_color = ShirtColor(frame, b_boxes, true_values)\n",
    "            shirt_color.set_crop_factor(crop_factor)\n",
    "            accuracy = shirt_color.run_prediction_with_rgb()\n",
    "            prediction_results[img_id] = accuracy\n",
    "            if not are_kits_saved:\n",
    "                shirt_color.plot_average_color(f'kits/kits_rgb_clustering_{crop_factor}.png')\n",
    "                are_kits_saved = True\n",
    "    return prediction_results"
   ],
   "id": "2ca1ff5113bbec28",
   "outputs": [],
   "execution_count": 4
  },
  {
   "metadata": {
    "ExecuteTime": {
     "end_time": "2024-12-03T17:46:19.970019Z",
     "start_time": "2024-12-03T17:42:57.654316Z"
    }
   },
   "cell_type": "code",
   "source": [
    "# Jako że to podział na 2 klasy, to accuracy jest zawsze większe niż 0.5, nie jestem w stanie zapewnić że to co w danych jest jako 1 też dostranie numer klasy równy 1 w kmeansie\n",
    "acc = {}\n",
    "for x in [0.0, 0.1, 0.2, 0.25, 0.3, 0.35, 0.4]:\n",
    "    prediction_results = get_predictions(x)\n",
    "    prediction_results_mapped = {k: 1 - v if v < 0.5 else v for k, v in prediction_results.items()}\n",
    "    avg_prediction = sum(prediction_results_mapped.values()) / len(prediction_results_mapped)\n",
    "    acc[x] = avg_prediction\n",
    "    print(f'Crop factor: {x}, avg prediction: {avg_prediction}')"
   ],
   "id": "bd783b92729cccd0",
   "outputs": [
    {
     "name": "stderr",
     "output_type": "stream",
     "text": [
      "100%|██████████| 500/500 [00:28<00:00, 17.40it/s]\n"
     ]
    },
    {
     "name": "stdout",
     "output_type": "stream",
     "text": [
      "Crop factor: 0.0, avg prediction: 0.9265212928274933\n"
     ]
    },
    {
     "name": "stderr",
     "output_type": "stream",
     "text": [
      "100%|██████████| 500/500 [00:28<00:00, 17.52it/s]\n"
     ]
    },
    {
     "name": "stdout",
     "output_type": "stream",
     "text": [
      "Crop factor: 0.1, avg prediction: 0.9394087036810557\n"
     ]
    },
    {
     "name": "stderr",
     "output_type": "stream",
     "text": [
      "100%|██████████| 500/500 [00:29<00:00, 17.03it/s]\n"
     ]
    },
    {
     "name": "stdout",
     "output_type": "stream",
     "text": [
      "Crop factor: 0.2, avg prediction: 0.9422169540978383\n"
     ]
    },
    {
     "name": "stderr",
     "output_type": "stream",
     "text": [
      "100%|██████████| 500/500 [00:29<00:00, 17.00it/s]\n"
     ]
    },
    {
     "name": "stdout",
     "output_type": "stream",
     "text": [
      "Crop factor: 0.25, avg prediction: 0.9424681368752484\n"
     ]
    },
    {
     "name": "stderr",
     "output_type": "stream",
     "text": [
      "100%|██████████| 500/500 [00:29<00:00, 17.00it/s]\n"
     ]
    },
    {
     "name": "stdout",
     "output_type": "stream",
     "text": [
      "Crop factor: 0.3, avg prediction: 0.9377048086552855\n"
     ]
    },
    {
     "name": "stderr",
     "output_type": "stream",
     "text": [
      "100%|██████████| 500/500 [00:28<00:00, 17.66it/s]\n"
     ]
    },
    {
     "name": "stdout",
     "output_type": "stream",
     "text": [
      "Crop factor: 0.35, avg prediction: 0.9297277284119392\n"
     ]
    },
    {
     "name": "stderr",
     "output_type": "stream",
     "text": [
      "100%|██████████| 500/500 [00:28<00:00, 17.54it/s]"
     ]
    },
    {
     "name": "stdout",
     "output_type": "stream",
     "text": [
      "Crop factor: 0.4, avg prediction: 0.9232331571835967\n"
     ]
    },
    {
     "name": "stderr",
     "output_type": "stream",
     "text": [
      "\n"
     ]
    }
   ],
   "execution_count": 13
  },
  {
   "metadata": {
    "ExecuteTime": {
     "end_time": "2024-12-03T17:30:43.211575Z",
     "start_time": "2024-12-03T17:30:43.206575Z"
    }
   },
   "cell_type": "code",
   "source": [
    "def get_grayscale_predictions(crop_factor: float = 0.25):\n",
    "    prediction_results = {}\n",
    "    are_kits_saved = False\n",
    "    for img_id in tqdm(indexes):\n",
    "        img_path = f'../data/SoccerNetGS/gamestate-2024/test/SNGS-{img_id[1:4]}/img1/{img_id[-6:]}.jpg'\n",
    "        frame = cv2.imread(img_path)\n",
    "        shirts_data: pd.DataFrame = data_parser.get_shirts_data(img_id)\n",
    "        shirts_data['x2'] = shirts_data['bbox_image_x'] + shirts_data['bbox_image_w']\n",
    "        shirts_data['y2'] = shirts_data['bbox_image_y'] + shirts_data['bbox_image_h']\n",
    "        b_boxes = [row for row in shirts_data[['bbox_image_x', 'bbox_image_y', 'x2', 'y2']].values]\n",
    "        true_values = [1 if row == 'left' else 0 for row in shirts_data['attributes_team'].values]\n",
    "        if len(b_boxes) > 1:\n",
    "            shirt_color = ShirtColor(frame, b_boxes, true_values)\n",
    "            shirt_color.set_crop_factor(crop_factor)\n",
    "            accuracy = shirt_color.run_prediction()\n",
    "            prediction_results[img_id] = accuracy\n",
    "            if not are_kits_saved:\n",
    "                shirt_color.plot_average_color(f'kits/kits_grayscale_clustering_{crop_factor}.png')\n",
    "                are_kits_saved = True\n",
    "    return prediction_results"
   ],
   "id": "56a076264bd44ca7",
   "outputs": [],
   "execution_count": 8
  },
  {
   "metadata": {
    "ExecuteTime": {
     "end_time": "2024-12-03T17:57:19.689730Z",
     "start_time": "2024-12-03T17:53:42.537240Z"
    }
   },
   "cell_type": "code",
   "source": [
    "acc_grayscale = {}\n",
    "for x in [0.0, 0.1, 0.2, 0.25, 0.3, 0.35, 0.4]:\n",
    "    prediction_results = get_grayscale_predictions(x)\n",
    "    prediction_results_mapped = {k: 1 - v if v < 0.5 else v for k, v in prediction_results.items()}\n",
    "    avg_prediction = sum(prediction_results_mapped.values()) / len(prediction_results_mapped)\n",
    "    acc_grayscale[x] = avg_prediction\n",
    "    print(f'Crop factor: {x}, avg prediction: {avg_prediction}')"
   ],
   "id": "1c8bbbb5a988fa48",
   "outputs": [
    {
     "name": "stderr",
     "output_type": "stream",
     "text": [
      "100%|██████████| 500/500 [00:33<00:00, 15.06it/s]\n"
     ]
    },
    {
     "name": "stdout",
     "output_type": "stream",
     "text": [
      "Crop factor: 0.0, avg prediction: 0.8522743617925272\n"
     ]
    },
    {
     "name": "stderr",
     "output_type": "stream",
     "text": [
      "100%|██████████| 500/500 [00:31<00:00, 15.69it/s]\n"
     ]
    },
    {
     "name": "stdout",
     "output_type": "stream",
     "text": [
      "Crop factor: 0.1, avg prediction: 0.8733588931815957\n"
     ]
    },
    {
     "name": "stderr",
     "output_type": "stream",
     "text": [
      "100%|██████████| 500/500 [00:32<00:00, 15.52it/s]\n"
     ]
    },
    {
     "name": "stdout",
     "output_type": "stream",
     "text": [
      "Crop factor: 0.2, avg prediction: 0.8832910274280245\n"
     ]
    },
    {
     "name": "stderr",
     "output_type": "stream",
     "text": [
      "100%|██████████| 500/500 [00:30<00:00, 16.21it/s]\n"
     ]
    },
    {
     "name": "stdout",
     "output_type": "stream",
     "text": [
      "Crop factor: 0.25, avg prediction: 0.8846110581714146\n"
     ]
    },
    {
     "name": "stderr",
     "output_type": "stream",
     "text": [
      "100%|██████████| 500/500 [00:30<00:00, 16.50it/s]\n"
     ]
    },
    {
     "name": "stdout",
     "output_type": "stream",
     "text": [
      "Crop factor: 0.3, avg prediction: 0.8797332069215414\n"
     ]
    },
    {
     "name": "stderr",
     "output_type": "stream",
     "text": [
      "100%|██████████| 500/500 [00:29<00:00, 16.98it/s]\n"
     ]
    },
    {
     "name": "stdout",
     "output_type": "stream",
     "text": [
      "Crop factor: 0.35, avg prediction: 0.8691996085976171\n"
     ]
    },
    {
     "name": "stderr",
     "output_type": "stream",
     "text": [
      "100%|██████████| 500/500 [00:29<00:00, 17.10it/s]"
     ]
    },
    {
     "name": "stdout",
     "output_type": "stream",
     "text": [
      "Crop factor: 0.4, avg prediction: 0.8577603633823159\n"
     ]
    },
    {
     "name": "stderr",
     "output_type": "stream",
     "text": [
      "\n"
     ]
    }
   ],
   "execution_count": 16
  },
  {
   "metadata": {
    "ExecuteTime": {
     "end_time": "2024-12-03T18:00:44.100482Z",
     "start_time": "2024-12-03T18:00:43.978746Z"
    }
   },
   "cell_type": "code",
   "source": [
    "x = list(acc.keys())\n",
    "y1 = list(acc.values())\n",
    "y2 = list(acc_grayscale.values())\n",
    "plt.figure(figsize=(10, 6))\n",
    "plt.plot(x, y1, label='RGB', marker='o')\n",
    "plt.plot(x, y2, label='Grayscale', marker='o')\n",
    "plt.title('Accuracy for different crop factors')\n",
    "plt.grid\n",
    "plt.ylim(0, 1)\n",
    "plt.xlabel('Crop factor')\n",
    "plt.ylabel('Accuracy')\n",
    "plt.legend()\n",
    "plt.show()"
   ],
   "id": "9ba626a46ca94948",
   "outputs": [
    {
     "data": {
      "text/plain": [
       "<Figure size 1000x600 with 1 Axes>"
      ],
      "image/png": "[encoded data removed]"
     },
     "metadata": {},
     "output_type": "display_data"
    }
   ],
   "execution_count": 24
  },
  {
   "metadata": {},
   "cell_type": "markdown",
   "source": "Tak na prawe to można jeszcze ten wykres stestować dla innych przestrzeni barw i jak to wpłynie na accuracy",
   "id": "c1986b70ff8c523a"
  },
  {
   "metadata": {
    "ExecuteTime": {
     "end_time": "2024-12-02T20:16:10.632101900Z",
     "start_time": "2024-12-02T20:12:19.604673Z"
    }
   },
   "cell_type": "code",
   "source": [
    "plt.figure(figsize=(10, 6))\n",
    "plt.bar(prediction_results_mapped.keys(), prediction_results_mapped.values())\n",
    "plt.axhline(y=avg_prediction, color='r', linestyle='-')\n",
    "plt.show()\n"
   ],
   "id": "c107334a91adf72e",
   "outputs": [
    {
     "data": {
      "text/plain": [
       "<Figure size 1000x600 with 1 Axes>"
      ],
      "image/png": "[encoded data removed]"
     },
     "metadata": {},
     "output_type": "display_data"
    }
   ],
   "execution_count": 7
  }
 ],
 "metadata": {
  "kernelspec": {
   "display_name": "Python 3",
   "language": "python",
   "name": "python3"
  },
  "language_info": {
   "codemirror_mode": {
    "name": "ipython",
    "version": 2
   },
   "file_extension": ".py",
   "mimetype": "text/x-python",
   "name": "python",
   "nbconvert_exporter": "python",
   "pygments_lexer": "ipython2",
   "version": "2.7.6"
  }
 },
 "nbformat": 4,
 "nbformat_minor": 5
}
