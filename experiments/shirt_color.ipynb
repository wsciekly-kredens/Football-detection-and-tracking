{
 "cells": [
  {
   "cell_type": "code",
   "id": "initial_id",
   "metadata": {
    "collapsed": true,
    "ExecuteTime": {
     "end_time": "2024-12-08T20:01:26.721019Z",
     "start_time": "2024-12-08T20:01:22.622938Z"
    }
   },
   "source": [
    "import cv2\n",
    "import pandas as pd\n",
    "from src.utils import DataParser\n",
    "from src.calculations import ShirtColor\n",
    "import random\n",
    "from tqdm import tqdm\n",
    "import matplotlib.pyplot as plt"
   ],
   "outputs": [],
   "execution_count": 1
  },
  {
   "metadata": {
    "ExecuteTime": {
     "end_time": "2024-12-08T20:01:40.582075Z",
     "start_time": "2024-12-08T20:01:26.728162Z"
    }
   },
   "cell_type": "code",
   "source": [
    "directory = '../data/SoccerNetGS/gamestate-2024/test/'\n",
    "data_parser = DataParser(directory)\n",
    "df = data_parser.parse_data_to_df()"
   ],
   "id": "5632756686bfbeb",
   "outputs": [
    {
     "name": "stdout",
     "output_type": "stream",
     "text": [
      "Wczytywanie danych...\n"
     ]
    },
    {
     "name": "stderr",
     "output_type": "stream",
     "text": [
      "100%|██████████| 50/50 [00:08<00:00,  5.72it/s]\n"
     ]
    },
    {
     "name": "stdout",
     "output_type": "stream",
     "text": [
      "Tworzenie DataFrame...\n"
     ]
    },
    {
     "name": "stderr",
     "output_type": "stream",
     "text": [
      "100%|██████████| 49/49 [00:03<00:00, 15.74it/s]\n"
     ]
    }
   ],
   "execution_count": 2
  },
  {
   "metadata": {
    "ExecuteTime": {
     "end_time": "2024-12-08T20:01:40.930542Z",
     "start_time": "2024-12-08T20:01:40.881041Z"
    }
   },
   "cell_type": "code",
   "source": "indexes = random.sample(list(df['image_id'].unique()), 200)",
   "id": "1f8b2f83104a629e",
   "outputs": [],
   "execution_count": 3
  },
  {
   "metadata": {
    "ExecuteTime": {
     "end_time": "2024-12-08T20:01:41.110091Z",
     "start_time": "2024-12-08T20:01:41.106329Z"
    }
   },
   "cell_type": "code",
   "source": [
    "def get_predictions(crop_factor: float = 0.25):\n",
    "    prediction_results = {}\n",
    "    are_kits_saved = False\n",
    "    for img_id in tqdm(indexes):\n",
    "        img_path = f'../data/SoccerNetGS/gamestate-2024/test/SNGS-{img_id[1:4]}/img1/{img_id[-6:]}.jpg'\n",
    "        frame = cv2.imread(img_path)\n",
    "        shirts_data: pd.DataFrame = data_parser.get_shirts_data(img_id)\n",
    "        shirts_data['x2'] = shirts_data['bbox_image_x'] + shirts_data['bbox_image_w']\n",
    "        shirts_data['y2'] = shirts_data['bbox_image_y'] + shirts_data['bbox_image_h']\n",
    "        b_boxes = [row for row in shirts_data[['bbox_image_x', 'bbox_image_y', 'x2', 'y2']].values]\n",
    "        true_values = [1 if row == 'left' else 0 for row in shirts_data['attributes_team'].values]\n",
    "        if len(b_boxes) > 1:\n",
    "            shirt_color = ShirtColor(frame, b_boxes, true_values)\n",
    "            shirt_color.set_crop_factor(crop_factor)\n",
    "            accuracy = shirt_color.run_prediction_with_rgb()\n",
    "            prediction_results[img_id] = accuracy\n",
    "            # if not are_kits_saved:\n",
    "            #     shirt_color.plot_average_color(f'kits/kits_rgb_clustering_{crop_factor}.png')\n",
    "            #     are_kits_saved = True\n",
    "    return prediction_results"
   ],
   "id": "2ca1ff5113bbec28",
   "outputs": [],
   "execution_count": 4
  },
  {
   "metadata": {
    "ExecuteTime": {
     "end_time": "2024-12-08T20:03:21.434959Z",
     "start_time": "2024-12-08T20:01:41.302785Z"
    }
   },
   "cell_type": "code",
   "source": [
    "# Jako że to podział na 2 klasy, to accuracy jest zawsze większe niż 0.5, nie jestem w stanie zapewnić że to co w danych jest jako 1 też dostranie numer klasy równy 1 w kmeansie\n",
    "acc = {}\n",
    "for x in [0.0, 0.1, 0.2, 0.25, 0.3, 0.35, 0.4]:\n",
    "    prediction_results = get_predictions(x)\n",
    "    prediction_results_mapped = {k: 1 - v if v < 0.5 else v for k, v in prediction_results.items()}\n",
    "    avg_prediction = sum(prediction_results_mapped.values()) / len(prediction_results_mapped)\n",
    "    acc[x] = avg_prediction\n",
    "    print(f'Crop factor: {x}, avg prediction: {avg_prediction}')"
   ],
   "id": "bd783b92729cccd0",
   "outputs": [
    {
     "name": "stderr",
     "output_type": "stream",
     "text": [
      "100%|██████████| 200/200 [00:14<00:00, 13.72it/s]\n"
     ]
    },
    {
     "name": "stdout",
     "output_type": "stream",
     "text": [
      "Crop factor: 0.0, avg prediction: 0.9209647366029116\n"
     ]
    },
    {
     "name": "stderr",
     "output_type": "stream",
     "text": [
      "100%|██████████| 200/200 [00:14<00:00, 14.03it/s]\n"
     ]
    },
    {
     "name": "stdout",
     "output_type": "stream",
     "text": [
      "Crop factor: 0.1, avg prediction: 0.9347598893328697\n"
     ]
    },
    {
     "name": "stderr",
     "output_type": "stream",
     "text": [
      "100%|██████████| 200/200 [00:14<00:00, 14.00it/s]\n"
     ]
    },
    {
     "name": "stdout",
     "output_type": "stream",
     "text": [
      "Crop factor: 0.2, avg prediction: 0.9421893785056343\n"
     ]
    },
    {
     "name": "stderr",
     "output_type": "stream",
     "text": [
      "100%|██████████| 200/200 [00:14<00:00, 14.01it/s]\n"
     ]
    },
    {
     "name": "stdout",
     "output_type": "stream",
     "text": [
      "Crop factor: 0.25, avg prediction: 0.9385779326387937\n"
     ]
    },
    {
     "name": "stderr",
     "output_type": "stream",
     "text": [
      "100%|██████████| 200/200 [00:14<00:00, 13.95it/s]\n"
     ]
    },
    {
     "name": "stdout",
     "output_type": "stream",
     "text": [
      "Crop factor: 0.3, avg prediction: 0.9344459031676073\n"
     ]
    },
    {
     "name": "stderr",
     "output_type": "stream",
     "text": [
      "100%|██████████| 200/200 [00:14<00:00, 14.07it/s]\n"
     ]
    },
    {
     "name": "stdout",
     "output_type": "stream",
     "text": [
      "Crop factor: 0.35, avg prediction: 0.9277630140135387\n"
     ]
    },
    {
     "name": "stderr",
     "output_type": "stream",
     "text": [
      "100%|██████████| 200/200 [00:14<00:00, 14.12it/s]"
     ]
    },
    {
     "name": "stdout",
     "output_type": "stream",
     "text": [
      "Crop factor: 0.4, avg prediction: 0.9203512409175004\n"
     ]
    },
    {
     "name": "stderr",
     "output_type": "stream",
     "text": [
      "\n"
     ]
    }
   ],
   "execution_count": 5
  },
  {
   "metadata": {
    "ExecuteTime": {
     "end_time": "2024-12-08T20:03:21.646755Z",
     "start_time": "2024-12-08T20:03:21.643170Z"
    }
   },
   "cell_type": "code",
   "source": [
    "def get_grayscale_predictions(crop_factor: float = 0.25):\n",
    "    prediction_results = {}\n",
    "    are_kits_saved = False\n",
    "    for img_id in tqdm(indexes):\n",
    "        img_path = f'../data/SoccerNetGS/gamestate-2024/test/SNGS-{img_id[1:4]}/img1/{img_id[-6:]}.jpg'\n",
    "        frame = cv2.imread(img_path)\n",
    "        shirts_data: pd.DataFrame = data_parser.get_shirts_data(img_id)\n",
    "        shirts_data['x2'] = shirts_data['bbox_image_x'] + shirts_data['bbox_image_w']\n",
    "        shirts_data['y2'] = shirts_data['bbox_image_y'] + shirts_data['bbox_image_h']\n",
    "        b_boxes = [row for row in shirts_data[['bbox_image_x', 'bbox_image_y', 'x2', 'y2']].values]\n",
    "        true_values = [1 if row == 'left' else 0 for row in shirts_data['attributes_team'].values]\n",
    "        if len(b_boxes) > 1:\n",
    "            shirt_color = ShirtColor(frame, b_boxes, true_values)\n",
    "            shirt_color.set_crop_factor(crop_factor)\n",
    "            accuracy = shirt_color.run_prediction()\n",
    "            prediction_results[img_id] = accuracy\n",
    "            # if not are_kits_saved:\n",
    "            #     shirt_color.plot_average_color(f'kits/kits_grayscale_clustering_{crop_factor}.png')\n",
    "            #     are_kits_saved = True\n",
    "    return prediction_results"
   ],
   "id": "56a076264bd44ca7",
   "outputs": [],
   "execution_count": 6
  },
  {
   "metadata": {
    "ExecuteTime": {
     "end_time": "2024-12-08T20:05:11.908284Z",
     "start_time": "2024-12-08T20:03:21.818485Z"
    }
   },
   "cell_type": "code",
   "source": [
    "acc_grayscale = {}\n",
    "for x in [0.0, 0.1, 0.2, 0.25, 0.3, 0.35, 0.4]:\n",
    "    prediction_results = get_grayscale_predictions(x)\n",
    "    prediction_results_mapped = {k: 1 - v if v < 0.5 else v for k, v in prediction_results.items()}\n",
    "    avg_prediction = sum(prediction_results_mapped.values()) / len(prediction_results_mapped)\n",
    "    acc_grayscale[x] = avg_prediction\n",
    "    print(f'Crop factor: {x}, avg prediction: {avg_prediction}')"
   ],
   "id": "1c8bbbb5a988fa48",
   "outputs": [
    {
     "name": "stderr",
     "output_type": "stream",
     "text": [
      "100%|██████████| 200/200 [00:16<00:00, 12.47it/s]\n"
     ]
    },
    {
     "name": "stdout",
     "output_type": "stream",
     "text": [
      "Crop factor: 0.0, avg prediction: 0.8544484089937746\n"
     ]
    },
    {
     "name": "stderr",
     "output_type": "stream",
     "text": [
      "100%|██████████| 200/200 [00:16<00:00, 12.34it/s]\n"
     ]
    },
    {
     "name": "stdout",
     "output_type": "stream",
     "text": [
      "Crop factor: 0.1, avg prediction: 0.8693952781491864\n"
     ]
    },
    {
     "name": "stderr",
     "output_type": "stream",
     "text": [
      "100%|██████████| 200/200 [00:15<00:00, 12.60it/s]\n"
     ]
    },
    {
     "name": "stdout",
     "output_type": "stream",
     "text": [
      "Crop factor: 0.2, avg prediction: 0.8815438552636535\n"
     ]
    },
    {
     "name": "stderr",
     "output_type": "stream",
     "text": [
      "100%|██████████| 200/200 [00:15<00:00, 12.72it/s]\n"
     ]
    },
    {
     "name": "stdout",
     "output_type": "stream",
     "text": [
      "Crop factor: 0.25, avg prediction: 0.8824856626338877\n"
     ]
    },
    {
     "name": "stderr",
     "output_type": "stream",
     "text": [
      "100%|██████████| 200/200 [00:15<00:00, 12.87it/s]\n"
     ]
    },
    {
     "name": "stdout",
     "output_type": "stream",
     "text": [
      "Crop factor: 0.3, avg prediction: 0.8796441403738721\n"
     ]
    },
    {
     "name": "stderr",
     "output_type": "stream",
     "text": [
      "100%|██████████| 200/200 [00:15<00:00, 12.96it/s]\n"
     ]
    },
    {
     "name": "stdout",
     "output_type": "stream",
     "text": [
      "Crop factor: 0.35, avg prediction: 0.8738858732552037\n"
     ]
    },
    {
     "name": "stderr",
     "output_type": "stream",
     "text": [
      "100%|██████████| 200/200 [00:15<00:00, 13.12it/s]"
     ]
    },
    {
     "name": "stdout",
     "output_type": "stream",
     "text": [
      "Crop factor: 0.4, avg prediction: 0.8638496002815663\n"
     ]
    },
    {
     "name": "stderr",
     "output_type": "stream",
     "text": [
      "\n"
     ]
    }
   ],
   "execution_count": 7
  },
  {
   "metadata": {
    "ExecuteTime": {
     "end_time": "2024-12-08T20:05:12.123576Z",
     "start_time": "2024-12-08T20:05:12.119808Z"
    }
   },
   "cell_type": "code",
   "source": [
    "def get_lab_predictions(crop_factor: float = 0.25):\n",
    "    prediction_results = {}\n",
    "    are_kits_saved = False\n",
    "    for img_id in tqdm(indexes):\n",
    "        img_path = f'../data/SoccerNetGS/gamestate-2024/test/SNGS-{img_id[1:4]}/img1/{img_id[-6:]}.jpg'\n",
    "        frame = cv2.imread(img_path)\n",
    "        shirts_data: pd.DataFrame = data_parser.get_shirts_data(img_id)\n",
    "        shirts_data['x2'] = shirts_data['bbox_image_x'] + shirts_data['bbox_image_w']\n",
    "        shirts_data['y2'] = shirts_data['bbox_image_y'] + shirts_data['bbox_image_h']\n",
    "        b_boxes = [row for row in shirts_data[['bbox_image_x', 'bbox_image_y', 'x2', 'y2']].values]\n",
    "        true_values = [1 if row == 'left' else 0 for row in shirts_data['attributes_team'].values]\n",
    "        if len(b_boxes) > 1:\n",
    "            shirt_color = ShirtColor(frame, b_boxes, true_values)\n",
    "            shirt_color.set_crop_factor(crop_factor)\n",
    "            accuracy = shirt_color.run_prediction_with_lab()\n",
    "            prediction_results[img_id] = accuracy\n",
    "            # if not are_kits_saved:\n",
    "            #     shirt_color.plot_average_color(f'kits/kits_lab_clustering_{crop_factor}.png')\n",
    "            #     are_kits_saved = True\n",
    "    return prediction_results"
   ],
   "id": "3f9f5457f570f5bc",
   "outputs": [],
   "execution_count": 8
  },
  {
   "metadata": {
    "ExecuteTime": {
     "end_time": "2024-12-08T20:06:52.735338Z",
     "start_time": "2024-12-08T20:05:12.308956Z"
    }
   },
   "cell_type": "code",
   "source": [
    "acc_lab = {}\n",
    "for x in [0.0, 0.1, 0.2, 0.25, 0.3, 0.35, 0.4]:\n",
    "    prediction_results = get_lab_predictions(x)\n",
    "    prediction_results_mapped = {k: 1 - v if v < 0.5 else v for k, v in prediction_results.items()}\n",
    "    avg_prediction = sum(prediction_results_mapped.values()) / len(prediction_results_mapped)\n",
    "    acc_lab[x] = avg_prediction\n",
    "    print(f'Crop factor: {x}, avg prediction: {avg_prediction}')"
   ],
   "id": "fbd052cb3c73afa2",
   "outputs": [
    {
     "name": "stderr",
     "output_type": "stream",
     "text": [
      "100%|██████████| 200/200 [00:14<00:00, 13.96it/s]\n"
     ]
    },
    {
     "name": "stdout",
     "output_type": "stream",
     "text": [
      "Crop factor: 0.0, avg prediction: 0.9344287703306088\n"
     ]
    },
    {
     "name": "stderr",
     "output_type": "stream",
     "text": [
      "100%|██████████| 200/200 [00:14<00:00, 13.92it/s]\n"
     ]
    },
    {
     "name": "stdout",
     "output_type": "stream",
     "text": [
      "Crop factor: 0.1, avg prediction: 0.9509075200667837\n"
     ]
    },
    {
     "name": "stderr",
     "output_type": "stream",
     "text": [
      "100%|██████████| 200/200 [00:14<00:00, 13.97it/s]\n"
     ]
    },
    {
     "name": "stdout",
     "output_type": "stream",
     "text": [
      "Crop factor: 0.2, avg prediction: 0.952657765998852\n"
     ]
    },
    {
     "name": "stderr",
     "output_type": "stream",
     "text": [
      "100%|██████████| 200/200 [00:14<00:00, 13.95it/s]\n"
     ]
    },
    {
     "name": "stdout",
     "output_type": "stream",
     "text": [
      "Crop factor: 0.25, avg prediction: 0.9538818719746578\n"
     ]
    },
    {
     "name": "stderr",
     "output_type": "stream",
     "text": [
      "100%|██████████| 200/200 [00:14<00:00, 13.94it/s]\n"
     ]
    },
    {
     "name": "stdout",
     "output_type": "stream",
     "text": [
      "Crop factor: 0.3, avg prediction: 0.9490855841093873\n"
     ]
    },
    {
     "name": "stderr",
     "output_type": "stream",
     "text": [
      "100%|██████████| 200/200 [00:14<00:00, 13.98it/s]\n"
     ]
    },
    {
     "name": "stdout",
     "output_type": "stream",
     "text": [
      "Crop factor: 0.35, avg prediction: 0.9373175998969436\n"
     ]
    },
    {
     "name": "stderr",
     "output_type": "stream",
     "text": [
      "100%|██████████| 200/200 [00:14<00:00, 13.87it/s]"
     ]
    },
    {
     "name": "stdout",
     "output_type": "stream",
     "text": [
      "Crop factor: 0.4, avg prediction: 0.9321537264829572\n"
     ]
    },
    {
     "name": "stderr",
     "output_type": "stream",
     "text": [
      "\n"
     ]
    }
   ],
   "execution_count": 9
  },
  {
   "metadata": {
    "ExecuteTime": {
     "end_time": "2024-12-08T20:07:15.162080Z",
     "start_time": "2024-12-08T20:07:15.055333Z"
    }
   },
   "cell_type": "code",
   "source": [
    "x = list(acc.keys())\n",
    "y1 = list(acc.values())\n",
    "y2 = list(acc_grayscale.values())\n",
    "y3 = list(acc_lab.values())\n",
    "plt.figure(figsize=(10, 6))\n",
    "plt.plot(x, y1, label='RGB', marker='o')\n",
    "plt.plot(x, y2, label='Grayscale', marker='o')\n",
    "plt.plot(x, y3, label='LAB', marker='o')\n",
    "plt.title('Accuracy for different crop factors')\n",
    "plt.grid()\n",
    "plt.ylim(0, 1)\n",
    "plt.xlabel('Crop factor')\n",
    "plt.ylabel('Accuracy')\n",
    "plt.legend()\n",
    "plt.show()"
   ],
   "id": "9ba626a46ca94948",
   "outputs": [
    {
     "data": {
      "text/plain": [
       "<Figure size 1000x600 with 1 Axes>"
      ],
      "image/png": "[encoded data removed]"
     },
     "metadata": {},
     "output_type": "display_data"
    }
   ],
   "execution_count": 12
  },
  {
   "metadata": {},
   "cell_type": "markdown",
   "source": "Tak na prawe to można jeszcze ten wykres stestować dla innych przestrzeni barw i jak to wpłynie na accuracy",
   "id": "c1986b70ff8c523a"
  },
  {
   "metadata": {
    "ExecuteTime": {
     "end_time": "2024-12-08T20:06:53.865931Z",
     "start_time": "2024-12-08T20:06:53.308520Z"
    }
   },
   "cell_type": "code",
   "source": [
    "plt.figure(figsize=(10, 6))\n",
    "plt.bar(prediction_results_mapped.keys(), prediction_results_mapped.values())\n",
    "plt.axhline(y=avg_prediction, color='r', linestyle='-')\n",
    "plt.show()\n"
   ],
   "id": "c107334a91adf72e",
   "outputs": [
    {
     "data": {
      "text/plain": [
       "<Figure size 1000x600 with 1 Axes>"
      ],
      "image/png": "[encoded data removed]"
     },
     "metadata": {},
     "output_type": "display_data"
    }
   ],
   "execution_count": 11
  }
 ],
 "metadata": {
  "kernelspec": {
   "display_name": "Python 3",
   "language": "python",
   "name": "python3"
  },
  "language_info": {
   "codemirror_mode": {
    "name": "ipython",
    "version": 2
   },
   "file_extension": ".py",
   "mimetype": "text/x-python",
   "name": "python",
   "nbconvert_exporter": "python",
   "pygments_lexer": "ipython2",
   "version": "2.7.6"
  }
 },
 "nbformat": 4,
 "nbformat_minor": 5
}
