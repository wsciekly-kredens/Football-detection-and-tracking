{
 "cells": [
  {
   "cell_type": "code",
   "id": "initial_id",
   "metadata": {
    "collapsed": true,
    "ExecuteTime": {
     "end_time": "2024-12-14T15:43:37.737655Z",
     "start_time": "2024-12-14T15:43:37.734654Z"
    }
   },
   "source": [
    "import cv2\n",
    "import pandas as pd\n",
    "from src.utils import DataParser\n",
    "from src.calculations import ShirtColor\n",
    "import random\n",
    "from tqdm import tqdm\n",
    "import matplotlib.pyplot as plt"
   ],
   "outputs": [],
   "execution_count": 3
  },
  {
   "metadata": {
    "ExecuteTime": {
     "end_time": "2024-12-14T15:43:52.310853Z",
     "start_time": "2024-12-14T15:43:37.764653Z"
    }
   },
   "cell_type": "code",
   "source": [
    "directory = '../data/SoccerNetGS/gamestate-2024/test/'\n",
    "data_parser = DataParser(directory)\n",
    "df = data_parser.parse_data_to_df()"
   ],
   "id": "5632756686bfbeb",
   "outputs": [
    {
     "name": "stdout",
     "output_type": "stream",
     "text": [
      "Wczytywanie danych...\n"
     ]
    },
    {
     "name": "stderr",
     "output_type": "stream",
     "text": [
      "100%|██████████| 50/50 [00:09<00:00,  5.43it/s]\n"
     ]
    },
    {
     "name": "stdout",
     "output_type": "stream",
     "text": [
      "Tworzenie DataFrame...\n"
     ]
    },
    {
     "name": "stderr",
     "output_type": "stream",
     "text": [
      "100%|██████████| 49/49 [00:03<00:00, 15.30it/s]\n"
     ]
    }
   ],
   "execution_count": 4
  },
  {
   "metadata": {
    "ExecuteTime": {
     "end_time": "2024-12-14T15:43:52.373425Z",
     "start_time": "2024-12-14T15:43:52.323244Z"
    }
   },
   "cell_type": "code",
   "source": [
    "indexes = random.sample(list(df['image_id'].unique()), 1000)"
   ],
   "id": "1f8b2f83104a629e",
   "outputs": [],
   "execution_count": 5
  },
  {
   "metadata": {
    "ExecuteTime": {
     "end_time": "2024-12-14T15:43:52.386920Z",
     "start_time": "2024-12-14T15:43:52.382920Z"
    }
   },
   "cell_type": "code",
   "source": [
    "def get_predictions(crop_factor: float = 0.25):\n",
    "    prediction_results = {}\n",
    "    are_kits_saved = False\n",
    "    for img_id in tqdm(indexes):\n",
    "        img_path = f'../data/SoccerNetGS/gamestate-2024/test/SNGS-{img_id[1:4]}/img1/{img_id[-6:]}.jpg'\n",
    "        frame = cv2.imread(img_path)\n",
    "        shirts_data: pd.DataFrame = data_parser.get_shirts_data(img_id)\n",
    "        shirts_data['x2'] = shirts_data['bbox_image_x'] + shirts_data['bbox_image_w']\n",
    "        shirts_data['y2'] = shirts_data['bbox_image_y'] + shirts_data['bbox_image_h']\n",
    "        b_boxes = [row for row in shirts_data[['bbox_image_x', 'bbox_image_y', 'x2', 'y2']].values]\n",
    "        true_values = [1 if row == 'left' else 0 for row in shirts_data['attributes_team'].values]\n",
    "        if len(b_boxes) > 1:\n",
    "            shirt_color = ShirtColor(frame, b_boxes, true_values)\n",
    "            shirt_color.set_crop_factor(crop_factor)\n",
    "            accuracy = shirt_color.run_prediction_with_rgb()\n",
    "            prediction_results[img_id] = accuracy\n",
    "            # if not are_kits_saved:\n",
    "            #     shirt_color.plot_average_color(f'kits/kits_rgb_clustering_{crop_factor}.png')\n",
    "            #     are_kits_saved = True\n",
    "    return prediction_results"
   ],
   "id": "2ca1ff5113bbec28",
   "outputs": [],
   "execution_count": 6
  },
  {
   "metadata": {
    "ExecuteTime": {
     "end_time": "2024-12-14T15:52:16.181213Z",
     "start_time": "2024-12-14T15:43:52.402019Z"
    }
   },
   "cell_type": "code",
   "source": [
    "# Jako że to podział na 2 klasy, to accuracy jest zawsze większe niż 0.5, nie jestem w stanie zapewnić że to co w danych jest jako 1 też dostranie numer klasy równy 1 w kmeansie\n",
    "acc = {}\n",
    "for x in [0.0, 0.1, 0.2, 0.25, 0.3, 0.35, 0.4]:\n",
    "    prediction_results = get_predictions(x)\n",
    "    prediction_results_mapped = {k: 1 - v if v < 0.5 else v for k, v in prediction_results.items()}\n",
    "    avg_prediction = sum(prediction_results_mapped.values()) / len(prediction_results_mapped)\n",
    "    acc[x] = avg_prediction\n",
    "    print(f'Crop factor: {x}, avg prediction: {avg_prediction}')"
   ],
   "id": "bd783b92729cccd0",
   "outputs": [
    {
     "name": "stderr",
     "output_type": "stream",
     "text": [
      "100%|██████████| 1000/1000 [01:13<00:00, 13.65it/s]\n"
     ]
    },
    {
     "name": "stdout",
     "output_type": "stream",
     "text": [
      "Crop factor: 0.0, avg prediction: 0.9176241968693695\n"
     ]
    },
    {
     "name": "stderr",
     "output_type": "stream",
     "text": [
      "100%|██████████| 1000/1000 [01:12<00:00, 13.85it/s]\n"
     ]
    },
    {
     "name": "stdout",
     "output_type": "stream",
     "text": [
      "Crop factor: 0.1, avg prediction: 0.9319414710129277\n"
     ]
    },
    {
     "name": "stderr",
     "output_type": "stream",
     "text": [
      "100%|██████████| 1000/1000 [01:11<00:00, 13.93it/s]\n"
     ]
    },
    {
     "name": "stdout",
     "output_type": "stream",
     "text": [
      "Crop factor: 0.2, avg prediction: 0.9380796875056748\n"
     ]
    },
    {
     "name": "stderr",
     "output_type": "stream",
     "text": [
      "100%|██████████| 1000/1000 [01:11<00:00, 13.95it/s]\n"
     ]
    },
    {
     "name": "stdout",
     "output_type": "stream",
     "text": [
      "Crop factor: 0.25, avg prediction: 0.9368870446026931\n"
     ]
    },
    {
     "name": "stderr",
     "output_type": "stream",
     "text": [
      "100%|██████████| 1000/1000 [01:11<00:00, 13.95it/s]\n"
     ]
    },
    {
     "name": "stdout",
     "output_type": "stream",
     "text": [
      "Crop factor: 0.3, avg prediction: 0.9295598104272845\n"
     ]
    },
    {
     "name": "stderr",
     "output_type": "stream",
     "text": [
      "100%|██████████| 1000/1000 [01:11<00:00, 13.95it/s]\n"
     ]
    },
    {
     "name": "stdout",
     "output_type": "stream",
     "text": [
      "Crop factor: 0.35, avg prediction: 0.9242263688617951\n"
     ]
    },
    {
     "name": "stderr",
     "output_type": "stream",
     "text": [
      "100%|██████████| 1000/1000 [01:11<00:00, 13.99it/s]"
     ]
    },
    {
     "name": "stdout",
     "output_type": "stream",
     "text": [
      "Crop factor: 0.4, avg prediction: 0.9137382160207166\n"
     ]
    },
    {
     "name": "stderr",
     "output_type": "stream",
     "text": [
      "\n"
     ]
    }
   ],
   "execution_count": 7
  },
  {
   "metadata": {
    "ExecuteTime": {
     "end_time": "2024-12-14T15:52:16.356824Z",
     "start_time": "2024-12-14T15:52:16.351843Z"
    }
   },
   "cell_type": "code",
   "source": [
    "def get_grayscale_predictions(crop_factor: float = 0.25):\n",
    "    prediction_results = {}\n",
    "    are_kits_saved = False\n",
    "    for img_id in tqdm(indexes):\n",
    "        img_path = f'../data/SoccerNetGS/gamestate-2024/test/SNGS-{img_id[1:4]}/img1/{img_id[-6:]}.jpg'\n",
    "        frame = cv2.imread(img_path)\n",
    "        shirts_data: pd.DataFrame = data_parser.get_shirts_data(img_id)\n",
    "        shirts_data['x2'] = shirts_data['bbox_image_x'] + shirts_data['bbox_image_w']\n",
    "        shirts_data['y2'] = shirts_data['bbox_image_y'] + shirts_data['bbox_image_h']\n",
    "        b_boxes = [row for row in shirts_data[['bbox_image_x', 'bbox_image_y', 'x2', 'y2']].values]\n",
    "        true_values = [1 if row == 'left' else 0 for row in shirts_data['attributes_team'].values]\n",
    "        if len(b_boxes) > 1:\n",
    "            shirt_color = ShirtColor(frame, b_boxes, true_values)\n",
    "            shirt_color.set_crop_factor(crop_factor)\n",
    "            accuracy = shirt_color.run_prediction()\n",
    "            prediction_results[img_id] = accuracy\n",
    "            # if not are_kits_saved:\n",
    "            #     shirt_color.plot_average_color(f'kits/kits_grayscale_clustering_{crop_factor}.png')\n",
    "            #     are_kits_saved = True\n",
    "    return prediction_results"
   ],
   "id": "56a076264bd44ca7",
   "outputs": [],
   "execution_count": 8
  },
  {
   "metadata": {
    "ExecuteTime": {
     "end_time": "2024-12-14T16:01:19.942343Z",
     "start_time": "2024-12-14T15:52:16.384603Z"
    }
   },
   "cell_type": "code",
   "source": [
    "acc_grayscale = {}\n",
    "for x in [0.0, 0.1, 0.2, 0.25, 0.3, 0.35, 0.4]:\n",
    "    prediction_results = get_grayscale_predictions(x)\n",
    "    prediction_results_mapped = {k: 1 - v if v < 0.5 else v for k, v in prediction_results.items()}\n",
    "    avg_prediction = sum(prediction_results_mapped.values()) / len(prediction_results_mapped)\n",
    "    acc_grayscale[x] = avg_prediction\n",
    "    print(f'Crop factor: {x}, avg prediction: {avg_prediction}')"
   ],
   "id": "1c8bbbb5a988fa48",
   "outputs": [
    {
     "name": "stderr",
     "output_type": "stream",
     "text": [
      "100%|██████████| 1000/1000 [01:19<00:00, 12.50it/s]\n"
     ]
    },
    {
     "name": "stdout",
     "output_type": "stream",
     "text": [
      "Crop factor: 0.0, avg prediction: 0.8406867124253954\n"
     ]
    },
    {
     "name": "stderr",
     "output_type": "stream",
     "text": [
      "100%|██████████| 1000/1000 [01:19<00:00, 12.61it/s]\n"
     ]
    },
    {
     "name": "stdout",
     "output_type": "stream",
     "text": [
      "Crop factor: 0.1, avg prediction: 0.8630130305290338\n"
     ]
    },
    {
     "name": "stderr",
     "output_type": "stream",
     "text": [
      "100%|██████████| 1000/1000 [01:18<00:00, 12.71it/s]\n"
     ]
    },
    {
     "name": "stdout",
     "output_type": "stream",
     "text": [
      "Crop factor: 0.2, avg prediction: 0.8760427963812615\n"
     ]
    },
    {
     "name": "stderr",
     "output_type": "stream",
     "text": [
      "100%|██████████| 1000/1000 [01:18<00:00, 12.81it/s]\n"
     ]
    },
    {
     "name": "stdout",
     "output_type": "stream",
     "text": [
      "Crop factor: 0.25, avg prediction: 0.8758924602745378\n"
     ]
    },
    {
     "name": "stderr",
     "output_type": "stream",
     "text": [
      "100%|██████████| 1000/1000 [01:16<00:00, 13.04it/s]\n"
     ]
    },
    {
     "name": "stdout",
     "output_type": "stream",
     "text": [
      "Crop factor: 0.3, avg prediction: 0.8709957531205578\n"
     ]
    },
    {
     "name": "stderr",
     "output_type": "stream",
     "text": [
      "100%|██████████| 1000/1000 [01:15<00:00, 13.21it/s]\n"
     ]
    },
    {
     "name": "stdout",
     "output_type": "stream",
     "text": [
      "Crop factor: 0.35, avg prediction: 0.8638448909165932\n"
     ]
    },
    {
     "name": "stderr",
     "output_type": "stream",
     "text": [
      "100%|██████████| 1000/1000 [01:15<00:00, 13.31it/s]"
     ]
    },
    {
     "name": "stdout",
     "output_type": "stream",
     "text": [
      "Crop factor: 0.4, avg prediction: 0.8532789278968903\n"
     ]
    },
    {
     "name": "stderr",
     "output_type": "stream",
     "text": [
      "\n"
     ]
    }
   ],
   "execution_count": 9
  },
  {
   "metadata": {
    "ExecuteTime": {
     "end_time": "2024-12-14T16:01:19.963685Z",
     "start_time": "2024-12-14T16:01:19.958851Z"
    }
   },
   "cell_type": "code",
   "source": [
    "def get_lab_predictions(crop_factor: float = 0.25):\n",
    "    prediction_results = {}\n",
    "    are_kits_saved = False\n",
    "    for img_id in tqdm(indexes):\n",
    "        img_path = f'../data/SoccerNetGS/gamestate-2024/test/SNGS-{img_id[1:4]}/img1/{img_id[-6:]}.jpg'\n",
    "        frame = cv2.imread(img_path)\n",
    "        shirts_data: pd.DataFrame = data_parser.get_shirts_data(img_id)\n",
    "        shirts_data['x2'] = shirts_data['bbox_image_x'] + shirts_data['bbox_image_w']\n",
    "        shirts_data['y2'] = shirts_data['bbox_image_y'] + shirts_data['bbox_image_h']\n",
    "        b_boxes = [row for row in shirts_data[['bbox_image_x', 'bbox_image_y', 'x2', 'y2']].values]\n",
    "        true_values = [1 if row == 'left' else 0 for row in shirts_data['attributes_team'].values]\n",
    "        if len(b_boxes) > 1:\n",
    "            shirt_color = ShirtColor(frame, b_boxes, true_values)\n",
    "            shirt_color.set_crop_factor(crop_factor)\n",
    "            accuracy = shirt_color.run_prediction_with_lab()\n",
    "            prediction_results[img_id] = accuracy\n",
    "            # if not are_kits_saved:\n",
    "            #     shirt_color.plot_average_color(f'kits/kits_lab_clustering_{crop_factor}.png')\n",
    "            #     are_kits_saved = True\n",
    "    return prediction_results"
   ],
   "id": "3f9f5457f570f5bc",
   "outputs": [],
   "execution_count": 10
  },
  {
   "metadata": {
    "ExecuteTime": {
     "end_time": "2024-12-14T16:09:44.790746Z",
     "start_time": "2024-12-14T16:01:19.991936Z"
    }
   },
   "cell_type": "code",
   "source": [
    "acc_lab = {}\n",
    "for x in [0.0, 0.1, 0.2, 0.25, 0.3, 0.35, 0.4]:\n",
    "    prediction_results = get_lab_predictions(x)\n",
    "    prediction_results_mapped = {k: 1 - v if v < 0.5 else v for k, v in prediction_results.items()}\n",
    "    avg_prediction = sum(prediction_results_mapped.values()) / len(prediction_results_mapped)\n",
    "    acc_lab[x] = avg_prediction\n",
    "    print(f'Crop factor: {x}, avg prediction: {avg_prediction}')"
   ],
   "id": "fbd052cb3c73afa2",
   "outputs": [
    {
     "name": "stderr",
     "output_type": "stream",
     "text": [
      "100%|██████████| 1000/1000 [01:11<00:00, 13.92it/s]\n"
     ]
    },
    {
     "name": "stdout",
     "output_type": "stream",
     "text": [
      "Crop factor: 0.0, avg prediction: 0.9270857293353484\n"
     ]
    },
    {
     "name": "stderr",
     "output_type": "stream",
     "text": [
      "100%|██████████| 1000/1000 [01:11<00:00, 13.94it/s]\n"
     ]
    },
    {
     "name": "stdout",
     "output_type": "stream",
     "text": [
      "Crop factor: 0.1, avg prediction: 0.9419719519831432\n"
     ]
    },
    {
     "name": "stderr",
     "output_type": "stream",
     "text": [
      "100%|██████████| 1000/1000 [01:11<00:00, 13.96it/s]\n"
     ]
    },
    {
     "name": "stdout",
     "output_type": "stream",
     "text": [
      "Crop factor: 0.2, avg prediction: 0.9526455528136678\n"
     ]
    },
    {
     "name": "stderr",
     "output_type": "stream",
     "text": [
      "100%|██████████| 1000/1000 [01:12<00:00, 13.76it/s]\n"
     ]
    },
    {
     "name": "stdout",
     "output_type": "stream",
     "text": [
      "Crop factor: 0.25, avg prediction: 0.9488694831561983\n"
     ]
    },
    {
     "name": "stderr",
     "output_type": "stream",
     "text": [
      "100%|██████████| 1000/1000 [01:12<00:00, 13.86it/s]\n"
     ]
    },
    {
     "name": "stdout",
     "output_type": "stream",
     "text": [
      "Crop factor: 0.3, avg prediction: 0.9462988253911128\n"
     ]
    },
    {
     "name": "stderr",
     "output_type": "stream",
     "text": [
      "100%|██████████| 1000/1000 [01:12<00:00, 13.81it/s]\n"
     ]
    },
    {
     "name": "stdout",
     "output_type": "stream",
     "text": [
      "Crop factor: 0.35, avg prediction: 0.9385757841917458\n"
     ]
    },
    {
     "name": "stderr",
     "output_type": "stream",
     "text": [
      "100%|██████████| 1000/1000 [01:12<00:00, 13.82it/s]"
     ]
    },
    {
     "name": "stdout",
     "output_type": "stream",
     "text": [
      "Crop factor: 0.4, avg prediction: 0.9312739330909442\n"
     ]
    },
    {
     "name": "stderr",
     "output_type": "stream",
     "text": [
      "\n"
     ]
    }
   ],
   "execution_count": 11
  },
  {
   "metadata": {
    "ExecuteTime": {
     "end_time": "2024-12-14T16:12:26.765017Z",
     "start_time": "2024-12-14T16:12:26.586071Z"
    }
   },
   "cell_type": "code",
   "source": [
    "x = list(acc.keys())\n",
    "y1 = list(acc.values())\n",
    "y2 = list(acc_grayscale.values())\n",
    "y3 = list(acc_lab.values())\n",
    "plt.figure(figsize=(10, 6))\n",
    "plt.plot(x, y1, label='RGB', marker='o')\n",
    "plt.plot(x, y2, label='Skala szarości', marker='o')\n",
    "plt.plot(x, y3, label='LAB', marker='o')\n",
    "plt.title('Przypisanie do drużyny')\n",
    "plt.grid()\n",
    "plt.ylim(0, 1)\n",
    "plt.xlabel('Wielkość marginesu')\n",
    "plt.ylabel('Część poprawnie przypisanych')\n",
    "plt.legend()\n",
    "plt.savefig('../figures/przypisanie_do_druzyny.png')\n",
    "plt.show()"
   ],
   "id": "9ba626a46ca94948",
   "outputs": [
    {
     "data": {
      "text/plain": [
       "<Figure size 1000x600 with 1 Axes>"
      ],
      "image/png": "[encoded data removed]"
     },
     "metadata": {},
     "output_type": "display_data"
    }
   ],
   "execution_count": 15
  },
  {
   "metadata": {},
   "cell_type": "markdown",
   "source": [
    "Tak na prawe to można jeszcze ten wykres stestować dla innych przestrzeni barw i jak to wpłynie na accuracy"
   ],
   "id": "c1986b70ff8c523a"
  },
  {
   "metadata": {
    "ExecuteTime": {
     "end_time": "2024-12-14T16:12:53.559427Z",
     "start_time": "2024-12-14T16:12:50.871517Z"
    }
   },
   "cell_type": "code",
   "source": [
    "plt.figure(figsize=(10, 6))\n",
    "plt.bar(prediction_results_mapped.keys(), prediction_results_mapped.values())\n",
    "plt.axhline(y=avg_prediction, color='r', linestyle='-')\n",
    "plt.show()\n"
   ],
   "id": "c107334a91adf72e",
   "outputs": [
    {
     "data": {
      "text/plain": [
       "<Figure size 1000x600 with 1 Axes>"
      ],
      "image/png": "[encoded data removed]"
     },
     "metadata": {},
     "output_type": "display_data"
    }
   ],
   "execution_count": 16
  }
 ],
 "metadata": {
  "kernelspec": {
   "display_name": "Python 3",
   "language": "python",
   "name": "python3"
  },
  "language_info": {
   "codemirror_mode": {
    "name": "ipython",
    "version": 2
   },
   "file_extension": ".py",
   "mimetype": "text/x-python",
   "name": "python",
   "nbconvert_exporter": "python",
   "pygments_lexer": "ipython2",
   "version": "2.7.6"
  }
 },
 "nbformat": 4,
 "nbformat_minor": 5
}
