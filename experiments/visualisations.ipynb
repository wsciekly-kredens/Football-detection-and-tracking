{
 "cells": [
  {
   "cell_type": "code",
   "execution_count": 15,
   "id": "initial_id",
   "metadata": {
    "collapsed": true,
    "ExecuteTime": {
     "end_time": "2024-12-28T12:37:19.291534100Z",
     "start_time": "2024-12-28T12:37:19.270127300Z"
    }
   },
   "outputs": [],
   "source": [
    "from src.visualisation import Radar\n",
    "from src.utils import utils\n",
    "import pandas as pd\n",
    "import matplotlib.pyplot as plt\n",
    "import cv2\n"
   ]
  },
  {
   "cell_type": "code",
   "execution_count": 2,
   "outputs": [],
   "source": [
    "df_position = pd.read_csv('../figures/positions-118.csv', index_col=0)"
   ],
   "metadata": {
    "collapsed": false,
    "ExecuteTime": {
     "end_time": "2024-12-21T16:07:10.635344300Z",
     "start_time": "2024-12-21T16:07:10.617620400Z"
    }
   },
   "id": "fbf9d45323d18fa"
  },
  {
   "cell_type": "code",
   "execution_count": 3,
   "outputs": [
    {
     "data": {
      "text/plain": "     frame  track_id          x          y  team\n439     44        89  64.586464  -1.170312     0\n440     44        94  88.027363  21.051115     0\n441     44        91  84.747468  26.456879     1\n442     44        87  53.641331  32.202593     0\n443     44        93  75.088195  49.437851     0\n444     44        92  49.363400  18.431965     1\n445     44        88  62.880080  11.078357     1\n446     44        90  51.828464  54.109796     1\n447     44        98  43.585123  36.908036     1\n448     44        95  51.024759  62.657153     0",
      "text/html": "<div>\n<style scoped>\n    .dataframe tbody tr th:only-of-type {\n        vertical-align: middle;\n    }\n\n    .dataframe tbody tr th {\n        vertical-align: top;\n    }\n\n    .dataframe thead th {\n        text-align: right;\n    }\n</style>\n<table border=\"1\" class=\"dataframe\">\n  <thead>\n    <tr style=\"text-align: right;\">\n      <th></th>\n      <th>frame</th>\n      <th>track_id</th>\n      <th>x</th>\n      <th>y</th>\n      <th>team</th>\n    </tr>\n  </thead>\n  <tbody>\n    <tr>\n      <th>439</th>\n      <td>44</td>\n      <td>89</td>\n      <td>64.586464</td>\n      <td>-1.170312</td>\n      <td>0</td>\n    </tr>\n    <tr>\n      <th>440</th>\n      <td>44</td>\n      <td>94</td>\n      <td>88.027363</td>\n      <td>21.051115</td>\n      <td>0</td>\n    </tr>\n    <tr>\n      <th>441</th>\n      <td>44</td>\n      <td>91</td>\n      <td>84.747468</td>\n      <td>26.456879</td>\n      <td>1</td>\n    </tr>\n    <tr>\n      <th>442</th>\n      <td>44</td>\n      <td>87</td>\n      <td>53.641331</td>\n      <td>32.202593</td>\n      <td>0</td>\n    </tr>\n    <tr>\n      <th>443</th>\n      <td>44</td>\n      <td>93</td>\n      <td>75.088195</td>\n      <td>49.437851</td>\n      <td>0</td>\n    </tr>\n    <tr>\n      <th>444</th>\n      <td>44</td>\n      <td>92</td>\n      <td>49.363400</td>\n      <td>18.431965</td>\n      <td>1</td>\n    </tr>\n    <tr>\n      <th>445</th>\n      <td>44</td>\n      <td>88</td>\n      <td>62.880080</td>\n      <td>11.078357</td>\n      <td>1</td>\n    </tr>\n    <tr>\n      <th>446</th>\n      <td>44</td>\n      <td>90</td>\n      <td>51.828464</td>\n      <td>54.109796</td>\n      <td>1</td>\n    </tr>\n    <tr>\n      <th>447</th>\n      <td>44</td>\n      <td>98</td>\n      <td>43.585123</td>\n      <td>36.908036</td>\n      <td>1</td>\n    </tr>\n    <tr>\n      <th>448</th>\n      <td>44</td>\n      <td>95</td>\n      <td>51.024759</td>\n      <td>62.657153</td>\n      <td>0</td>\n    </tr>\n  </tbody>\n</table>\n</div>"
     },
     "execution_count": 3,
     "metadata": {},
     "output_type": "execute_result"
    }
   ],
   "source": [
    "df_position_one_frame = df_position[df_position['frame'] == 44]\n",
    "df_position_one_frame"
   ],
   "metadata": {
    "collapsed": false,
    "ExecuteTime": {
     "end_time": "2024-12-21T16:07:10.650565900Z",
     "start_time": "2024-12-21T16:07:10.635344300Z"
    }
   },
   "id": "a38be6e705e2e9b"
  },
  {
   "cell_type": "code",
   "execution_count": 4,
   "outputs": [],
   "source": [
    "radar = Radar(df_position, ((255, 0, 0), (0,0,255)))\n",
    "radar._edge_colors = ((0.4, 0.4, 0.4), (0, 0, 0))\n",
    "# radar.draw_radar(300, False, False)\n",
    "# plt.savefig('../figures/radar-118.png', dpi=300)"
   ],
   "metadata": {
    "collapsed": false,
    "ExecuteTime": {
     "end_time": "2024-12-21T16:07:10.715863500Z",
     "start_time": "2024-12-21T16:07:10.648598800Z"
    }
   },
   "id": "a163ebf6bf7a7306"
  },
  {
   "cell_type": "code",
   "execution_count": 5,
   "outputs": [
    {
     "data": {
      "text/plain": "<Figure size 800x800 with 0 Axes>"
     },
     "metadata": {},
     "output_type": "display_data"
    },
    {
     "data": {
      "text/plain": "<Figure size 640x480 with 1 Axes>",
      "image/png": "[encoded data removed]"
     },
     "metadata": {},
     "output_type": "display_data"
    }
   ],
   "source": [
    "radar.draw_trace(500, draw=False, close=False)\n",
    "plt.savefig('../figures/trace-118.png', dpi=300)"
   ],
   "metadata": {
    "collapsed": false,
    "ExecuteTime": {
     "end_time": "2024-12-21T16:07:11.044794900Z",
     "start_time": "2024-12-21T16:07:10.709339300Z"
    }
   },
   "id": "f143b6d47f6e8219"
  },
  {
   "cell_type": "code",
   "execution_count": 6,
   "outputs": [],
   "source": [
    "keypoints = utils.load_keypoints_from_json(\"../figures/keypoints-118.json\")"
   ],
   "metadata": {
    "collapsed": false,
    "ExecuteTime": {
     "end_time": "2024-12-28T12:32:47.659078600Z",
     "start_time": "2024-12-28T12:32:47.592835900Z"
    }
   },
   "id": "5330a184221f5099"
  },
  {
   "cell_type": "code",
   "execution_count": 49,
   "outputs": [
    {
     "data": {
      "text/plain": "[[0.0, 0.0],\n [0.0, 0.0],\n [0.0, 0.0],\n [0.0, 0.0],\n [0.0, 0.0],\n [0.0, 0.0],\n [0.0, 0.0],\n [0.0, 0.0],\n [0.0, 0.0],\n [0.0, 0.0],\n [0.0, 0.0],\n [0.0, 0.0],\n [0.0, 0.0],\n [597.5941162109375, 281.45758056640625],\n [609.488037109375, 417.093505859375],\n [601.8436279296875, 603.1775512695312],\n [598.9402465820312, 1080.0],\n [986.5540771484375, 287.8790588378906],\n [1072.697265625, 371.41998291015625],\n [1219.160400390625, 481.7861022949219],\n [1371.283203125, 623.21923828125],\n [1239.8560791015625, 415.7982177734375],\n [1235.86083984375, 331.572265625],\n [0.0, 0.0],\n [1133.98095703125, 220.17320251464844],\n [1237.038818359375, 272.2314147949219],\n [1324.9869384765625, 329.6633605957031],\n [0.0, 0.0],\n [0.0, 0.0],\n [0.0, 0.0],\n [478.8782043457031, 490.514404296875],\n [770.259521484375, 470.48077392578125]]"
     },
     "execution_count": 49,
     "metadata": {},
     "output_type": "execute_result"
    }
   ],
   "source": [
    "points = keypoints['keypoints'][250]\n",
    "# points[-1] = [0.0, 0.0]\n",
    "# points[-2] = [0.0, 0.0]\n",
    "points"
   ],
   "metadata": {
    "collapsed": false,
    "ExecuteTime": {
     "end_time": "2024-12-28T13:32:33.821792600Z",
     "start_time": "2024-12-28T13:32:33.810258600Z"
    }
   },
   "id": "4050776b1aa3d0d7"
  },
  {
   "cell_type": "code",
   "execution_count": 50,
   "outputs": [],
   "source": [
    "im = cv2.imread(r\"C:\\Users\\kowal\\Downloads\\SNGS-118-20241220T152004Z-001\\SNGS-118\\img1\\000251.jpg\") "
   ],
   "metadata": {
    "collapsed": false,
    "ExecuteTime": {
     "end_time": "2024-12-28T13:32:38.837800Z",
     "start_time": "2024-12-28T13:32:38.798996Z"
    }
   },
   "id": "ffa43396bef3e479"
  },
  {
   "cell_type": "code",
   "execution_count": 52,
   "outputs": [],
   "source": [
    "from random import randint\n",
    "im_cpy = im.copy()\n",
    "for keypoint in keypoints['keypoints'][194]:\n",
    "    color = (randint(0,255), randint(0,255), randint(0,255))\n",
    "    cv2.circle(im_cpy, (int(keypoint[0]), int(keypoint[1])), 5, color, -1)\n",
    "cv2.imwrite('../figures/keypoints-118-251.png', im_cpy)\n",
    "cv2.imshow('image', im_cpy)\n",
    "cv2.waitKey(0)\n",
    "cv2.destroyAllWindows()"
   ],
   "metadata": {
    "collapsed": false,
    "ExecuteTime": {
     "end_time": "2024-12-28T13:33:25.472359400Z",
     "start_time": "2024-12-28T13:33:24.489381200Z"
    }
   },
   "id": "f39c1060c1055c2e"
  }
 ],
 "metadata": {
  "kernelspec": {
   "display_name": "Python 3",
   "language": "python",
   "name": "python3"
  },
  "language_info": {
   "codemirror_mode": {
    "name": "ipython",
    "version": 2
   },
   "file_extension": ".py",
   "mimetype": "text/x-python",
   "name": "python",
   "nbconvert_exporter": "python",
   "pygments_lexer": "ipython2",
   "version": "2.7.6"
  }
 },
 "nbformat": 4,
 "nbformat_minor": 5
}
