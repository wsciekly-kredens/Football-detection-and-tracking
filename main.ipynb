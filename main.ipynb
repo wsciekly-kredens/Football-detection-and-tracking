{
 "cells": [
  {
   "cell_type": "code",
   "id": "initial_id",
   "metadata": {
    "collapsed": true,
    "ExecuteTime": {
     "end_time": "2024-10-08T20:31:47.311425Z",
     "start_time": "2024-10-08T20:31:45.290065Z"
    }
   },
   "source": "import torch",
   "outputs": [],
   "execution_count": 2
  },
  {
   "metadata": {
    "ExecuteTime": {
     "end_time": "2024-10-08T20:31:54.067819Z",
     "start_time": "2024-10-08T20:31:53.995174Z"
    }
   },
   "cell_type": "code",
   "source": "torch.cuda.is_available()",
   "id": "9db664d68043258e",
   "outputs": [
    {
     "data": {
      "text/plain": [
       "True"
      ]
     },
     "execution_count": 3,
     "metadata": {},
     "output_type": "execute_result"
    }
   ],
   "execution_count": 3
  },
  {
   "metadata": {
    "ExecuteTime": {
     "end_time": "2024-10-08T20:51:39.601832Z",
     "start_time": "2024-10-08T20:51:38.494817Z"
    }
   },
   "cell_type": "code",
   "source": [
    "from ultralytics import YOLO\n",
    "\n",
    "model = YOLO('yolo11x.pt')\n",
    "res = model.predict('462172790_2006651416456218_5218472326996395150_n.png')\n",
    "#res[0].show()\n",
    "res[0]"
   ],
   "id": "afc8a4710ff8950f",
   "outputs": [
    {
     "name": "stdout",
     "output_type": "stream",
     "text": [
      "\n",
      "image 1/1 C:\\Users\\Marcin\\PycharmProjects\\inzynierka\\462172790_2006651416456218_5218472326996395150_n.png: 640x640 2 persons, 1 couch, 95.1ms\n",
      "Speed: 3.0ms preprocess, 95.1ms inference, 1.0ms postprocess per image at shape (1, 3, 640, 640)\n"
     ]
    },
    {
     "data": {
      "text/plain": [
       "ultralytics.engine.results.Results object with attributes:\n",
       "\n",
       "boxes: ultralytics.engine.results.Boxes object\n",
       "keypoints: None\n",
       "masks: None\n",
       "names: {0: 'person', 1: 'bicycle', 2: 'car', 3: 'motorcycle', 4: 'airplane', 5: 'bus', 6: 'train', 7: 'truck', 8: 'boat', 9: 'traffic light', 10: 'fire hydrant', 11: 'stop sign', 12: 'parking meter', 13: 'bench', 14: 'bird', 15: 'cat', 16: 'dog', 17: 'horse', 18: 'sheep', 19: 'cow', 20: 'elephant', 21: 'bear', 22: 'zebra', 23: 'giraffe', 24: 'backpack', 25: 'umbrella', 26: 'handbag', 27: 'tie', 28: 'suitcase', 29: 'frisbee', 30: 'skis', 31: 'snowboard', 32: 'sports ball', 33: 'kite', 34: 'baseball bat', 35: 'baseball glove', 36: 'skateboard', 37: 'surfboard', 38: 'tennis racket', 39: 'bottle', 40: 'wine glass', 41: 'cup', 42: 'fork', 43: 'knife', 44: 'spoon', 45: 'bowl', 46: 'banana', 47: 'apple', 48: 'sandwich', 49: 'orange', 50: 'broccoli', 51: 'carrot', 52: 'hot dog', 53: 'pizza', 54: 'donut', 55: 'cake', 56: 'chair', 57: 'couch', 58: 'potted plant', 59: 'bed', 60: 'dining table', 61: 'toilet', 62: 'tv', 63: 'laptop', 64: 'mouse', 65: 'remote', 66: 'keyboard', 67: 'cell phone', 68: 'microwave', 69: 'oven', 70: 'toaster', 71: 'sink', 72: 'refrigerator', 73: 'book', 74: 'clock', 75: 'vase', 76: 'scissors', 77: 'teddy bear', 78: 'hair drier', 79: 'toothbrush'}\n",
       "obb: None\n",
       "orig_img: array([[[ 30,  37,  46],\n",
       "        [ 30,  37,  46],\n",
       "        [ 30,  37,  46],\n",
       "        ...,\n",
       "        [ 35,  48,  64],\n",
       "        [ 35,  48,  64],\n",
       "        [ 37,  47,  64]],\n",
       "\n",
       "       [[ 27,  34,  43],\n",
       "        [ 27,  34,  43],\n",
       "        [ 27,  34,  43],\n",
       "        ...,\n",
       "        [ 49,  65,  81],\n",
       "        [ 49,  65,  81],\n",
       "        [ 50,  65,  81]],\n",
       "\n",
       "       [[ 44,  50,  61],\n",
       "        [ 44,  50,  61],\n",
       "        [ 44,  50,  61],\n",
       "        ...,\n",
       "        [ 91, 114, 130],\n",
       "        [ 91, 114, 130],\n",
       "        [ 93, 113, 130]],\n",
       "\n",
       "       ...,\n",
       "\n",
       "       [[ 66,  57,  97],\n",
       "        [ 67,  58,  98],\n",
       "        [ 68,  59,  99],\n",
       "        ...,\n",
       "        [  7,  18,  22],\n",
       "        [ 19,  30,  34],\n",
       "        [ 31,  42,  46]],\n",
       "\n",
       "       [[ 68,  58, 100],\n",
       "        [ 68,  58, 100],\n",
       "        [ 70,  60, 102],\n",
       "        ...,\n",
       "        [  7,  18,  22],\n",
       "        [ 18,  29,  33],\n",
       "        [ 30,  41,  45]],\n",
       "\n",
       "       [[ 70,  60, 102],\n",
       "        [ 70,  60, 102],\n",
       "        [ 72,  62, 104],\n",
       "        ...,\n",
       "        [  6,  17,  21],\n",
       "        [ 18,  29,  33],\n",
       "        [ 30,  41,  45]]], dtype=uint8)\n",
       "orig_shape: (680, 651)\n",
       "path: 'C:\\\\Users\\\\Marcin\\\\PycharmProjects\\\\inzynierka\\\\462172790_2006651416456218_5218472326996395150_n.png'\n",
       "probs: None\n",
       "save_dir: 'runs\\\\detect\\\\predict'\n",
       "speed: {'preprocess': 3.0028820037841797, 'inference': 95.08657455444336, 'postprocess': 1.0018348693847656}"
      ]
     },
     "execution_count": 23,
     "metadata": {},
     "output_type": "execute_result"
    }
   ],
   "execution_count": 23
  },
  {
   "metadata": {
    "ExecuteTime": {
     "end_time": "2024-10-08T20:51:42.325696Z",
     "start_time": "2024-10-08T20:51:42.204748Z"
    }
   },
   "cell_type": "code",
   "source": [
    "res[0].show()\n",
    "res[0].summary()"
   ],
   "id": "f61af1bc28d31d31",
   "outputs": [
    {
     "data": {
      "text/plain": [
       "[{'name': 'person',\n",
       "  'class': 0,\n",
       "  'confidence': 0.9333,\n",
       "  'box': {'x1': 217.7457, 'y1': 244.55431, 'x2': 645.91089, 'y2': 679.42609}},\n",
       " {'name': 'person',\n",
       "  'class': 0,\n",
       "  'confidence': 0.89952,\n",
       "  'box': {'x1': 0.01993, 'y1': 372.45651, 'x2': 246.10295, 'y2': 679.64484}},\n",
       " {'name': 'couch',\n",
       "  'class': 57,\n",
       "  'confidence': 0.33661,\n",
       "  'box': {'x1': 0.0, 'y1': 326.41122, 'x2': 282.38501, 'y2': 679.25476}}]"
      ]
     },
     "execution_count": 24,
     "metadata": {},
     "output_type": "execute_result"
    }
   ],
   "execution_count": 24
  }
 ],
 "metadata": {
  "kernelspec": {
   "display_name": "Python 3",
   "language": "python",
   "name": "python3"
  },
  "language_info": {
   "codemirror_mode": {
    "name": "ipython",
    "version": 2
   },
   "file_extension": ".py",
   "mimetype": "text/x-python",
   "name": "python",
   "nbconvert_exporter": "python",
   "pygments_lexer": "ipython2",
   "version": "2.7.6"
  }
 },
 "nbformat": 4,
 "nbformat_minor": 5
}
