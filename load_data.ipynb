{
 "cells": [
  {
   "metadata": {},
   "cell_type": "code",
   "source": [
    "import numpy as np\n",
    "import pandas as pd\n",
    "import os\n",
    "import json\n",
    "import cv2\n",
    "from tqdm import tqdm\n",
    "import zipfile\n",
    "import torch\n",
    "from ultralytics import YOLO\n",
    "import time\n"
   ],
   "id": "d25ba0e17edbdde1",
   "outputs": [],
   "execution_count": null
  },
  {
   "metadata": {},
   "cell_type": "markdown",
   "source": [
    "import zipfile\n",
    "\n",
    "DIR = r'data\\SoccerNetGS\\gamestate-2024'\n",
    "\n",
    "\n",
    "def unzip_data():\n",
    "    paths = ['challenge.zip', 'test.zip', 'train.zip', 'valid.zip']\n",
    "    for path in paths:\n",
    "        f_path = os.path.join(DIR, path)\n",
    "        with zipfile.ZipFile(f_path, 'r') as zip_ref:\n",
    "            zip_ref.extractall(os.path.join(DIR, path[:-4]))\n",
    "\n",
    "#unzip_data()  "
   ],
   "id": "684ca4575b61ebdd"
  },
  {
   "cell_type": "code",
   "id": "initial_id",
   "metadata": {},
   "source": [
    "DIRECTORY = 'data/SoccerNetGS/gamestate-2024/valid/'\n",
    "\n",
    "\n",
    "def load_data(dir: str = None) -> list:\n",
    "    data = list()\n",
    "    print('Wczytywanie danych...')\n",
    "    for folder_name in tqdm(os.listdir(DIRECTORY)):\n",
    "        folder_full_path = os.path.join(DIRECTORY, folder_name)\n",
    "        if os.path.isdir(folder_full_path):\n",
    "            with open(os.path.join(DIRECTORY, folder_name, 'Labels-GameState.json')) as f:\n",
    "                d = json.load(f)\n",
    "                data.append(d['annotations'])\n",
    "    return data\n",
    "\n",
    "\n",
    "def parse_data_to_df(data: list) -> pd.DataFrame:\n",
    "    start = time.time()\n",
    "    print('Tworzenie DataFrame...')\n",
    "    flat_dict = dict()\n",
    "    for annotations in tqdm(data):\n",
    "        data_image = filter(lambda x: x['supercategory'] == 'object' \n",
    "                                      and x['bbox_pitch_raw'] is not None, annotations)\n",
    "        for img in data_image:\n",
    "            for key in img:\n",
    "                if isinstance(img[key], dict):\n",
    "                    for key2 in img[key]:\n",
    "                        if key + '_' + key2 not in flat_dict:\n",
    "                            flat_dict[key + '_' + key2] = []\n",
    "                        flat_dict[key + '_' + key2].append(img[key][key2])\n",
    "                else:\n",
    "                    if key not in flat_dict:\n",
    "                        flat_dict[key] = []\n",
    "                    flat_dict[key].append(img[key])\n",
    "    df = pd.DataFrame(flat_dict, index=flat_dict['id'])\n",
    "    df = df.drop(columns=['id'])\n",
    "    return df\n"
   ],
   "outputs": [],
   "execution_count": null
  },
  {
   "metadata": {},
   "cell_type": "code",
   "source": "data = load_data()",
   "id": "4d15ec8bff800f27",
   "outputs": [],
   "execution_count": null
  },
  {
   "metadata": {},
   "cell_type": "code",
   "source": "df = parse_data_to_df(data)",
   "id": "81c4c8cae84f1841",
   "outputs": [],
   "execution_count": null
  },
  {
   "metadata": {},
   "cell_type": "code",
   "source": "df",
   "id": "61f976840277a842",
   "outputs": [],
   "execution_count": null
  },
  {
   "cell_type": "code",
   "id": "b5a58c1eb9e8639a",
   "metadata": {
    "collapsed": false
   },
   "source": [
    "def draw_bbox(image, bbox, color=(0, 0, 0)):\n",
    "    x, y, w, h = bbox\n",
    "    cv2.rectangle(image, (x, y), (x + w, y + h), color, 2)\n",
    "    img_height, img_width, _ = image.shape\n",
    "    scale_factor = min(1000 / img_width, 720 / img_height)\n",
    "    if scale_factor < 1:\n",
    "        img = cv2.resize(image, (int(img_width * scale_factor), int(img_height * scale_factor)))\n",
    "    cv2.imshow('Bounding Box', img)\n",
    "    cv2.waitKey(0)\n",
    "    cv2.destroyAllWindows()\n",
    "    return img"
   ],
   "outputs": [],
   "execution_count": null
  },
  {
   "metadata": {},
   "cell_type": "code",
   "source": [
    "image = cv2.imread('data/SoccerNetGS/gamestate-2024/train/SNGS-060/img1/000001.jpg')\n",
    "bbox = df.loc['2021000001', ['bbox_image_x', 'bbox_image_y', 'bbox_image_w', 'bbox_image_h']]\n",
    "bbox = bbox.values\n",
    "img = draw_bbox(image, bbox)"
   ],
   "id": "8daf2b24de59429",
   "outputs": [],
   "execution_count": null
  },
  {
   "cell_type": "code",
   "id": "2421e66882254e22",
   "metadata": {
    "collapsed": false
   },
   "source": [
    "def get_parsed_df(path: str):\n",
    "    data = list()\n",
    "    with open(os.path.join(path, 'Labels-GameState.json')) as f:\n",
    "        d = json.load(f)\n",
    "        data.append(d['annotations'])\n",
    "    flat_dict = dict()\n",
    "    for annotations in data:\n",
    "        data_annotations = filter(lambda x: x['supercategory'] == 'object', annotations)\n",
    "        for img in data_annotations:\n",
    "            if img['bbox_pitch_raw'] is None:\n",
    "                # set bbox_pitch to 0,0,0,0\n",
    "                img['bbox_pitch_raw'] = {\"x_bottom_left\": -0.5618667663373333,\n",
    "                                     \"y_bottom_left\": 24.046080743490077,\n",
    "                                     \"x_bottom_right\": 0.0073212402595505275,\n",
    "                                     \"y_bottom_right\": 24.050080078959525,\n",
    "                                     \"x_bottom_middle\": -0.2772623829267213,\n",
    "                                     \"y_bottom_middle\": 24.048314011381127}\n",
    "            for key in img:\n",
    "                if isinstance(img[key], dict):\n",
    "                    for key2 in img[key]:\n",
    "                        if key + '_' + key2 not in flat_dict:\n",
    "                            flat_dict[key + '_' + key2] = []\n",
    "                        flat_dict[key + '_' + key2].append(img[key][key2])\n",
    "                else:\n",
    "                    if key not in flat_dict:\n",
    "                        flat_dict[key] = []\n",
    "                    flat_dict[key].append(img[key])\n",
    "    df = pd.DataFrame(flat_dict, index=flat_dict['id'])\n",
    "    df = df.drop(columns=['id'])\n",
    "    return df"
   ],
   "outputs": [],
   "execution_count": null
  },
  {
   "cell_type": "code",
   "id": "75ea85fc655f443c",
   "metadata": {
    "collapsed": false
   },
   "source": [
    "def get_YOLO_file(path: str, split: str):\n",
    "    categories = {'ball': 1, 'player': 0, 'referee': 0, 'goalkeeper': 0}\n",
    "    df = get_parsed_df(path)\n",
    "    df = df.loc[:, ['image_id', 'bbox_image_x_center', 'bbox_image_y_center', 'bbox_image_w', 'bbox_image_h', 'attributes_role']]\n",
    "    file_contents = ['' for _ in range(df.image_id.nunique())]\n",
    "    for i, row in tqdm(df.iterrows()):\n",
    "        x, y, w, h = row[['bbox_image_x_center', 'bbox_image_y_center', 'bbox_image_w', 'bbox_image_h']]\n",
    "        role = row['attributes_role']\n",
    "        category = categories[role]\n",
    "        x = round(x / 1920, 6)\n",
    "        y = round(y / 1080, 6)\n",
    "        w = round(w / 1920, 6)\n",
    "        h = round(h / 1080, 6)\n",
    "        file_contents[int(row['image_id'][-3:]) - 1] += f'{category} {x} {y} {w} {h}\\n'\n",
    "    for i, flie in tqdm(enumerate(file_contents)):\n",
    "        with open(f'datasets/football_data/{split}/labels/{i + 1 :06d}.txt', 'w') as f:\n",
    "            f.write(flie)"
   ],
   "outputs": [],
   "execution_count": null
  },
  {
   "metadata": {},
   "cell_type": "code",
   "source": "get_YOLO_file('data/SoccerNetGS/gamestate-2024/train/SNGS-060/', 'train')",
   "id": "4277093edae9e759",
   "outputs": [],
   "execution_count": null
  },
  {
   "metadata": {},
   "cell_type": "code",
   "source": "get_YOLO_file('data/SoccerNetGS/gamestate-2024/valid/SNGS-021/', 'valid')",
   "id": "b6ec55f75eb549a9",
   "outputs": [],
   "execution_count": null
  },
  {
   "metadata": {},
   "cell_type": "code",
   "source": [
    "def draw_bbox_from_yolo_file(path: str, img_num: int):\n",
    "    filename = f'{img_num:06d}'\n",
    "    img = cv2.imread(f'{path}/images/{filename}.jpg')\n",
    "    with open(f'{path}/labels/{filename}.txt', 'r') as f:\n",
    "        labels = f.read()\n",
    "    print(labels)\n",
    "draw_bbox_from_yolo_file('datasets/football_data/train', 1)"
   ],
   "id": "f684376bc4b8820b",
   "outputs": [],
   "execution_count": null
  },
  {
   "cell_type": "code",
   "source": [
    "path = 'data/SoccerNetGS/gamestate-2024/valid/SNGS-021/Labels-GameState.json'\n",
    "with open(path) as f:\n",
    "    loaded_data = json.load(f)\n",
    "loaded_data = loaded_data['annotations']\n",
    "loaded_data"
   ],
   "metadata": {
    "collapsed": false
   },
   "id": "37bfe8912188325f",
   "outputs": [],
   "execution_count": null
  },
  {
   "cell_type": "code",
   "source": [
    "def flatten_data(data: list[list[dict]]) -> list:\n",
    "    flat_list = [y for x in data for y in x]\n",
    "    return flat_list"
   ],
   "metadata": {
    "collapsed": false
   },
   "id": "4bdec71c2ea9c0c5",
   "outputs": [],
   "execution_count": null
  },
  {
   "cell_type": "code",
   "source": [
    "flatten_data_list: list[dict] = flatten_data(data)"
   ],
   "metadata": {
    "collapsed": false
   },
   "id": "4f8ee40b9ed08135",
   "outputs": [],
   "execution_count": null
  },
  {
   "cell_type": "code",
   "source": [
    "def get_pitch_data_df(data: list) -> pd.DataFrame:\n",
    "    pitch_data_dict = {'id': [], 'image_id': [], 'line_type': [], 'x': [], 'y': []}\n",
    "    data = filter(lambda x: x['supercategory'] == 'pitch', data)\n",
    "    for anotation in data:\n",
    "        for line in anotation['lines']:\n",
    "            for data_point in anotation['lines'][line]:\n",
    "                pitch_data_dict['id'].append(int(anotation['id']))\n",
    "                pitch_data_dict['image_id'].append(int(anotation['image_id']))\n",
    "                pitch_data_dict['line_type'].append(line)\n",
    "                pitch_data_dict['x'].append(data_point['x'])\n",
    "                pitch_data_dict['y'].append(data_point['y'])\n",
    "    pitch_df = pd.DataFrame(pitch_data_dict)\n",
    "    return pitch_df"
   ],
   "metadata": {
    "collapsed": false
   },
   "id": "fc48ebc69c2a3f58",
   "outputs": [],
   "execution_count": null
  },
  {
   "cell_type": "code",
   "source": [
    "pitch_df = get_pitch_data_df(flatten_data_list)"
   ],
   "metadata": {
    "collapsed": false
   },
   "id": "ff31a82cf533034e",
   "outputs": [],
   "execution_count": null
  },
  {
   "cell_type": "markdown",
   "id": "484c1aa6c6b6e25f",
   "metadata": {
    "collapsed": false
   },
   "source": [
    "Brackuje 90 i 489"
   ]
  },
  {
   "cell_type": "code",
   "source": [
    "lines = pitch_coords['lines']\n",
    "lines"
   ],
   "metadata": {
    "collapsed": false
   },
   "id": "cf7583b876ed0860",
   "outputs": [],
   "execution_count": null
  },
  {
   "cell_type": "code",
   "source": [
    "def denormalize_coordinates(x: float, y: float, img_width: int, img_height: int) -> tuple[int, int]:\n",
    "    return int(x * img_width), int(y * img_height)\n",
    "\n",
    "\n",
    "def draw_points_on_image(image: np.ndarray, coords: pd.DataFrame) -> np.ndarray:\n",
    "    image_height, image_width, _ = image.shape\n",
    "\n",
    "    colors = {\n",
    "        'Big rect. left bottom': (0,0,0),\n",
    "        'Big rect. left main': (0, 255, 0),\n",
    "        'Big rect. left top': (255, 0, 0),\n",
    "        'Big rect. right bottom': (0, 0, 255),\n",
    "        'Big rect. right main': (255, 255, 0),\n",
    "        'Big rect. right top': (255, 0, 255),\n",
    "        'Circle central': (0, 255, 255),\n",
    "        'Circle left': (255, 255, 255),\n",
    "        'Circle right': (128, 128, 128),\n",
    "        'Goal left crossbar': (255, 128, 128),\n",
    "        'Goal left post left': (128, 255, 128),\n",
    "        'Goal left post right': (128, 128, 255),\n",
    "        'Goal right crossbar': (255, 128, 255),\n",
    "        'Goal right post left': (255, 255, 128),\n",
    "        'Goal right post right': (128, 255, 255),\n",
    "        'Middle line': (255, 64, 128),\n",
    "        'Side line bottom': (128, 255, 64),\n",
    "        'Side line left': (64, 128, 255),\n",
    "        'Side line right': (128, 64, 255),\n",
    "        'Side line top': (255, 128, 64),\n",
    "        'Small rect. left bottom': (64, 255, 128),\n",
    "        'Small rect. left main': (192, 255, 32),\n",
    "        'Small rect. left top': (32, 192, 255),\n",
    "        'Small rect. right bottom': (255, 32, 192),\n",
    "        'Small rect. right main': (32, 255, 192),\n",
    "        'Small rect. right top': (192, 32, 255)\n",
    "    }\n",
    "    for i, row in coords.iterrows():\n",
    "        color = colors[row['line_type']] if row['line_type'] in colors.keys() else (0, 0, 0)\n",
    "        x_pixel, y_pixel = denormalize_coordinates(row['x'], row['y'], image_width, image_height)\n",
    "        cv2.circle(image, (x_pixel, y_pixel), radius=5, color=color, thickness=-1)\n",
    "    # for category, points in coords.items():\n",
    "    #     color = colors[category]\n",
    "    #     for point in points:\n",
    "    #         if category == 'Middle line':\n",
    "    #             x_pixel, y_pixel = denormalize_coordinates(point['x'], point['y'], image_width, image_height)\n",
    "    #             cv2.circle(image, (x_pixel, y_pixel), radius=5, color=color, thickness=-1)\n",
    "\n",
    "    scale_factor = min(1920 / image_width, 1080 / image_height)\n",
    "    if scale_factor < 1:\n",
    "        image = cv2.resize(image, (int(image_width * scale_factor), int(image_height * scale_factor)))\n",
    "\n",
    "    # cv2.imshow(\"Image with Points\", image)\n",
    "    # cv2.waitKey(0)\n",
    "    # cv2.destroyAllWindows()\n",
    "    return image"
   ],
   "metadata": {
    "collapsed": false
   },
   "id": "28e9d317b922b47f",
   "outputs": [],
   "execution_count": null
  },
  {
   "cell_type": "code",
   "source": [
    "sngs = [21, 22, 23, 32, 41, 44, 35]\n",
    "imgs = [1, 14, 66, 734, 344, 567, 222]\n",
    "example_images = [(x, y) for x in sngs for y in imgs]\n",
    "for example_image in example_images:\n",
    "    image = cv2.imread(\n",
    "        f'data/SoccerNetGS/gamestate-2024/valid/SNGS-0{example_image[0]}/img1/000{example_image[1]:03d}.jpg')\n",
    "    transformed_img = draw_points_on_image(image, pitch_df[\n",
    "        pitch_df['image_id'] == int(f'20{example_image[0]}000{example_image[1]:03d}')])\n",
    "    cv2.imwrite(f'results\\\\{example_image[0]}{example_image[1]:03d}.png', transformed_img)"
   ],
   "metadata": {
    "collapsed": false
   },
   "id": "e3cd83bbdefa2f71",
   "outputs": [],
   "execution_count": null
  },
  {
   "cell_type": "code",
   "source": [
    "line_types = pitch_df['line_type'].tolist()\n",
    "set(line_types)"
   ],
   "metadata": {
    "collapsed": false
   },
   "id": "290196dac8b78e7a",
   "outputs": [],
   "execution_count": null
  },
  {
   "cell_type": "code",
   "id": "fbd8ef66e2c2e59f",
   "metadata": {
    "collapsed": false
   },
   "source": [
    "#get_YOLO_file('data/SoccerNetGS/train/SNGS-060/', 'train')\n",
    "#get_YOLO_file('data/SoccerNetGS/test/SNGS-116/', 'test')\n"
   ],
   "outputs": [],
   "execution_count": null
  },
  {
   "cell_type": "code",
   "source": [
    "model = YOLO(\"yolo11n.pt\")\n",
    "\n",
    "results = model(\"results/21001.png\")\n",
    "\n",
    "\n",
    "# Display the results\n",
    "results[0].show()"
   ],
   "metadata": {
    "collapsed": false
   },
   "id": "fb30e5be9ffb205b",
   "outputs": [],
   "execution_count": null
  },
  {
   "metadata": {},
   "cell_type": "code",
   "source": [
    "model = YOLO(\"yolo11n.pt\")\n",
    "results = model.train(data='datasets/football_data/data.yaml', epochs=30, plots=True)"
   ],
   "id": "2116b53a9043e26",
   "outputs": [],
   "execution_count": null
  },
  {
   "metadata": {},
   "cell_type": "code",
   "source": "dir(results)",
   "id": "79ee71d065a0ac62",
   "outputs": [],
   "execution_count": null
  },
  {
   "metadata": {},
   "cell_type": "code",
   "source": "results.task",
   "id": "aca500739521ea0f",
   "outputs": [],
   "execution_count": null
  },
  {
   "metadata": {},
   "cell_type": "code",
   "source": [
    "model = YOLO(\"runs/detect/train24/weights/best.pt\")\n",
    "predykted = model.predict(r\"C:\\Users\\Marcin\\Videos\\ganzgut.mp4\", show=True, save=True)"
   ],
   "id": "f2bb3d83f1b7a802",
   "outputs": [],
   "execution_count": null
  },
  {
   "metadata": {},
   "cell_type": "code",
   "source": "predykted",
   "id": "4f3ff2050c880cf",
   "outputs": [],
   "execution_count": null
  }
 ],
 "metadata": {
  "kernelspec": {
   "display_name": "Python 3 (ipykernel)",
   "language": "python",
   "name": "python3"
  },
  "language_info": {
   "codemirror_mode": {
    "name": "ipython",
    "version": 3
   },
   "file_extension": ".py",
   "mimetype": "text/x-python",
   "name": "python",
   "nbconvert_exporter": "python",
   "pygments_lexer": "ipython3",
   "version": "3.12.6"
  }
 },
 "nbformat": 4,
 "nbformat_minor": 5
}
