{
 "cells": [
  {
   "cell_type": "code",
   "id": "initial_id",
   "metadata": {
    "collapsed": true,
    "ExecuteTime": {
     "end_time": "2024-11-16T15:23:17.377286Z",
     "start_time": "2024-11-16T15:23:13.646483Z"
    }
   },
   "source": [
    "from mplsoccer.pitch import Pitch\n",
    "import numpy as np\n",
    "import matplotlib.pyplot as plt\n",
    "import cv2\n",
    "from prompt_toolkit.shortcuts.progress_bar import Label\n",
    "\n",
    "from data_parse import DataParser\n",
    "from keypoint import Keypoint\n",
    "import pandas as pd"
   ],
   "outputs": [],
   "execution_count": 1
  },
  {
   "metadata": {
    "ExecuteTime": {
     "end_time": "2024-11-16T15:23:43.616662Z",
     "start_time": "2024-11-16T15:23:22.923543Z"
    }
   },
   "cell_type": "code",
   "source": [
    "directory = 'data/SoccerNetGS/gamestate-2024/train/'\n",
    "data_parser = DataParser(directory)\n",
    "data = data_parser.parse_data_to_df()"
   ],
   "id": "65c8e7db65b2c0cd",
   "outputs": [
    {
     "name": "stdout",
     "output_type": "stream",
     "text": [
      "Wczytywanie danych...\n"
     ]
    },
    {
     "name": "stderr",
     "output_type": "stream",
     "text": [
      "100%|██████████| 58/58 [00:13<00:00,  4.39it/s]\n"
     ]
    },
    {
     "name": "stdout",
     "output_type": "stream",
     "text": [
      "Tworzenie DataFrame...\n"
     ]
    },
    {
     "name": "stderr",
     "output_type": "stream",
     "text": [
      "100%|██████████| 57/57 [00:04<00:00, 12.88it/s]\n"
     ]
    }
   ],
   "execution_count": 2
  },
  {
   "metadata": {
    "ExecuteTime": {
     "end_time": "2024-11-16T15:23:43.786729Z",
     "start_time": "2024-11-16T15:23:43.619662Z"
    }
   },
   "cell_type": "code",
   "source": "one_img_data = data[data['image_id'] == '1060000001']",
   "id": "b8cd9032d1104cdc",
   "outputs": [],
   "execution_count": 3
  },
  {
   "metadata": {
    "ExecuteTime": {
     "end_time": "2024-11-16T15:23:44.195784Z",
     "start_time": "2024-11-16T15:23:44.035528Z"
    }
   },
   "cell_type": "code",
   "source": "positional_data: pd.DataFrame = data_parser.get_shirts_data()",
   "id": "3e7529cc3734dd72",
   "outputs": [],
   "execution_count": 4
  },
  {
   "metadata": {
    "ExecuteTime": {
     "end_time": "2024-11-16T15:23:44.453422Z",
     "start_time": "2024-11-16T15:23:44.445013Z"
    }
   },
   "cell_type": "code",
   "source": "positional_data",
   "id": "c0dd72ee181b4517",
   "outputs": [
    {
     "data": {
      "text/plain": [
       "              image_id  bbox_image_x  bbox_image_y  bbox_image_w  \\\n",
       "1060000001  1060000001           914           855            55   \n",
       "1060000002  1060000001           917           575            32   \n",
       "1060000003  1060000001           956           557            53   \n",
       "1060000004  1060000001          1257           673            44   \n",
       "1060000005  1060000001          1888           400            30   \n",
       "...                ...           ...           ...           ...   \n",
       "1170014150  1170000750          1567           407            30   \n",
       "1170014151  1170000750           419           473            61   \n",
       "1170014152  1170000750          1681           390            29   \n",
       "1170014153  1170000750          1144           455            42   \n",
       "1170014155  1170000750           131           498            36   \n",
       "\n",
       "            bbox_image_h attributes_team  \n",
       "1060000001           172            left  \n",
       "1060000002           122            left  \n",
       "1060000003           133           right  \n",
       "1060000004           141           right  \n",
       "1060000005           101           right  \n",
       "...                  ...             ...  \n",
       "1170014150            63            left  \n",
       "1170014151            92           right  \n",
       "1170014152            70            left  \n",
       "1170014153            83            left  \n",
       "1170014155            67           right  \n",
       "\n",
       "[590459 rows x 6 columns]"
      ],
      "text/html": [
       "<div>\n",
       "<style scoped>\n",
       "    .dataframe tbody tr th:only-of-type {\n",
       "        vertical-align: middle;\n",
       "    }\n",
       "\n",
       "    .dataframe tbody tr th {\n",
       "        vertical-align: top;\n",
       "    }\n",
       "\n",
       "    .dataframe thead th {\n",
       "        text-align: right;\n",
       "    }\n",
       "</style>\n",
       "<table border=\"1\" class=\"dataframe\">\n",
       "  <thead>\n",
       "    <tr style=\"text-align: right;\">\n",
       "      <th></th>\n",
       "      <th>image_id</th>\n",
       "      <th>bbox_image_x</th>\n",
       "      <th>bbox_image_y</th>\n",
       "      <th>bbox_image_w</th>\n",
       "      <th>bbox_image_h</th>\n",
       "      <th>attributes_team</th>\n",
       "    </tr>\n",
       "  </thead>\n",
       "  <tbody>\n",
       "    <tr>\n",
       "      <th>1060000001</th>\n",
       "      <td>1060000001</td>\n",
       "      <td>914</td>\n",
       "      <td>855</td>\n",
       "      <td>55</td>\n",
       "      <td>172</td>\n",
       "      <td>left</td>\n",
       "    </tr>\n",
       "    <tr>\n",
       "      <th>1060000002</th>\n",
       "      <td>1060000001</td>\n",
       "      <td>917</td>\n",
       "      <td>575</td>\n",
       "      <td>32</td>\n",
       "      <td>122</td>\n",
       "      <td>left</td>\n",
       "    </tr>\n",
       "    <tr>\n",
       "      <th>1060000003</th>\n",
       "      <td>1060000001</td>\n",
       "      <td>956</td>\n",
       "      <td>557</td>\n",
       "      <td>53</td>\n",
       "      <td>133</td>\n",
       "      <td>right</td>\n",
       "    </tr>\n",
       "    <tr>\n",
       "      <th>1060000004</th>\n",
       "      <td>1060000001</td>\n",
       "      <td>1257</td>\n",
       "      <td>673</td>\n",
       "      <td>44</td>\n",
       "      <td>141</td>\n",
       "      <td>right</td>\n",
       "    </tr>\n",
       "    <tr>\n",
       "      <th>1060000005</th>\n",
       "      <td>1060000001</td>\n",
       "      <td>1888</td>\n",
       "      <td>400</td>\n",
       "      <td>30</td>\n",
       "      <td>101</td>\n",
       "      <td>right</td>\n",
       "    </tr>\n",
       "    <tr>\n",
       "      <th>...</th>\n",
       "      <td>...</td>\n",
       "      <td>...</td>\n",
       "      <td>...</td>\n",
       "      <td>...</td>\n",
       "      <td>...</td>\n",
       "      <td>...</td>\n",
       "    </tr>\n",
       "    <tr>\n",
       "      <th>1170014150</th>\n",
       "      <td>1170000750</td>\n",
       "      <td>1567</td>\n",
       "      <td>407</td>\n",
       "      <td>30</td>\n",
       "      <td>63</td>\n",
       "      <td>left</td>\n",
       "    </tr>\n",
       "    <tr>\n",
       "      <th>1170014151</th>\n",
       "      <td>1170000750</td>\n",
       "      <td>419</td>\n",
       "      <td>473</td>\n",
       "      <td>61</td>\n",
       "      <td>92</td>\n",
       "      <td>right</td>\n",
       "    </tr>\n",
       "    <tr>\n",
       "      <th>1170014152</th>\n",
       "      <td>1170000750</td>\n",
       "      <td>1681</td>\n",
       "      <td>390</td>\n",
       "      <td>29</td>\n",
       "      <td>70</td>\n",
       "      <td>left</td>\n",
       "    </tr>\n",
       "    <tr>\n",
       "      <th>1170014153</th>\n",
       "      <td>1170000750</td>\n",
       "      <td>1144</td>\n",
       "      <td>455</td>\n",
       "      <td>42</td>\n",
       "      <td>83</td>\n",
       "      <td>left</td>\n",
       "    </tr>\n",
       "    <tr>\n",
       "      <th>1170014155</th>\n",
       "      <td>1170000750</td>\n",
       "      <td>131</td>\n",
       "      <td>498</td>\n",
       "      <td>36</td>\n",
       "      <td>67</td>\n",
       "      <td>right</td>\n",
       "    </tr>\n",
       "  </tbody>\n",
       "</table>\n",
       "<p>590459 rows × 6 columns</p>\n",
       "</div>"
      ]
     },
     "execution_count": 5,
     "metadata": {},
     "output_type": "execute_result"
    }
   ],
   "execution_count": 5
  },
  {
   "metadata": {
    "ExecuteTime": {
     "end_time": "2024-11-16T15:23:47.048128Z",
     "start_time": "2024-11-16T15:23:44.768543Z"
    }
   },
   "cell_type": "code",
   "source": "pitch_data: pd.DataFrame = data_parser.get_pitch_data_df()",
   "id": "6a77aa4dcb2429c9",
   "outputs": [
    {
     "name": "stderr",
     "output_type": "stream",
     "text": [
      "42750it [00:00, 43269.26it/s]\n"
     ]
    }
   ],
   "execution_count": 6
  },
  {
   "metadata": {
    "ExecuteTime": {
     "end_time": "2024-11-16T15:23:47.073985Z",
     "start_time": "2024-11-16T15:23:47.068971Z"
    }
   },
   "cell_type": "code",
   "source": "pitch_data_one_img = pitch_data[pitch_data['image_id'] == 1060000233]",
   "id": "21947d112e3785e3",
   "outputs": [],
   "execution_count": 7
  },
  {
   "metadata": {
    "ExecuteTime": {
     "end_time": "2024-11-16T15:55:59.909777Z",
     "start_time": "2024-11-16T15:55:59.900575Z"
    }
   },
   "cell_type": "code",
   "source": [
    "keypoint = Keypoint(None)\n",
    "lines = keypoint.get_func_pattern(pitch_data_one_img)"
   ],
   "id": "f7f75444413dc74c",
   "outputs": [
    {
     "name": "stderr",
     "output_type": "stream",
     "text": [
      "100%|██████████| 1/1 [00:00<00:00, 250.05it/s]\n"
     ]
    }
   ],
   "execution_count": 11
  },
  {
   "metadata": {
    "ExecuteTime": {
     "end_time": "2024-11-16T15:56:03.409523Z",
     "start_time": "2024-11-16T15:56:03.405536Z"
    }
   },
   "cell_type": "code",
   "source": "lines",
   "id": "e359ce5a0e7f94f",
   "outputs": [
    {
     "data": {
      "text/plain": [
       "{np.int64(1060000233): {17: (np.float64(0.04371318804793325),\n",
       "   np.float64(298.6067819712584)),\n",
       "  15: (np.float64(-0.19905488971622756), np.float64(470.79766666666626)),\n",
       "  6: (np.float64(0.06305632776056667), np.float64(378.40451113693877)),\n",
       "  5: (np.float64(-0.21982243637024626), np.float64(512.8810877576235)),\n",
       "  4: (np.float64(0.08953102066286513), np.float64(489.4894999999998)),\n",
       "  1: (np.float64(0.12325928737829459), np.float64(611.768166666667)),\n",
       "  14: (np.float64(0.1970142654434381), np.float64(938.5872103667278)),\n",
       "  2: (np.float64(-0.28845183214073233), np.float64(642.0999589445009)),\n",
       "  3: (np.float64(0.053000896488348256), np.float64(336.5958508731873)),\n",
       "  0: <ellipse.Ellipse at 0x1e2d2b81370>}}"
      ]
     },
     "execution_count": 12,
     "metadata": {},
     "output_type": "execute_result"
    }
   ],
   "execution_count": 12
  },
  {
   "metadata": {
    "ExecuteTime": {
     "end_time": "2024-11-16T15:56:07.078133Z",
     "start_time": "2024-11-16T15:56:07.075594Z"
    }
   },
   "cell_type": "code",
   "source": "keypoints = keypoint.get_all_keypoints_by_id(np.int64(1060000233))",
   "id": "9000351fd98d98ea",
   "outputs": [
    {
     "name": "stdout",
     "output_type": "stream",
     "text": [
      "17\n",
      "[13, 15, 16]\n",
      "15\n",
      "[1, 3, 4, 6, 14, 17]\n",
      "6\n",
      "[5, 15]\n",
      "5\n",
      "[4, 6]\n",
      "4\n",
      "[5, 15]\n",
      "1\n",
      "[2, 15]\n",
      "14\n",
      "[13, 15, 16]\n",
      "2\n",
      "[1, 3]\n",
      "3\n",
      "[2, 15]\n",
      "0\n",
      "[13]\n"
     ]
    }
   ],
   "execution_count": 13
  },
  {
   "metadata": {
    "ExecuteTime": {
     "end_time": "2024-11-16T15:56:09.879412Z",
     "start_time": "2024-11-16T15:56:09.875866Z"
    }
   },
   "cell_type": "code",
   "source": "keypoints",
   "id": "86ac0238ff2f6cea",
   "outputs": [
    {
     "data": {
      "text/plain": [
       "[(np.float64(73.6725117195486), np.float64(620.8489879605876)),\n",
       " (np.float64(352.49599929048225), np.float64(400.6316144024879)),\n",
       " None,\n",
       " (np.float64(709.2814108067545), np.float64(329.6117336607574)),\n",
       " None,\n",
       " None,\n",
       " (np.float64(894.718602185142), np.float64(384.0167388938017)),\n",
       " (np.float64(75.61443787298622), np.float64(496.2593377996171)),\n",
       " (np.float64(475.3859026282302), np.float64(408.3806004258173)),\n",
       " (np.float64(532.4290222187435), np.float64(364.8150663671954))]"
      ]
     },
     "execution_count": 14,
     "metadata": {},
     "output_type": "execute_result"
    }
   ],
   "execution_count": 14
  },
  {
   "metadata": {},
   "cell_type": "code",
   "source": "",
   "id": "c3ad3fb6257f5a6d",
   "outputs": [],
   "execution_count": null
  },
  {
   "metadata": {
    "ExecuteTime": {
     "end_time": "2024-11-16T15:56:12.619008Z",
     "start_time": "2024-11-16T15:56:12.616598Z"
    }
   },
   "cell_type": "code",
   "source": "keypoints_not_none = [point for point in keypoints if point is not None]",
   "id": "6ac7e8dab679638a",
   "outputs": [],
   "execution_count": 15
  },
  {
   "metadata": {
    "ExecuteTime": {
     "end_time": "2024-11-16T15:56:15.092148Z",
     "start_time": "2024-11-16T15:56:15.089149Z"
    }
   },
   "cell_type": "code",
   "source": "keypoints_np = np.array([[x, y] for x, y in keypoints_not_none])",
   "id": "10cf0407b886e6fd",
   "outputs": [],
   "execution_count": 16
  },
  {
   "metadata": {
    "ExecuteTime": {
     "end_time": "2024-11-16T15:56:15.990555Z",
     "start_time": "2024-11-16T15:56:15.988074Z"
    }
   },
   "cell_type": "code",
   "source": "keypoints_np = keypoints_np[:4]",
   "id": "61dd3a813cf75ce5",
   "outputs": [],
   "execution_count": 17
  },
  {
   "metadata": {
    "ExecuteTime": {
     "end_time": "2024-11-16T15:56:16.796641Z",
     "start_time": "2024-11-16T15:56:16.792876Z"
    }
   },
   "cell_type": "code",
   "source": "keypoints_np",
   "id": "a2a0d77c1954271c",
   "outputs": [
    {
     "data": {
      "text/plain": [
       "array([[     73.673,      620.85],\n",
       "       [      352.5,      400.63],\n",
       "       [     709.28,      329.61],\n",
       "       [     894.72,      384.02]])"
      ]
     },
     "execution_count": 18,
     "metadata": {},
     "output_type": "execute_result"
    }
   ],
   "execution_count": 18
  },
  {
   "metadata": {
    "ExecuteTime": {
     "end_time": "2024-11-16T15:56:26.379329Z",
     "start_time": "2024-11-16T15:56:21.943774Z"
    }
   },
   "cell_type": "code",
   "source": [
    "image = cv2.imread('data/SoccerNetGS/gamestate-2024/train/SNGS-060/img1/000233.jpg')\n",
    "for point in keypoints[-4:]:\n",
    "    if point is not None:\n",
    "        cv2.circle(image, (int(point[0]), int(point[1])), 5, (0, 0, 255), -1)\n",
    "cv2.imshow('image', image)\n",
    "cv2.waitKey(0)\n",
    "cv2.destroyAllWindows()"
   ],
   "id": "3476bdc920dcdd56",
   "outputs": [],
   "execution_count": 19
  },
  {
   "metadata": {
    "ExecuteTime": {
     "end_time": "2024-11-16T15:56:29.625160Z",
     "start_time": "2024-11-16T15:56:29.622064Z"
    }
   },
   "cell_type": "code",
   "source": "real_pitch_coordinates = np.array([[16.5, 13.85], [0.0, 43.15], [0.0, 68.0], [16.5, 54.15]])",
   "id": "18f0c129b1433e9b",
   "outputs": [],
   "execution_count": 20
  },
  {
   "metadata": {},
   "cell_type": "code",
   "source": "print(real_pitch_coordinates)",
   "id": "6ea02e4ac08486b1",
   "outputs": [],
   "execution_count": null
  },
  {
   "metadata": {
    "ExecuteTime": {
     "end_time": "2024-11-16T15:56:32.205190Z",
     "start_time": "2024-11-16T15:56:32.202224Z"
    }
   },
   "cell_type": "code",
   "source": "homography_mat, mask = cv2.findHomography(keypoints_np, real_pitch_coordinates)",
   "id": "3df40ddec2528ced",
   "outputs": [],
   "execution_count": 21
  },
  {
   "metadata": {
    "ExecuteTime": {
     "end_time": "2024-11-16T15:56:34.271787Z",
     "start_time": "2024-11-16T15:56:34.268069Z"
    }
   },
   "cell_type": "code",
   "source": "homography_mat",
   "id": "6eec34c60f62810",
   "outputs": [
    {
     "data": {
      "text/plain": [
       "array([[   -0.16816,    -0.84479,      397.72],\n",
       "       [  -0.054803,     0.38582,      -352.3],\n",
       "       [ 0.00018781,   -0.015217,           1]])"
      ]
     },
     "execution_count": 22,
     "metadata": {},
     "output_type": "execute_result"
    }
   ],
   "execution_count": 22
  },
  {
   "metadata": {
    "ExecuteTime": {
     "end_time": "2024-11-16T15:57:08.970139Z",
     "start_time": "2024-11-16T15:57:08.967233Z"
    }
   },
   "cell_type": "code",
   "source": [
    "# pith size in meters\n",
    "pitch_length = 105\n",
    "pitch_width = 68"
   ],
   "id": "35328b6e0950785c",
   "outputs": [],
   "execution_count": 23
  },
  {
   "metadata": {
    "ExecuteTime": {
     "end_time": "2024-11-16T15:57:09.083604Z",
     "start_time": "2024-11-16T15:57:08.983652Z"
    }
   },
   "cell_type": "code",
   "source": [
    "positional_data_one_img = positional_data[positional_data['image_id'] == '1060000233']\n",
    "positional_data_one_img"
   ],
   "id": "d6ce0e4a66616a60",
   "outputs": [
    {
     "data": {
      "text/plain": [
       "              image_id  bbox_image_x  bbox_image_y  bbox_image_w  \\\n",
       "1060004248  1060000233          1554           590            45   \n",
       "1060004249  1060000233           306           443            51   \n",
       "1060004250  1060000233           533           560            50   \n",
       "1060004251  1060000233          1903           579            15   \n",
       "1060004252  1060000233          1168           604            50   \n",
       "1060004253  1060000233          1651           457            27   \n",
       "1060004254  1060000233           958           386            19   \n",
       "1060004255  1060000233          1619           355            22   \n",
       "1060004257  1060000233          1589           436            25   \n",
       "1060004258  1060000233          1078           467            30   \n",
       "1060004261  1060000233           936           377            18   \n",
       "1060004262  1060000233           779           862            64   \n",
       "1060004263  1060000233           310           576            48   \n",
       "\n",
       "            bbox_image_h attributes_team  \n",
       "1060004248            90            left  \n",
       "1060004249            67           right  \n",
       "1060004250            79           right  \n",
       "1060004251            83           right  \n",
       "1060004252            76           right  \n",
       "1060004253            69           right  \n",
       "1060004254            52           right  \n",
       "1060004255            46            left  \n",
       "1060004257            65            left  \n",
       "1060004258            68            left  \n",
       "1060004261            49            left  \n",
       "1060004262           145            left  \n",
       "1060004263            95            left  "
      ],
      "text/html": [
       "<div>\n",
       "<style scoped>\n",
       "    .dataframe tbody tr th:only-of-type {\n",
       "        vertical-align: middle;\n",
       "    }\n",
       "\n",
       "    .dataframe tbody tr th {\n",
       "        vertical-align: top;\n",
       "    }\n",
       "\n",
       "    .dataframe thead th {\n",
       "        text-align: right;\n",
       "    }\n",
       "</style>\n",
       "<table border=\"1\" class=\"dataframe\">\n",
       "  <thead>\n",
       "    <tr style=\"text-align: right;\">\n",
       "      <th></th>\n",
       "      <th>image_id</th>\n",
       "      <th>bbox_image_x</th>\n",
       "      <th>bbox_image_y</th>\n",
       "      <th>bbox_image_w</th>\n",
       "      <th>bbox_image_h</th>\n",
       "      <th>attributes_team</th>\n",
       "    </tr>\n",
       "  </thead>\n",
       "  <tbody>\n",
       "    <tr>\n",
       "      <th>1060004248</th>\n",
       "      <td>1060000233</td>\n",
       "      <td>1554</td>\n",
       "      <td>590</td>\n",
       "      <td>45</td>\n",
       "      <td>90</td>\n",
       "      <td>left</td>\n",
       "    </tr>\n",
       "    <tr>\n",
       "      <th>1060004249</th>\n",
       "      <td>1060000233</td>\n",
       "      <td>306</td>\n",
       "      <td>443</td>\n",
       "      <td>51</td>\n",
       "      <td>67</td>\n",
       "      <td>right</td>\n",
       "    </tr>\n",
       "    <tr>\n",
       "      <th>1060004250</th>\n",
       "      <td>1060000233</td>\n",
       "      <td>533</td>\n",
       "      <td>560</td>\n",
       "      <td>50</td>\n",
       "      <td>79</td>\n",
       "      <td>right</td>\n",
       "    </tr>\n",
       "    <tr>\n",
       "      <th>1060004251</th>\n",
       "      <td>1060000233</td>\n",
       "      <td>1903</td>\n",
       "      <td>579</td>\n",
       "      <td>15</td>\n",
       "      <td>83</td>\n",
       "      <td>right</td>\n",
       "    </tr>\n",
       "    <tr>\n",
       "      <th>1060004252</th>\n",
       "      <td>1060000233</td>\n",
       "      <td>1168</td>\n",
       "      <td>604</td>\n",
       "      <td>50</td>\n",
       "      <td>76</td>\n",
       "      <td>right</td>\n",
       "    </tr>\n",
       "    <tr>\n",
       "      <th>1060004253</th>\n",
       "      <td>1060000233</td>\n",
       "      <td>1651</td>\n",
       "      <td>457</td>\n",
       "      <td>27</td>\n",
       "      <td>69</td>\n",
       "      <td>right</td>\n",
       "    </tr>\n",
       "    <tr>\n",
       "      <th>1060004254</th>\n",
       "      <td>1060000233</td>\n",
       "      <td>958</td>\n",
       "      <td>386</td>\n",
       "      <td>19</td>\n",
       "      <td>52</td>\n",
       "      <td>right</td>\n",
       "    </tr>\n",
       "    <tr>\n",
       "      <th>1060004255</th>\n",
       "      <td>1060000233</td>\n",
       "      <td>1619</td>\n",
       "      <td>355</td>\n",
       "      <td>22</td>\n",
       "      <td>46</td>\n",
       "      <td>left</td>\n",
       "    </tr>\n",
       "    <tr>\n",
       "      <th>1060004257</th>\n",
       "      <td>1060000233</td>\n",
       "      <td>1589</td>\n",
       "      <td>436</td>\n",
       "      <td>25</td>\n",
       "      <td>65</td>\n",
       "      <td>left</td>\n",
       "    </tr>\n",
       "    <tr>\n",
       "      <th>1060004258</th>\n",
       "      <td>1060000233</td>\n",
       "      <td>1078</td>\n",
       "      <td>467</td>\n",
       "      <td>30</td>\n",
       "      <td>68</td>\n",
       "      <td>left</td>\n",
       "    </tr>\n",
       "    <tr>\n",
       "      <th>1060004261</th>\n",
       "      <td>1060000233</td>\n",
       "      <td>936</td>\n",
       "      <td>377</td>\n",
       "      <td>18</td>\n",
       "      <td>49</td>\n",
       "      <td>left</td>\n",
       "    </tr>\n",
       "    <tr>\n",
       "      <th>1060004262</th>\n",
       "      <td>1060000233</td>\n",
       "      <td>779</td>\n",
       "      <td>862</td>\n",
       "      <td>64</td>\n",
       "      <td>145</td>\n",
       "      <td>left</td>\n",
       "    </tr>\n",
       "    <tr>\n",
       "      <th>1060004263</th>\n",
       "      <td>1060000233</td>\n",
       "      <td>310</td>\n",
       "      <td>576</td>\n",
       "      <td>48</td>\n",
       "      <td>95</td>\n",
       "      <td>left</td>\n",
       "    </tr>\n",
       "  </tbody>\n",
       "</table>\n",
       "</div>"
      ]
     },
     "execution_count": 24,
     "metadata": {},
     "output_type": "execute_result"
    }
   ],
   "execution_count": 24
  },
  {
   "metadata": {
    "ExecuteTime": {
     "end_time": "2024-11-16T15:57:09.342161Z",
     "start_time": "2024-11-16T15:57:09.338743Z"
    }
   },
   "cell_type": "code",
   "source": [
    "player_position_df = positional_data_one_img.copy()\n",
    "player_position_df['x'] = player_position_df['bbox_image_x'] + player_position_df['bbox_image_w'] / 2"
   ],
   "id": "c28903c9efd7823",
   "outputs": [],
   "execution_count": 25
  },
  {
   "metadata": {
    "ExecuteTime": {
     "end_time": "2024-11-16T15:57:09.379756Z",
     "start_time": "2024-11-16T15:57:09.376990Z"
    }
   },
   "cell_type": "code",
   "source": "player_position_df['y'] = player_position_df['bbox_image_y'] + player_position_df['bbox_image_h'] / 2",
   "id": "e9f573b262f937c6",
   "outputs": [],
   "execution_count": 26
  },
  {
   "metadata": {
    "ExecuteTime": {
     "end_time": "2024-11-16T15:57:09.430757Z",
     "start_time": "2024-11-16T15:57:09.427757Z"
    }
   },
   "cell_type": "code",
   "source": "player_position_df.drop(columns=['bbox_image_x', 'bbox_image_y', 'bbox_image_w', 'bbox_image_h'], inplace=True)",
   "id": "ac813fe2110682cc",
   "outputs": [],
   "execution_count": 27
  },
  {
   "metadata": {
    "ExecuteTime": {
     "end_time": "2024-11-16T15:57:09.716596Z",
     "start_time": "2024-11-16T15:57:09.709495Z"
    }
   },
   "cell_type": "code",
   "source": "player_position_df",
   "id": "d25ddbc07cd302d9",
   "outputs": [
    {
     "data": {
      "text/plain": [
       "              image_id attributes_team       x      y\n",
       "1060004248  1060000233            left  1576.5  635.0\n",
       "1060004249  1060000233           right   331.5  476.5\n",
       "1060004250  1060000233           right   558.0  599.5\n",
       "1060004251  1060000233           right  1910.5  620.5\n",
       "1060004252  1060000233           right  1193.0  642.0\n",
       "1060004253  1060000233           right  1664.5  491.5\n",
       "1060004254  1060000233           right   967.5  412.0\n",
       "1060004255  1060000233            left  1630.0  378.0\n",
       "1060004257  1060000233            left  1601.5  468.5\n",
       "1060004258  1060000233            left  1093.0  501.0\n",
       "1060004261  1060000233            left   945.0  401.5\n",
       "1060004262  1060000233            left   811.0  934.5\n",
       "1060004263  1060000233            left   334.0  623.5"
      ],
      "text/html": [
       "<div>\n",
       "<style scoped>\n",
       "    .dataframe tbody tr th:only-of-type {\n",
       "        vertical-align: middle;\n",
       "    }\n",
       "\n",
       "    .dataframe tbody tr th {\n",
       "        vertical-align: top;\n",
       "    }\n",
       "\n",
       "    .dataframe thead th {\n",
       "        text-align: right;\n",
       "    }\n",
       "</style>\n",
       "<table border=\"1\" class=\"dataframe\">\n",
       "  <thead>\n",
       "    <tr style=\"text-align: right;\">\n",
       "      <th></th>\n",
       "      <th>image_id</th>\n",
       "      <th>attributes_team</th>\n",
       "      <th>x</th>\n",
       "      <th>y</th>\n",
       "    </tr>\n",
       "  </thead>\n",
       "  <tbody>\n",
       "    <tr>\n",
       "      <th>1060004248</th>\n",
       "      <td>1060000233</td>\n",
       "      <td>left</td>\n",
       "      <td>1576.5</td>\n",
       "      <td>635.0</td>\n",
       "    </tr>\n",
       "    <tr>\n",
       "      <th>1060004249</th>\n",
       "      <td>1060000233</td>\n",
       "      <td>right</td>\n",
       "      <td>331.5</td>\n",
       "      <td>476.5</td>\n",
       "    </tr>\n",
       "    <tr>\n",
       "      <th>1060004250</th>\n",
       "      <td>1060000233</td>\n",
       "      <td>right</td>\n",
       "      <td>558.0</td>\n",
       "      <td>599.5</td>\n",
       "    </tr>\n",
       "    <tr>\n",
       "      <th>1060004251</th>\n",
       "      <td>1060000233</td>\n",
       "      <td>right</td>\n",
       "      <td>1910.5</td>\n",
       "      <td>620.5</td>\n",
       "    </tr>\n",
       "    <tr>\n",
       "      <th>1060004252</th>\n",
       "      <td>1060000233</td>\n",
       "      <td>right</td>\n",
       "      <td>1193.0</td>\n",
       "      <td>642.0</td>\n",
       "    </tr>\n",
       "    <tr>\n",
       "      <th>1060004253</th>\n",
       "      <td>1060000233</td>\n",
       "      <td>right</td>\n",
       "      <td>1664.5</td>\n",
       "      <td>491.5</td>\n",
       "    </tr>\n",
       "    <tr>\n",
       "      <th>1060004254</th>\n",
       "      <td>1060000233</td>\n",
       "      <td>right</td>\n",
       "      <td>967.5</td>\n",
       "      <td>412.0</td>\n",
       "    </tr>\n",
       "    <tr>\n",
       "      <th>1060004255</th>\n",
       "      <td>1060000233</td>\n",
       "      <td>left</td>\n",
       "      <td>1630.0</td>\n",
       "      <td>378.0</td>\n",
       "    </tr>\n",
       "    <tr>\n",
       "      <th>1060004257</th>\n",
       "      <td>1060000233</td>\n",
       "      <td>left</td>\n",
       "      <td>1601.5</td>\n",
       "      <td>468.5</td>\n",
       "    </tr>\n",
       "    <tr>\n",
       "      <th>1060004258</th>\n",
       "      <td>1060000233</td>\n",
       "      <td>left</td>\n",
       "      <td>1093.0</td>\n",
       "      <td>501.0</td>\n",
       "    </tr>\n",
       "    <tr>\n",
       "      <th>1060004261</th>\n",
       "      <td>1060000233</td>\n",
       "      <td>left</td>\n",
       "      <td>945.0</td>\n",
       "      <td>401.5</td>\n",
       "    </tr>\n",
       "    <tr>\n",
       "      <th>1060004262</th>\n",
       "      <td>1060000233</td>\n",
       "      <td>left</td>\n",
       "      <td>811.0</td>\n",
       "      <td>934.5</td>\n",
       "    </tr>\n",
       "    <tr>\n",
       "      <th>1060004263</th>\n",
       "      <td>1060000233</td>\n",
       "      <td>left</td>\n",
       "      <td>334.0</td>\n",
       "      <td>623.5</td>\n",
       "    </tr>\n",
       "  </tbody>\n",
       "</table>\n",
       "</div>"
      ]
     },
     "execution_count": 28,
     "metadata": {},
     "output_type": "execute_result"
    }
   ],
   "execution_count": 28
  },
  {
   "metadata": {
    "ExecuteTime": {
     "end_time": "2024-11-16T15:57:10.033143Z",
     "start_time": "2024-11-16T15:57:10.030577Z"
    }
   },
   "cell_type": "code",
   "source": "player_position_df_np = player_position_df.to_numpy()",
   "id": "ae3092f1d2a40cf6",
   "outputs": [],
   "execution_count": 29
  },
  {
   "metadata": {
    "ExecuteTime": {
     "end_time": "2024-11-16T15:57:10.070368Z",
     "start_time": "2024-11-16T15:57:10.067244Z"
    }
   },
   "cell_type": "code",
   "source": "player_position_df_np",
   "id": "29cfa8305f774714",
   "outputs": [
    {
     "data": {
      "text/plain": [
       "array([['1060000233', 'left', 1576.5, 635.0],\n",
       "       ['1060000233', 'right', 331.5, 476.5],\n",
       "       ['1060000233', 'right', 558.0, 599.5],\n",
       "       ['1060000233', 'right', 1910.5, 620.5],\n",
       "       ['1060000233', 'right', 1193.0, 642.0],\n",
       "       ['1060000233', 'right', 1664.5, 491.5],\n",
       "       ['1060000233', 'right', 967.5, 412.0],\n",
       "       ['1060000233', 'left', 1630.0, 378.0],\n",
       "       ['1060000233', 'left', 1601.5, 468.5],\n",
       "       ['1060000233', 'left', 1093.0, 501.0],\n",
       "       ['1060000233', 'left', 945.0, 401.5],\n",
       "       ['1060000233', 'left', 811.0, 934.5],\n",
       "       ['1060000233', 'left', 334.0, 623.5]], dtype=object)"
      ]
     },
     "execution_count": 30,
     "metadata": {},
     "output_type": "execute_result"
    }
   ],
   "execution_count": 30
  },
  {
   "metadata": {
    "ExecuteTime": {
     "end_time": "2024-11-16T15:57:10.151475Z",
     "start_time": "2024-11-16T15:57:10.148475Z"
    }
   },
   "cell_type": "code",
   "source": "points_src = player_position_df.drop(columns=['image_id', 'attributes_team']).to_numpy()",
   "id": "be6709831c438fd6",
   "outputs": [],
   "execution_count": 31
  },
  {
   "metadata": {
    "ExecuteTime": {
     "end_time": "2024-11-16T15:57:10.213624Z",
     "start_time": "2024-11-16T15:57:10.211004Z"
    }
   },
   "cell_type": "code",
   "source": "points_src = np.array([[x, y] for x, y in points_src])",
   "id": "7ee9cb30a6b06d0e",
   "outputs": [],
   "execution_count": 32
  },
  {
   "metadata": {
    "ExecuteTime": {
     "end_time": "2024-11-16T15:57:10.587901Z",
     "start_time": "2024-11-16T15:57:10.585137Z"
    }
   },
   "cell_type": "code",
   "source": "points_src",
   "id": "f4e0f821af18ebc8",
   "outputs": [
    {
     "data": {
      "text/plain": [
       "array([[     1576.5,         635],\n",
       "       [      331.5,       476.5],\n",
       "       [        558,       599.5],\n",
       "       [     1910.5,       620.5],\n",
       "       [       1193,         642],\n",
       "       [     1664.5,       491.5],\n",
       "       [      967.5,         412],\n",
       "       [       1630,         378],\n",
       "       [     1601.5,       468.5],\n",
       "       [       1093,         501],\n",
       "       [        945,       401.5],\n",
       "       [        811,       934.5],\n",
       "       [        334,       623.5]])"
      ]
     },
     "execution_count": 33,
     "metadata": {},
     "output_type": "execute_result"
    }
   ],
   "execution_count": 33
  },
  {
   "metadata": {
    "ExecuteTime": {
     "end_time": "2024-11-16T15:57:10.667894Z",
     "start_time": "2024-11-16T15:57:10.665869Z"
    }
   },
   "cell_type": "code",
   "source": "points_src = points_src.reshape(-1, 1, 2)",
   "id": "55d18fbe66f884f7",
   "outputs": [],
   "execution_count": 34
  },
  {
   "metadata": {
    "ExecuteTime": {
     "end_time": "2024-11-16T15:57:10.699721Z",
     "start_time": "2024-11-16T15:57:10.697701Z"
    }
   },
   "cell_type": "code",
   "source": "points_dst = cv2.perspectiveTransform(points_src, homography_mat)",
   "id": "76b1b7b97f291b1a",
   "outputs": [],
   "execution_count": 35
  },
  {
   "metadata": {
    "ExecuteTime": {
     "end_time": "2024-11-16T15:57:11.215817Z",
     "start_time": "2024-11-16T15:57:11.212911Z"
    }
   },
   "cell_type": "code",
   "source": "points_dst = points_dst.reshape(-1, 2)",
   "id": "b141c2c6767e95fa",
   "outputs": [],
   "execution_count": 36
  },
  {
   "metadata": {
    "ExecuteTime": {
     "end_time": "2024-11-16T15:57:11.224479Z",
     "start_time": "2024-11-16T15:57:11.219814Z"
    }
   },
   "cell_type": "code",
   "source": "points_dst",
   "id": "6fb552830b699231",
   "outputs": [
    {
     "data": {
      "text/plain": [
       "array([[     48.267,      23.152],\n",
       "       [     9.7863,      30.157],\n",
       "       [     25.265,      18.906],\n",
       "       [     55.392,       26.92],\n",
       "       [     40.403,      19.893],\n",
       "       [     48.228,      41.173],\n",
       "       [     22.216,      48.425],\n",
       "       [     44.021,      66.533],\n",
       "       [     45.875,      44.492],\n",
       "       [     32.612,      34.107],\n",
       "       [     20.351,      50.524],\n",
       "       [     40.414,        2.77],\n",
       "       [     21.979,      15.436]])"
      ]
     },
     "execution_count": 37,
     "metadata": {},
     "output_type": "execute_result"
    }
   ],
   "execution_count": 37
  },
  {
   "metadata": {
    "ExecuteTime": {
     "end_time": "2024-11-16T15:57:11.517861Z",
     "start_time": "2024-11-16T15:57:11.514715Z"
    }
   },
   "cell_type": "code",
   "source": "points_dst[:, 1] = 68 - points_dst[:, 1]",
   "id": "9a30534eb91cfc77",
   "outputs": [],
   "execution_count": 38
  },
  {
   "metadata": {
    "ExecuteTime": {
     "end_time": "2024-11-16T15:57:11.572313Z",
     "start_time": "2024-11-16T15:57:11.569341Z"
    }
   },
   "cell_type": "code",
   "source": "points_dst",
   "id": "108530d6e604760b",
   "outputs": [
    {
     "data": {
      "text/plain": [
       "array([[     48.267,      44.848],\n",
       "       [     9.7863,      37.843],\n",
       "       [     25.265,      49.094],\n",
       "       [     55.392,       41.08],\n",
       "       [     40.403,      48.107],\n",
       "       [     48.228,      26.827],\n",
       "       [     22.216,      19.575],\n",
       "       [     44.021,      1.4668],\n",
       "       [     45.875,      23.508],\n",
       "       [     32.612,      33.893],\n",
       "       [     20.351,      17.476],\n",
       "       [     40.414,       65.23],\n",
       "       [     21.979,      52.564]])"
      ]
     },
     "execution_count": 39,
     "metadata": {},
     "output_type": "execute_result"
    }
   ],
   "execution_count": 39
  },
  {
   "metadata": {
    "ExecuteTime": {
     "end_time": "2024-11-16T15:57:12.542406Z",
     "start_time": "2024-11-16T15:57:11.645319Z"
    }
   },
   "cell_type": "code",
   "source": [
    "from mplsoccer import Pitch, Sbopen\n",
    "import matplotlib.pyplot as plt\n",
    "\n",
    "# read data\n",
    "parser = Sbopen()\n",
    "df, related, freeze, tactics = parser.event(7478)"
   ],
   "id": "7ddc695a8fbd6590",
   "outputs": [],
   "execution_count": 40
  },
  {
   "metadata": {
    "ExecuteTime": {
     "end_time": "2024-11-16T15:57:12.569276Z",
     "start_time": "2024-11-16T15:57:12.563407Z"
    }
   },
   "cell_type": "code",
   "source": "df = df[(df.player_name == 'Jodie Taylor') & (df.type_name == 'Pass')].copy()",
   "id": "b77a6e7f0c72c30",
   "outputs": [],
   "execution_count": 41
  },
  {
   "metadata": {
    "ExecuteTime": {
     "end_time": "2024-11-16T15:57:13.020337Z",
     "start_time": "2024-11-16T15:57:12.885173Z"
    }
   },
   "cell_type": "code",
   "source": [
    "pitch = Pitch()\n",
    "fig, ax = pitch.draw(figsize=(8, 6))\n",
    "scatter = pitch.scatter(df.x, df.y, ax=ax, edgecolor='black', facecolor='cornflowerblue')\n",
    "plt.show()"
   ],
   "id": "a234f42716f016ab",
   "outputs": [
    {
     "data": {
      "text/plain": [
       "<Figure size 800x600 with 1 Axes>"
      ],
      "image/png": "[encoded data removed]"
     },
     "metadata": {},
     "output_type": "display_data"
    }
   ],
   "execution_count": 42
  },
  {
   "metadata": {
    "ExecuteTime": {
     "end_time": "2024-11-16T15:57:13.115555Z",
     "start_time": "2024-11-16T15:57:13.111852Z"
    }
   },
   "cell_type": "code",
   "source": "team = player_position_df['attributes_team'].to_numpy()",
   "id": "790499724f95d505",
   "outputs": [],
   "execution_count": 43
  },
  {
   "metadata": {
    "ExecuteTime": {
     "end_time": "2024-11-16T15:57:13.968220Z",
     "start_time": "2024-11-16T15:57:13.964904Z"
    }
   },
   "cell_type": "code",
   "source": "team = np.where(team == 'left', 1, 0)",
   "id": "da6f04165182cb82",
   "outputs": [],
   "execution_count": 44
  },
  {
   "metadata": {
    "ExecuteTime": {
     "end_time": "2024-11-16T15:57:13.987926Z",
     "start_time": "2024-11-16T15:57:13.984218Z"
    }
   },
   "cell_type": "code",
   "source": "team",
   "id": "9fff8414112f8b6e",
   "outputs": [
    {
     "data": {
      "text/plain": [
       "array([1, 0, 0, 0, 0, 0, 0, 1, 1, 1, 1, 1, 1])"
      ]
     },
     "execution_count": 45,
     "metadata": {},
     "output_type": "execute_result"
    }
   ],
   "execution_count": 45
  },
  {
   "metadata": {
    "ExecuteTime": {
     "end_time": "2024-11-16T15:57:14.568096Z",
     "start_time": "2024-11-16T15:57:14.292630Z"
    }
   },
   "cell_type": "code",
   "source": [
    "pitch = Pitch(pitch_type='uefa', axis=True, label=True)\n",
    "fig, ax = pitch.draw()\n",
    "scatter = pitch.scatter(points_dst[:, 0], points_dst[:, 1], ax=ax, edgecolor=\"black\", c=team)\n",
    "plt.grid()"
   ],
   "id": "ff97040ef64b48f1",
   "outputs": [
    {
     "data": {
      "text/plain": [
       "<Figure size 640x480 with 1 Axes>"
      ],
      "image/png": "[encoded data removed]"
     },
     "metadata": {},
     "output_type": "display_data"
    }
   ],
   "execution_count": 46
  },
  {
   "metadata": {
    "ExecuteTime": {
     "end_time": "2024-11-16T15:57:14.841333Z",
     "start_time": "2024-11-16T15:57:14.838332Z"
    }
   },
   "cell_type": "code",
   "source": "plt.show()",
   "id": "14500a2096dad54b",
   "outputs": [],
   "execution_count": 47
  },
  {
   "metadata": {
    "ExecuteTime": {
     "end_time": "2024-11-16T15:57:15.124536Z",
     "start_time": "2024-11-16T15:57:15.121664Z"
    }
   },
   "cell_type": "code",
   "source": "points_dst[1:, 1]",
   "id": "5def96d517420537",
   "outputs": [
    {
     "data": {
      "text/plain": [
       "array([     37.843,      49.094,       41.08,      48.107,      26.827,      19.575,      1.4668,      23.508,      33.893,      17.476,       65.23,      52.564])"
      ]
     },
     "execution_count": 48,
     "metadata": {},
     "output_type": "execute_result"
    }
   ],
   "execution_count": 48
  },
  {
   "metadata": {
    "ExecuteTime": {
     "end_time": "2024-11-16T15:57:15.406809Z",
     "start_time": "2024-11-16T15:57:15.402627Z"
    }
   },
   "cell_type": "code",
   "source": [
    "pitch_length = 105\n",
    "pitch_width = 68\n",
    "corner_to_box_edge = 13.85\n",
    "box_edge_to_goal = 16.5\n",
    "goal_width = 7.32\n",
    "inside_box_edge_to_goal = 5.5\n",
    "box_length = 16.5\n",
    "inside_box_length = 5.5\n",
    "circle_radius = 9.15\n",
    "big_box_edge_to_inside_box_edge = box_edge_to_goal - inside_box_edge_to_goal\n",
    "\n",
    "real_pitch_coordinates_full = np.array([\n",
    "    [0.0, 0.0],\n",
    "    [0.0, corner_to_box_edge],\n",
    "    [0.0, corner_to_box_edge + big_box_edge_to_inside_box_edge],\n",
    "    [0.0, 68.0 - corner_to_box_edge - big_box_edge_to_inside_box_edge],\n",
    "    [0.0, 68.0 - corner_to_box_edge],\n",
    "    [0.0, 68.0],\n",
    "    \n",
    "    [inside_box_length, corner_to_box_edge + big_box_edge_to_inside_box_edge],\n",
    "    [inside_box_length, 68 - corner_to_box_edge - big_box_edge_to_inside_box_edge],\n",
    "    \n",
    "    [11.0, pitch_width/2],\n",
    "    \n",
    "    [box_length, corner_to_box_edge],\n",
    "    [box_length, 34.0 - 7.66],\n",
    "    [box_length, 34.0 + 7.66],\n",
    "    [box_length, 68 - corner_to_box_edge],\n",
    "        \n",
    "    [pitch_length/2, 0.0],\n",
    "    [pitch_length/2, pitch_width/2 - circle_radius],\n",
    "    [pitch_length/2, pitch_width/2 + circle_radius],\n",
    "    [pitch_length/2, 68.0],\n",
    "        \n",
    "    [pitch_length - box_length, corner_to_box_edge],\n",
    "    [pitch_length - box_length, 34.0 - 7.66],\n",
    "    [pitch_length - box_length, 34.0 + 7.66],\n",
    "    [pitch_length - box_length, 68 - corner_to_box_edge],\n",
    "    \n",
    "    [pitch_length - 11.0, pitch_width/2],\n",
    "    \n",
    "    [pitch_length - inside_box_length, corner_to_box_edge + big_box_edge_to_inside_box_edge],\n",
    "    [pitch_length - inside_box_length, 68 - corner_to_box_edge - big_box_edge_to_inside_box_edge],\n",
    "    \n",
    "    [pitch_length, 0.0],\n",
    "    [pitch_length, corner_to_box_edge],\n",
    "    [pitch_length, corner_to_box_edge + big_box_edge_to_inside_box_edge],\n",
    "    [pitch_length, 68.0 - corner_to_box_edge - big_box_edge_to_inside_box_edge],\n",
    "    [pitch_length, 68.0 - corner_to_box_edge],\n",
    "    [pitch_length, 68.0],\n",
    "    \n",
    "    [pitch_length/2 - circle_radius, pitch_width/2],\n",
    "    [pitch_length/2 + circle_radius, pitch_width/2],\n",
    "])"
   ],
   "id": "ab7d61ad6df675d3",
   "outputs": [],
   "execution_count": 49
  },
  {
   "metadata": {
    "ExecuteTime": {
     "end_time": "2024-11-16T15:57:15.977670Z",
     "start_time": "2024-11-16T15:57:15.973694Z"
    }
   },
   "cell_type": "code",
   "source": "real_pitch_coordinates_full",
   "id": "81bbb5daa9d4a389",
   "outputs": [
    {
     "data": {
      "text/plain": [
       "array([[          0,           0],\n",
       "       [          0,       13.85],\n",
       "       [          0,       24.85],\n",
       "       [          0,       43.15],\n",
       "       [          0,       54.15],\n",
       "       [          0,          68],\n",
       "       [        5.5,       24.85],\n",
       "       [        5.5,       43.15],\n",
       "       [         11,          34],\n",
       "       [       16.5,       13.85],\n",
       "       [       16.5,       26.34],\n",
       "       [       16.5,       41.66],\n",
       "       [       16.5,       54.15],\n",
       "       [       52.5,           0],\n",
       "       [       52.5,       24.85],\n",
       "       [       52.5,       43.15],\n",
       "       [       52.5,          68],\n",
       "       [       88.5,       13.85],\n",
       "       [       88.5,       26.34],\n",
       "       [       88.5,       41.66],\n",
       "       [       88.5,       54.15],\n",
       "       [         94,          34],\n",
       "       [       99.5,       24.85],\n",
       "       [       99.5,       43.15],\n",
       "       [        105,           0],\n",
       "       [        105,       13.85],\n",
       "       [        105,       24.85],\n",
       "       [        105,       43.15],\n",
       "       [        105,       54.15],\n",
       "       [        105,          68],\n",
       "       [      43.35,          34],\n",
       "       [      61.65,          34]])"
      ]
     },
     "execution_count": 50,
     "metadata": {},
     "output_type": "execute_result"
    }
   ],
   "execution_count": 50
  }
 ],
 "metadata": {
  "kernelspec": {
   "display_name": "Python 3",
   "language": "python",
   "name": "python3"
  },
  "language_info": {
   "codemirror_mode": {
    "name": "ipython",
    "version": 2
   },
   "file_extension": ".py",
   "mimetype": "text/x-python",
   "name": "python",
   "nbconvert_exporter": "python",
   "pygments_lexer": "ipython2",
   "version": "2.7.6"
  }
 },
 "nbformat": 4,
 "nbformat_minor": 5
}
