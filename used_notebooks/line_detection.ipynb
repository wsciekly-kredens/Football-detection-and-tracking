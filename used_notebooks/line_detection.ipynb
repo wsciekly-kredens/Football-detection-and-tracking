{
 "cells": [
  {
   "cell_type": "code",
   "id": "initial_id",
   "metadata": {
    "collapsed": true
   },
   "source": [
    "from tqdm import tqdm\n",
    "import numpy as np\n",
    "import pandas as pd\n",
    "import cv2\n",
    "from ultralytics import YOLO\n",
    "import os\n",
    "import json\n",
    "import time\n",
    "import matplotlib.pyplot as plt\n",
    "import math\n",
    "import random"
   ],
   "outputs": [],
   "execution_count": null
  },
  {
   "metadata": {},
   "cell_type": "code",
   "source": [
    "DIRECTORY = 'data/SoccerNetGS/gamestate-2024/valid/'\n",
    "\n",
    "\n",
    "def load_data(dir: str = None) -> list:\n",
    "    data = list()\n",
    "    print('Wczytywanie danych...')\n",
    "    for folder_name in tqdm(os.listdir(DIRECTORY)):\n",
    "        folder_full_path = os.path.join(DIRECTORY, folder_name)\n",
    "        if os.path.isdir(folder_full_path):\n",
    "            with open(os.path.join(DIRECTORY, folder_name, 'Labels-GameState.json')) as f:\n",
    "                d = json.load(f)\n",
    "                data.append(d['annotations'])\n",
    "    return data\n",
    "\n",
    "\n",
    "def parse_data_to_df(data: list) -> pd.DataFrame:\n",
    "    start = time.time()\n",
    "    print('Tworzenie DataFrame...')\n",
    "    flat_dict = dict()\n",
    "    for annotations in tqdm(data):\n",
    "        data_image = filter(lambda x: x['supercategory'] == 'object' \n",
    "                                      and x['bbox_pitch'] is not None, annotations)\n",
    "        for img in data_image:\n",
    "            for key in img:\n",
    "                if isinstance(img[key], dict):\n",
    "                    for key2 in img[key]:\n",
    "                        if key + '_' + key2 not in flat_dict:\n",
    "                            flat_dict[key + '_' + key2] = []\n",
    "                        flat_dict[key + '_' + key2].append(img[key][key2])\n",
    "                else:\n",
    "                    if key not in flat_dict:\n",
    "                        flat_dict[key] = []\n",
    "                    flat_dict[key].append(img[key])\n",
    "    df = pd.DataFrame(flat_dict, index=flat_dict['id'])\n",
    "    df = df.drop(columns=['id'])\n",
    "    return df"
   ],
   "id": "f9e1dc3c9ea20dad",
   "outputs": [],
   "execution_count": null
  },
  {
   "metadata": {},
   "cell_type": "code",
   "source": [
    "def flatten_data(data: list[list[dict]]) -> list:\n",
    "    flat_list = [y for x in data for y in x]\n",
    "    return flat_list"
   ],
   "id": "d143871516fe14e0",
   "outputs": [],
   "execution_count": null
  },
  {
   "metadata": {},
   "cell_type": "code",
   "source": [
    "def get_pitch_data_df(data: list) -> pd.DataFrame:\n",
    "    pitch_data_dict = {'id': [], 'image_id': [], 'line_type': [], 'x': [], 'y': []}\n",
    "    allowed_lines = ['Circle central', 'Big rect. left bottom', 'Big rect. left main', 'Big rect. left top', 'Small rect. left bottom', 'Small rect. left main', 'Small rect. left top', 'Big rect. right bottom', 'Big rect. right main', 'Big rect. right top', 'Small rect. right bottom', 'Small rect. right main', 'Small rect. right top', 'Middle line', 'Side line bottom', 'Side line left', 'Side line right', 'Side line top']\n",
    "    data = filter(lambda x: x['supercategory'] == 'pitch', data)\n",
    "    for anotation in tqdm(data):\n",
    "        lines = anotation['lines']\n",
    "        lines = {k : v for k, v in lines.items() if k in allowed_lines}\n",
    "        for line in lines:\n",
    "            for data_point in anotation['lines'][line]:\n",
    "                pitch_data_dict['id'].append(int(anotation['id']))\n",
    "                pitch_data_dict['image_id'].append(int(anotation['image_id']))\n",
    "                pitch_data_dict['line_type'].append(line)\n",
    "                pitch_data_dict['x'].append(data_point['x'])\n",
    "                pitch_data_dict['y'].append(data_point['y'])\n",
    "    pitch_df = pd.DataFrame(pitch_data_dict)\n",
    "    return pitch_df"
   ],
   "id": "d963e7a27ba56ae0",
   "outputs": [],
   "execution_count": null
  },
  {
   "metadata": {},
   "cell_type": "code",
   "source": [
    "def denormalize_coordinates(x: float, y: float, img_width: int, img_height: int) -> tuple[int, int]:\n",
    "    return int(x * img_width), int(y * img_height)\n",
    "\n",
    "\n",
    "def draw_points_on_image(image: np.ndarray, coords: pd.DataFrame) -> np.ndarray:\n",
    "    image_height, image_width, _ = image.shape\n",
    "\n",
    "    colors = {\n",
    "        # 3 punktowce\n",
    "        'Circle central': (0, 255, 255),\n",
    "        'Circle left': (255, 255, 255),\n",
    "        'Circle right': (140, 159, 191),\n",
    "        # lewe pole karne\n",
    "        'Big rect. left bottom': (0,0,0),\n",
    "        'Big rect. left main': (0, 255, 0),\n",
    "        'Big rect. left top': (255, 0, 0),\n",
    "        'Small rect. left bottom': (64, 255, 128),\n",
    "        'Small rect. left main': (192, 255, 32),\n",
    "        'Small rect. left top': (32, 192, 255),\n",
    "        #prawe pole karne        \n",
    "        'Big rect. right bottom': (0, 0, 255),\n",
    "        'Big rect. right main': (255, 255, 0),\n",
    "        'Big rect. right top': (255, 0, 255),\n",
    "        'Small rect. right bottom': (255, 32, 192),\n",
    "        'Small rect. right main': (32, 255, 192),\n",
    "        'Small rect. right top': (192, 32, 255),\n",
    "        #linie\n",
    "        'Middle line': (255, 64, 128),\n",
    "        'Side line bottom': (128, 255, 64),\n",
    "        'Side line left': (64, 128, 255),\n",
    "        'Side line right': (128, 64, 255),\n",
    "        'Side line top': (255, 128, 64)\n",
    "    }\n",
    "    for i, row in coords.iterrows():\n",
    "        color = colors[row['line_type']] if row['line_type'] in colors.keys() else (0, 0, 0)\n",
    "        x_pixel, y_pixel = denormalize_coordinates(row['x'], row['y'], image_width, image_height)\n",
    "        cv2.circle(image, (x_pixel, y_pixel), radius=5, color=color, thickness=-1)\n",
    "\n",
    "    scale_factor = min(1920 / image_width, 1080 / image_height)\n",
    "    if scale_factor < 1:\n",
    "        image = cv2.resize(image, (int(image_width * scale_factor), int(image_height * scale_factor)))\n",
    "\n",
    "    return image"
   ],
   "id": "7abb52033361e083",
   "outputs": [],
   "execution_count": null
  },
  {
   "metadata": {},
   "cell_type": "code",
   "source": [
    "line_to_yolo_class_mapping = {\n",
    "    'Circle central': 0,\n",
    "    # lewe pole karne\n",
    "    'Big rect. left bottom': 1,\n",
    "    'Big rect. left main': 2,\n",
    "    'Big rect. left top': 3,\n",
    "    'Small rect. left bottom': 4,\n",
    "    'Small rect. left main': 5,\n",
    "    'Small rect. left top': 6,\n",
    "    #prawe pole karne        \n",
    "    'Big rect. right bottom': 7,\n",
    "    'Big rect. right main': 8,\n",
    "    'Big rect. right top': 9,\n",
    "    'Small rect. right bottom': 10,\n",
    "    'Small rect. right main': 11,\n",
    "    'Small rect. right top': 12,\n",
    "    #linie\n",
    "    'Middle line': 13,\n",
    "    'Side line bottom': 14,\n",
    "    'Side line left': 15,\n",
    "    'Side line right': 16,\n",
    "    'Side line top': 17\n",
    "}"
   ],
   "id": "20ea8d663f0478",
   "outputs": [],
   "execution_count": null
  },
  {
   "cell_type": "code",
   "source": [
    "line_to_yolo_class_mapping.keys()"
   ],
   "metadata": {
    "collapsed": false
   },
   "id": "9b0ecb1c9dd65c97",
   "outputs": [],
   "execution_count": null
  },
  {
   "metadata": {},
   "cell_type": "code",
   "source": [
    "def get_yolo_file_for_pitch(df: pd.DataFrame, split: str) -> None:\n",
    "    file_contents = ['' for _ in range(df.image_id.nunique())]\n",
    "    df = df[df['line_type'].isin(line_to_yolo_class_mapping.keys())]\n",
    "    for i, row in tqdm(df.iterrows()):\n",
    "        line_type: str = row['line_type']\n",
    "        x: float = row['x']\n",
    "        y: float = row['y']\n",
    "        category: int = line_to_yolo_class_mapping[line_type]\n",
    "        file_contents[int(str(row['image_id'])[-3:]) - 1] += f'{category} {x} {y}\\n'\n",
    "    for i, file in tqdm(enumerate(file_contents)):\n",
    "        with open(f'datasets/football_lines/{split}/labels/{i + 1 :06d}.txt', 'w') as f:\n",
    "            f.write(file)"
   ],
   "id": "e54f94308d2096fb",
   "outputs": [],
   "execution_count": null
  },
  {
   "metadata": {},
   "cell_type": "code",
   "source": [
    "data: list = load_data()"
   ],
   "id": "c3fdbd1583e0c5d5",
   "outputs": [],
   "execution_count": null
  },
  {
   "cell_type": "code",
   "source": [],
   "metadata": {
    "collapsed": false
   },
   "id": "35d03aaba15e424a",
   "outputs": [],
   "execution_count": null
  },
  {
   "metadata": {},
   "cell_type": "code",
   "source": [
    "flatten_data_list: list[dict] = flatten_data(data)"
   ],
   "id": "556e0cccd3790a7b",
   "outputs": [],
   "execution_count": null
  },
  {
   "metadata": {},
   "cell_type": "code",
   "source": [
    "pitch_df: pd.DataFrame = get_pitch_data_df(flatten_data_list)"
   ],
   "id": "b8123786783d24fb",
   "outputs": [],
   "execution_count": null
  },
  {
   "cell_type": "code",
   "source": [
    "filtered_data = list(filter(lambda x: x['supercategory'] == 'pitch', flatten_data_list))"
   ],
   "metadata": {
    "collapsed": false
   },
   "id": "3e66111c7ce7562c",
   "outputs": [],
   "execution_count": null
  },
  {
   "cell_type": "code",
   "source": [
    "filtered_data[1]"
   ],
   "metadata": {
    "collapsed": false
   },
   "id": "a83d2950849906fc",
   "outputs": [],
   "execution_count": null
  },
  {
   "metadata": {},
   "cell_type": "code",
   "source": [
    "pitch_df"
   ],
   "id": "f4219ff284b866d4",
   "outputs": [],
   "execution_count": null
  },
  {
   "cell_type": "code",
   "source": [
    "pitch_df"
   ],
   "metadata": {
    "collapsed": false
   },
   "id": "452a8d6f44587f62",
   "outputs": [],
   "execution_count": null
  },
  {
   "metadata": {},
   "cell_type": "code",
   "source": [
    "pitch_df_one_clip = pitch_df[pitch_df['image_id'].astype(str).str.startswith('20210')]"
   ],
   "id": "1198bfda74f3b6b5",
   "outputs": [],
   "execution_count": null
  },
  {
   "metadata": {},
   "cell_type": "code",
   "source": [
    "pitch_df_one_clip"
   ],
   "id": "f0b4d0e12fc5e966",
   "outputs": [],
   "execution_count": null
  },
  {
   "metadata": {},
   "cell_type": "code",
   "source": [
    "def get_line_pattern(x1: float, y1: float, x2: float, y2: float) -> tuple[float, float]:\n",
    "    # y = ax + b\n",
    "    a = (y1 - y2) / (x1 - x2)\n",
    "    b = y2 - a * x2\n",
    "    return a, b"
   ],
   "id": "dd36226f4f28bf42",
   "outputs": [],
   "execution_count": null
  },
  {
   "metadata": {},
   "cell_type": "code",
   "source": [
    "def get_circle_pattern(x1: float, y1: float, x2: float, y2: float, x3: float, y3: float) -> tuple[float, float, float]:\n",
    "    A = np.array([\n",
    "        [x1, x2, 1],\n",
    "        [x2, y2, 1],\n",
    "        [x3, y3, 1]\n",
    "    ])\n",
    "    \n",
    "    B = np.array([\n",
    "        [-(x1**2 + y1**2)],\n",
    "        [-(x2**2 + y2**2)],\n",
    "        [-(x3**2 + y3**2)]\n",
    "    ])\n",
    "    \n",
    "    d, e, f = np.linalg.solve(A, B).flatten()\n",
    "    \n",
    "    a = -d / 2\n",
    "    b = -e / 2\n",
    "    r = np.sqrt(pow(a, 2) + pow(b, 2) - f)\n",
    "    \n",
    "    return float(a), float(b), float(r)"
   ],
   "id": "e5bacfb47db54060",
   "outputs": [],
   "execution_count": null
  },
  {
   "cell_type": "code",
   "source": [
    "def get_ellipse_pattern(points: list) -> tuple:\n",
    "    A = []\n",
    "    B = []\n",
    "    for (x, y) in points:\n",
    "        A.append([x**2, x*y, y**2, x, y])\n",
    "        B.append(1)\n",
    "        \n",
    "    A = np.array(A)\n",
    "    B = np.array(B)\n",
    "\n",
    "    ellipse_params = np.linalg.solve(A, B)\n",
    "    \n",
    "    return tuple(ellipse_params.tolist())\n",
    "    "
   ],
   "metadata": {
    "collapsed": false
   },
   "id": "663e4a60460102de",
   "outputs": [],
   "execution_count": null
  },
  {
   "cell_type": "code",
   "source": [
    "def get_ellipse_center(func: tuple) -> tuple:\n",
    "    A, B, C, D, E = func\n",
    "    x = (B * E - 2 * C * D) / (4 * A * C - B**2)\n",
    "    y = (B * D - 2 * A * E) / (4 * A * C - B**2)\n",
    "    return x, y"
   ],
   "metadata": {
    "collapsed": false
   },
   "id": "cde00a3c9a863503",
   "outputs": [],
   "execution_count": null
  },
  {
   "cell_type": "code",
   "source": [
    "def get_ellipse_axes(func: tuple) -> tuple:\n",
    "    A, B, C, D, E = func\n",
    "    M = np.array([[A, B / 2], [B / 2, C]])\n",
    "\n",
    "    eigenvalues = np.linalg.eigvals(M)\n",
    "    lambda1, lambda2 = eigenvalues[0], eigenvalues[1]\n",
    "\n",
    "    delta = (B**2 - 4 * A * C)\n",
    "    if delta == 0:\n",
    "        raise ValueError(\"Nie jest to równanie elipsy lub opis jest niewłaściwy.\")\n",
    "\n",
    "    a = math.sqrt(-delta / lambda1)\n",
    "    b = math.sqrt(-delta / lambda2)\n",
    "    return a, b"
   ],
   "metadata": {
    "collapsed": false
   },
   "id": "d73a7e1be229be87",
   "outputs": [],
   "execution_count": null
  },
  {
   "metadata": {},
   "cell_type": "code",
   "source": [
    "lista = [1, 2, 3]\n",
    "lista[:3]"
   ],
   "id": "4375ba7717b30a09",
   "outputs": [],
   "execution_count": null
  },
  {
   "metadata": {},
   "cell_type": "code",
   "source": [
    "def get_func_pattern(df: pd.DataFrame) -> dict[str, list[tuple]]:\n",
    "    func_patterns = {'line': [], 'ellipse': []}\n",
    "    df_list: list[pd.DataFrame] = [image_id for _, image_id in df.groupby('image_id')]\n",
    "    for df_of_image in tqdm(df_list):\n",
    "        image_id: int = df_of_image.iloc[0]['image_id']\n",
    "        points_dict: dict[str, list] = {key: [] for key in df_of_image['line_type'].unique()}\n",
    "        for i, row in df_of_image.iterrows():\n",
    "            points_dict[row['line_type']].append((row['x'], row['y']))\n",
    "        for line in points_dict.keys():\n",
    "            if 'Circle' in line and len(points_dict[line]) >= 5:\n",
    "                points: list[tuple[float, float]] = random.sample(points_dict[line], 5)\n",
    "                points = [(x * 1920, y * 1080) for x, y in points]\n",
    "                func_pattern = get_ellipse_pattern(points)\n",
    "                func_patterns['ellipse'].append((int(image_id), func_pattern))\n",
    "            else:\n",
    "                points = random.sample(points_dict[line], 2)\n",
    "                flatten_points = []\n",
    "                for x, y in points:\n",
    "                    flatten_points.append(x * 1920)\n",
    "                    flatten_points.append(y * 1080)\n",
    "                func_pattern = get_line_pattern(*flatten_points)\n",
    "                func_patterns['line'].append((int(image_id), func_pattern))\n",
    "    return func_patterns"
   ],
   "id": "fdbcb2964bdbd50c",
   "outputs": [],
   "execution_count": null
  },
  {
   "metadata": {},
   "cell_type": "code",
   "source": [
    "lines = get_func_pattern(pitch_df_one_clip)"
   ],
   "id": "c928a5079930d7c4",
   "outputs": [],
   "execution_count": null
  },
  {
   "metadata": {},
   "cell_type": "code",
   "source": [
    "def draw_line_on_image(image: np.array, func: tuple, give_pattern: bool = False) -> np.array:\n",
    "    a: float = func[0]\n",
    "    b: float = func[1]\n",
    "    if give_pattern:\n",
    "        print(f'f(x) = {a}x + {b}')\n",
    "        print(image.shape)\n",
    "    x = np.linspace(0, image.shape[1], 1000)\n",
    "    y = a * x + b\n",
    "    filtered_x = list()\n",
    "    filtered_y = list()\n",
    "    for x_val, y_val in zip(x, y):\n",
    "        if 0 <= y_val <= image.shape[0]:\n",
    "            filtered_x.append(x_val)\n",
    "            filtered_y.append(y_val)\n",
    "    x = filtered_x\n",
    "    y = filtered_y\n",
    "    cv2.line(image, (int(x[0]), int(y[0])), (int(x[-1]), int(y[-1])), color=(0,0,0), thickness=2)\n",
    "    image_rgb = cv2.cvtColor(image, cv2.COLOR_BGR2RGB)\n",
    "    return image_rgb"
   ],
   "id": "1ef28029158c25b0",
   "outputs": [],
   "execution_count": null
  },
  {
   "cell_type": "code",
   "source": [
    "def draw_circle_on_image(image: np.array, func: tuple, give_pattern: bool = False):\n",
    "    a: float = int(func[0])\n",
    "    b: float = int(func[1])\n",
    "    r: float = int(func[2])\n",
    "    \n",
    "    cv2.circle(image, (a, b), r, color=(0,0,0), thickness=2)\n",
    "    if give_pattern:\n",
    "        print(f'(x - {a})^2 + (y - {b})^2 = {r}^2')\n",
    "    \n",
    "    cv2.imshow(\"Koło\", image)\n",
    "    cv2.waitKey(0)\n",
    "    cv2.destroyAllWindows()"
   ],
   "metadata": {
    "collapsed": false
   },
   "id": "74024c232e7090f2",
   "outputs": [],
   "execution_count": null
  },
  {
   "cell_type": "code",
   "source": [
    "def draw_ellipse_on_image(image: np.array, func: tuple, give_pattern: bool = False) -> np.array:\n",
    "    A, B, C, D, E = func\n",
    "    if give_pattern:\n",
    "        print(f'{A:.20f}x^2 + {B:.20f}xy + {C:.20f}y^2 + {D:.20f}x + {E:.20f}y = 1')\n",
    "    middle_x, middle_y = get_ellipse_center(func)\n",
    "    a, b = get_ellipse_axes(func)\n",
    "    cv2.ellipse(image, (int(middle_x), int(middle_y)), (int(a), int(b)), 0, 0, 360, color=(0,0,0), thickness=2)\n",
    "    image_rgb = cv2.cvtColor(image, cv2.COLOR_BGR2RGB)\n",
    "    return image_rgb"
   ],
   "metadata": {
    "collapsed": false
   },
   "id": "604142ca7637828f",
   "outputs": [],
   "execution_count": null
  },
  {
   "cell_type": "code",
   "source": [
    "def draw_all_lines(image: np.array, lines: list) -> np.array:\n",
    "    for line in lines:\n",
    "        if len(line) == 2:\n",
    "            image = draw_line_on_image(image, line)\n",
    "        # else:\n",
    "        #     image = draw_ellipse_on_image(image, line)\n",
    "    return image"
   ],
   "metadata": {
    "collapsed": false
   },
   "id": "1ebfc10d89589898",
   "outputs": [],
   "execution_count": null
  },
  {
   "cell_type": "code",
   "source": [
    "pitch_df_one_image = pitch_df_one_clip[pitch_df_one_clip['image_id'] == 2021000001]\n",
    "pitch_df_one_image_circle_coords = pitch_df_one_image[pitch_df_one_image['line_type'].str.contains('Circle')]\n",
    "ellipse_points = [(row['x']*1920, row['y']*1080) for i, row in pitch_df_one_image_circle_coords.iterrows()]\n",
    "ellipse_points"
   ],
   "metadata": {
    "collapsed": false
   },
   "id": "52bf8eabbd685098",
   "outputs": [],
   "execution_count": null
  },
  {
   "cell_type": "code",
   "source": [
    "ellipse_points_sample = random.sample(ellipse_points, 5)\n",
    "A, B, C, D, E = get_ellipse_pattern(ellipse_points_sample)"
   ],
   "metadata": {
    "collapsed": false
   },
   "id": "d963ac4ecb9e8d8d",
   "outputs": [],
   "execution_count": null
  },
  {
   "cell_type": "code",
   "source": [
    "center = get_ellipse_center((A, B, C, D, E))"
   ],
   "metadata": {
    "collapsed": false
   },
   "id": "bc816488b9a80896",
   "outputs": [],
   "execution_count": null
  },
  {
   "cell_type": "code",
   "source": [
    "def is_point_on_ellipse(point: tuple):\n",
    "    result = point[0]**2 * A + point[0] * point[1] * B + point[1]**2 * C + point[0] * D + point[1] * E - 1\n",
    "    if result < 0.005:\n",
    "        return True\n",
    "    return False"
   ],
   "metadata": {
    "collapsed": false
   },
   "id": "63ac7215ce0bf259",
   "outputs": [],
   "execution_count": null
  },
  {
   "cell_type": "code",
   "source": [
    "draw_ellipse_on_image(cv2.imread('data/SoccerNetGS/gamestate-2024/valid/SNGS-021/img1/000001.jpg'), (A, B, C, D, E))"
   ],
   "metadata": {
    "collapsed": false
   },
   "id": "66ef32ab75808d8b",
   "outputs": [],
   "execution_count": null
  },
  {
   "cell_type": "code",
   "source": [
    "lines_one_image = get_func_pattern(pitch_df_one_image)\n",
    "lines_one_image"
   ],
   "metadata": {
    "collapsed": false
   },
   "id": "21417abd371a6762",
   "outputs": [],
   "execution_count": null
  },
  {
   "cell_type": "code",
   "source": [
    "path = 'data/SoccerNetGS/gamestate-2024/valid/SNGS-021/img1/000001.jpg'\n",
    "image = cv2.imread(path)\n",
    "draw_circle_on_image(image, lines['circle'][0][1])"
   ],
   "metadata": {
    "collapsed": false
   },
   "id": "581beede870745d7",
   "outputs": [],
   "execution_count": null
  },
  {
   "metadata": {},
   "cell_type": "code",
   "source": [
    "path = 'data/SoccerNetGS/gamestate-2024/valid/SNGS-021/img1/000001.jpg'\n",
    "draw_line_on_image(path, lines_one_image['line'][1][1])"
   ],
   "id": "2210c09b0d841a79",
   "outputs": [],
   "execution_count": null
  },
  {
   "metadata": {},
   "cell_type": "code",
   "source": [
    "img = cv2.imread(path)\n",
    "edited = draw_points_on_image(img, pitch_df_one_clip[pitch_df_one_clip['image_id'] == 1060000001])"
   ],
   "id": "3b5aaf29a4d07b3c",
   "outputs": [],
   "execution_count": null
  },
  {
   "metadata": {},
   "cell_type": "code",
   "source": [
    "cv2.imshow(\"img with points\", edited)\n",
    "cv2.waitKey(0)\n",
    "cv2.destroyAllWindows()"
   ],
   "id": "a0fb98d6bd6e332d",
   "outputs": [],
   "execution_count": null
  },
  {
   "metadata": {},
   "cell_type": "code",
   "source": [
    "def get_linear_crossing_points(f1: tuple, f2: tuple, im_width: int = 1920, im_height: int = 1080) -> tuple | None:\n",
    "    if len(f1) != len(f2) != 2:\n",
    "        raise ValueError('Functions are not linear')\n",
    "    x: float = (f2[1] - f1[1]) / (f1[0] - f2[0])\n",
    "    y: float = f1[0] * x + f1[1]\n",
    "    if x < 0 or x> im_width or y < 0 or y > im_height:\n",
    "        return None\n",
    "    return x, y"
   ],
   "id": "8c3d5556d62180ce",
   "outputs": [],
   "execution_count": null
  },
  {
   "cell_type": "code",
   "source": [
    "def get_linear_with_ellipse_crossing(f1: tuple, f2: tuple, im_width: int = 1920, im_height: int = 1080) -> list | None:\n",
    "    if len(f1) != 2 or len(f2) != 5:\n",
    "        raise ValueError('Not right function type')\n",
    "    # Ellipse like Ax^2 + Bxy + Cy^2 + Dx + Ey = 1\n",
    "    A: float = f2[0]\n",
    "    B: float = f2[1]\n",
    "    C: float = f2[2]\n",
    "    D: float = f2[3]\n",
    "    E: float = f2[4]\n",
    "    # Linear like y = a1 * x + b1\n",
    "    a1: float = f1[0]\n",
    "    b1: float = f1[1]\n",
    "    \n",
    "    a: float = A + B * a1 + C * pow(a1, 2)\n",
    "    b: float = B * b1 + 2 * C * b1 * a1 + D + E * a1\n",
    "    c: float = C * pow(b1, 2) + E * b1 - 1\n",
    "        \n",
    "    delta: float = pow(b, 2) - 4 * a * c\n",
    "    \n",
    "    if delta < 0:\n",
    "        return None\n",
    "    \n",
    "    delta_sqrt: float = math.sqrt(delta)\n",
    "    x1 : float = (-b + delta_sqrt) / (2 * a)\n",
    "    y1: float = a1 * x1 + b1\n",
    "    x2 : float = (-b - delta_sqrt) / (2 * a)\n",
    "    y2 : float = a1 * x2 + b1\n",
    "    \n",
    "    x1 = x1 if 0 <= x1 <= im_width else None\n",
    "    y1 = y1 if 0 <= y1 <= im_height else None\n",
    "    x2 = x2 if 0 <= x2 <= im_width else None\n",
    "    y2 = y2 if 0 <= y2 <= im_height else None\n",
    "\n",
    "    to_return = list()\n",
    "\n",
    "    if x1 is not None and y1 is not None:\n",
    "        to_return.append((x1, y1))\n",
    "    \n",
    "    if x2 is not None and y2 is not None:\n",
    "        to_return.append((x2, y2))\n",
    "    \n",
    "    if len(to_return) > 0:\n",
    "        return to_return\n",
    "    \n",
    "    return None"
   ],
   "metadata": {
    "collapsed": false
   },
   "id": "9a2184a8ecfa99a0",
   "outputs": [],
   "execution_count": null
  },
  {
   "cell_type": "code",
   "source": [
    "points = get_linear_with_ellipse_crossing((74.71961698993614, -75573.49002185368), (A, B, C, D, E))"
   ],
   "metadata": {
    "collapsed": false
   },
   "id": "bd0599a665ba0980",
   "outputs": [],
   "execution_count": null
  },
  {
   "cell_type": "code",
   "source": [
    "linear_points = get_linear_crossing_points(lines_one_image['line'][1][1], lines['line'][0][1])"
   ],
   "metadata": {
    "collapsed": false
   },
   "id": "9bb007cb7ff2c44",
   "outputs": [],
   "execution_count": null
  },
  {
   "cell_type": "code",
   "source": [
    "img = cv2.imread('data/SoccerNetGS/gamestate-2024/valid/SNGS-021/img1/000001.jpg')\n",
    "points = points + [linear_points] + [center]\n",
    "for point in points:\n",
    "    cv2.circle(img, (int(point[0]), int(point[1])), radius=5, color=(0, 0, 255), thickness=-1)\n",
    "cv2.imshow(\"img with points\", img)\n",
    "cv2.waitKey(0)\n",
    "cv2.destroyAllWindows()\n"
   ],
   "metadata": {
    "collapsed": false
   },
   "id": "cf5e21efc1c3aa63",
   "outputs": [],
   "execution_count": null
  },
  {
   "cell_type": "code",
   "source": [
    "get_linear_crossing_points((4,17), (-13, 3))"
   ],
   "metadata": {
    "collapsed": false
   },
   "id": "b8b882223852c955",
   "outputs": [],
   "execution_count": null
  },
  {
   "cell_type": "code",
   "source": [
    "# {'line': [(2021000001, (95.44767670414602, -96609.38215087929)),\n",
    "#   (2021000001, (-0.014856099787039952, 270.584891142075))],\n",
    "#  'circle': [(2021000001,\n",
    "#    array([-1.2458e-07, -4.4927e-09, -3.3171e-06,  0.00025738,   0.0034819]))]}\n",
    "lines_for_draw = list()\n",
    "for key in lines_one_image.keys():\n",
    "    for item in lines_one_image[key]:\n",
    "        lines_for_draw.append(item[1])\n",
    "lines_for_draw\n"
   ],
   "metadata": {
    "collapsed": false
   },
   "id": "48e2e0f6bfe802a5",
   "outputs": [],
   "execution_count": null
  },
  {
   "cell_type": "code",
   "source": [
    "image_result = draw_all_lines(cv2.imread('data/SoccerNetGS/gamestate-2024/valid/SNGS-021/img1/000001.jpg'), lines_for_draw)"
   ],
   "metadata": {
    "collapsed": false
   },
   "id": "ff3e1de16c0ec4ba",
   "outputs": [],
   "execution_count": null
  },
  {
   "cell_type": "code",
   "source": [
    "image_rgb = cv2.cvtColor(image_result, cv2.COLOR_BGR2RGB)\n"
   ],
   "metadata": {
    "collapsed": false
   },
   "id": "9c5563c4a930bb1e",
   "outputs": [],
   "execution_count": null
  },
  {
   "cell_type": "code",
   "source": [
    "test_img = cv2.imread('data/SoccerNetGS/gamestate-2024/valid/SNGS-021/img1/000414.jpg')"
   ],
   "metadata": {
    "collapsed": false
   },
   "id": "602b8235ad00a338",
   "outputs": [],
   "execution_count": null
  },
  {
   "cell_type": "code",
   "source": [
    "lines_1 = get_func_pattern(pitch_df_one_clip[pitch_df_one_clip['image_id'] == 2021000001])\n",
    "lines_1 "
   ],
   "metadata": {
    "collapsed": false
   },
   "id": "a5133c578607eeed",
   "outputs": [],
   "execution_count": null
  },
  {
   "cell_type": "code",
   "source": [
    "lines_414 = get_func_pattern(pitch_df_one_clip[pitch_df_one_clip['image_id'] == 2021000414])\n",
    "lines_414"
   ],
   "metadata": {
    "collapsed": false
   },
   "id": "b012127e8221d23a",
   "outputs": [],
   "execution_count": null
  },
  {
   "cell_type": "code",
   "source": [
    "draw_ellipse_on_image(test_img, lines_414['ellipse'][0][1], True)"
   ],
   "metadata": {
    "collapsed": false
   },
   "id": "62c1a915e8456004",
   "outputs": [],
   "execution_count": null
  },
  {
   "cell_type": "code",
   "source": [
    "test_lines = [x[1] for x in lines_414['line']]\n",
    "all_lines = draw_all_lines(test_img, test_lines)"
   ],
   "metadata": {
    "collapsed": false
   },
   "id": "312e54d3cdf6a794",
   "outputs": [],
   "execution_count": null
  },
  {
   "cell_type": "code",
   "source": [
    "scaled_img = cv2.resize(all_lines, (920, 540))\n",
    "cv2.imshow(\"img with lines\", scaled_img)\n",
    "cv2.waitKey(0)\n",
    "cv2.destroyAllWindows()"
   ],
   "metadata": {
    "collapsed": false
   },
   "id": "b8aa465e3aa58d44",
   "outputs": [],
   "execution_count": null
  },
  {
   "cell_type": "code",
   "source": [
    "from keypoint import Keypoint"
   ],
   "metadata": {
    "collapsed": false
   },
   "id": "e1ab788db190b912",
   "outputs": [],
   "execution_count": null
  },
  {
   "cell_type": "code",
   "source": [
    "keypoint = Keypoint()\n",
    "funcs = keypoint.get_func_pattern(pitch_df_one_clip)"
   ],
   "metadata": {
    "collapsed": false
   },
   "id": "4eb51eb9ddda7e64",
   "outputs": [],
   "execution_count": null
  },
  {
   "cell_type": "code",
   "source": [
    "funcs[np.int64(2021000001)]"
   ],
   "metadata": {
    "collapsed": false
   },
   "id": "1827057f23625abf",
   "outputs": [],
   "execution_count": null
  },
  {
   "cell_type": "code",
   "source": [
    "get_linear_crossing_points((np.float64(74.71961698993614), np.float64(-75573.49002185368)),(np.float64(-0.0204907665064508), np.float64(278.61844396660763)))\n",
    "get_linear_crossing_points((np.float64(74.71961698993614), np.float64(-75573.49002185368)),(np.float64(-0.0204907665064508), np.float64(278.61844396660763)))"
   ],
   "metadata": {
    "collapsed": false
   },
   "id": "ef7f6dcbd77140b3",
   "outputs": [],
   "execution_count": null
  },
  {
   "cell_type": "code",
   "source": [
    "def get_crossing_matrix():\n",
    "    crossing_matrix = np.zeros((18, 18))\n",
    "    crossing_matrix[0, 13] = 1\n",
    "    crossing_matrix[13, 0] = 1\n",
    "    crossing_matrix[13, 14] = 1\n",
    "    crossing_matrix[14, 13] = 1\n",
    "    crossing_matrix[13, 17] = 1\n",
    "    crossing_matrix[17, 13] = 1\n",
    "\n",
    "    crossing_matrix[1, 15] = 1\n",
    "    crossing_matrix[15, 1] = 1\n",
    "    crossing_matrix[1, 2] = 1\n",
    "    crossing_matrix[2, 1] = 1\n",
    "    crossing_matrix[3, 2] = 1\n",
    "    crossing_matrix[2, 3] = 1\n",
    "    crossing_matrix[3, 15] = 1\n",
    "    crossing_matrix[15, 3] = 1\n",
    "\n",
    "    crossing_matrix[4, 15] = 1\n",
    "    crossing_matrix[15, 4] = 1\n",
    "    crossing_matrix[4, 5] = 1\n",
    "    crossing_matrix[5, 4] = 1\n",
    "    crossing_matrix[6, 5] = 1\n",
    "    crossing_matrix[5, 6] = 1\n",
    "    crossing_matrix[6, 15] = 1\n",
    "    crossing_matrix[15, 6] = 1\n",
    "\n",
    "    crossing_matrix[14, 15] = 1\n",
    "    crossing_matrix[15, 14] = 1\n",
    "    crossing_matrix[15, 17] = 1\n",
    "    crossing_matrix[17, 15] = 1\n",
    "\n",
    "    crossing_matrix[7, 16] = 1\n",
    "    crossing_matrix[16, 7] = 1\n",
    "    crossing_matrix[7, 8] = 1\n",
    "    crossing_matrix[8, 7] = 1\n",
    "    crossing_matrix[9, 8] = 1\n",
    "    crossing_matrix[8, 9] = 1\n",
    "    crossing_matrix[9, 16] = 1\n",
    "    crossing_matrix[16, 9] = 1\n",
    "\n",
    "    crossing_matrix[10, 16] = 1\n",
    "    crossing_matrix[16, 10] = 1\n",
    "    crossing_matrix[10, 11] = 1\n",
    "    crossing_matrix[11, 10] = 1\n",
    "    crossing_matrix[12, 11] = 1\n",
    "    crossing_matrix[11, 12] = 1\n",
    "    crossing_matrix[12, 16] = 1\n",
    "    crossing_matrix[16, 12] = 1\n",
    "\n",
    "    crossing_matrix[14, 16] = 1\n",
    "    crossing_matrix[16, 14] = 1\n",
    "    crossing_matrix[16, 17] = 1\n",
    "    crossing_matrix[17, 16] = 1\n",
    "    return crossing_matrix"
   ],
   "metadata": {
    "collapsed": false
   },
   "id": "d3565829825815d6",
   "outputs": [],
   "execution_count": null
  },
  {
   "cell_type": "code",
   "source": [
    "def get_all_keypoints_by_id(img_id: int) -> list:\n",
    "    crossing_matrix = get_crossing_matrix()\n",
    "    lines = funcs[img_id]\n",
    "    matches = list()\n",
    "    keypoints = list()\n",
    "    print(lines.keys())\n",
    "    for line in lines.keys():\n",
    "        possible_crossings = np.where(crossing_matrix[line] == 1)\n",
    "        possible_crossings = possible_crossings[0].tolist()\n",
    "        print(line)\n",
    "        print(possible_crossings)\n",
    "        for crossing in possible_crossings:\n",
    "            if crossing in lines.keys():\n",
    "                if line < crossing:\n",
    "                    matches.append((line, crossing))\n",
    "                else:\n",
    "                    matches.append((crossing, line))\n",
    "    matches = set(matches)\n",
    "    for match in matches:\n",
    "        if match[0] == 0:\n",
    "            keypoints += get_linear_with_ellipse_crossing(lines[match[1]], lines[0])\n",
    "        else:\n",
    "            keypoints.append(get_linear_crossing_points(lines[match[0]], lines[match[1]]))\n",
    "\n",
    "    return keypoints"
   ],
   "metadata": {
    "collapsed": false
   },
   "id": "6c65ad1d721681ab",
   "outputs": [],
   "execution_count": null
  },
  {
   "cell_type": "code",
   "source": [
    "keypoints = get_all_keypoints_by_id(np.int64(2021000750))"
   ],
   "metadata": {
    "collapsed": false
   },
   "id": "eab5680dabe537b0",
   "outputs": [],
   "execution_count": null
  },
  {
   "cell_type": "code",
   "source": [
    "keypoints"
   ],
   "metadata": {
    "collapsed": false
   },
   "id": "9429f80e0692d744",
   "outputs": [],
   "execution_count": null
  },
  {
   "cell_type": "code",
   "source": [
    "np.ndarray([ 0, 14, 15])\n"
   ],
   "metadata": {
    "collapsed": false
   },
   "id": "7d7bb3b1f2d79f3c",
   "outputs": [],
   "execution_count": null
  },
  {
   "cell_type": "code",
   "source": [
    "image = cv2.imread('data/SoccerNetGS/gamestate-2024/valid/SNGS-021/img1/000750.jpg', cv2.IMREAD_COLOR)\n",
    "for point in keypoints:\n",
    "    if point is not None:\n",
    "        print(point[0])\n",
    "        print(point[1])\n",
    "        cv2.circle(image, (int(point[0]), int(point[1])), radius=5, color=(0, 0, 255), thickness=-1)\n",
    "image = cv2.resize(image, (920, 540))\n",
    "cv2.imshow(\"img with points\", image)\n",
    "cv2.waitKey(0)\n",
    "cv2.destroyAllWindows()"
   ],
   "metadata": {
    "collapsed": false
   },
   "id": "6165cf4cce5d3e6f",
   "outputs": [],
   "execution_count": null
  },
  {
   "cell_type": "code",
   "source": [
    "strowanie = '0 0.5 0.59921875 1 0.49921875 0.17810874999999998 0.36350546296296293 2 0.12096354166666665 0.3944155555555555 2 0.05939333333333333 0.4264648148148148 2 0.023809531249999998 0.6509474074074073 0 0.019841249999999998 0.6998087962962962 0 0.019841249999999998 0.8001728703703703 0 0.10846963541666665 0.4283962962962963 2 0.08994708333333332 0.6509474074074073 0 0.11180828125 0.4630316666666666 2 0.26169635416666664 0.39601777777777775 2 0.21068723958333332 0.43467879629629624 2 0.12624916666666666 0.4994755555555555 2 0.011346458333333333 0.5872359259259259 2 0.6094970833333333 0.3660373148148148 2 0.6150390625 0.4345051851851852 2 0.62099609375 0.5273582407407408 2 0.6400329687499999 0.8180375 2 0.9859110416666667 0.4053819444444445 2 0.70634921875 0.5505833333333333 0 0.7037036979166666 0.6496268518518518 0 0.70634921875 0.7024499999999999 0 0.7989418229166667 0.6007653703703704 0 0.9047619270833334 0.5479422222222222 0 0.9047619270833334 0.6509474074074073 0 0.98015875 0.39739620370370365 0 0.98015875 0.49908074074074077 0 0.98015875 0.5479422222222222 0 0.9761904687499999 0.6509474074074073 0 0.98015875 0.6998087962962962 0 0.9761904687499999 0.8014934259259258 0 0.4973246354166666 0.4740993518518518 2 0.7400675520833333 0.4766275925925926 2'\n",
    "strowanie.split()"
   ],
   "metadata": {
    "collapsed": false
   },
   "id": "a905fb653b29aac5",
   "outputs": [],
   "execution_count": null
  }
 ],
 "metadata": {
  "kernelspec": {
   "display_name": "Python 3",
   "language": "python",
   "name": "python3"
  },
  "language_info": {
   "codemirror_mode": {
    "name": "ipython",
    "version": 2
   },
   "file_extension": ".py",
   "mimetype": "text/x-python",
   "name": "python",
   "nbconvert_exporter": "python",
   "pygments_lexer": "ipython2",
   "version": "2.7.6"
  }
 },
 "nbformat": 4,
 "nbformat_minor": 5
}
