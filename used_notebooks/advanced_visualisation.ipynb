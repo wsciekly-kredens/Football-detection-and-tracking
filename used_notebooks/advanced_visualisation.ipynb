{
 "cells": [
  {
   "cell_type": "code",
   "id": "initial_id",
   "metadata": {
    "collapsed": true,
    "ExecuteTime": {
     "end_time": "2024-11-30T15:14:00.850985Z",
     "start_time": "2024-11-30T15:13:58.824458Z"
    }
   },
   "source": [
    "import json\n",
    "import pandas as pd\n",
    "from mplsoccer import Pitch\n",
    "from radar import Radar\n",
    "import matplotlib.pyplot as plt\n",
    "import cv2\n",
    "import numpy as np"
   ],
   "outputs": [],
   "execution_count": 1
  },
  {
   "cell_type": "code",
   "source": [
    "detections = {'frame_id': [], 'bbox': [], 'confidence': [], 'class_id': []}\n",
    "with open('detections.json', 'r') as f:\n",
    "    data = json.load(f)\n",
    "\n",
    "for frame in data:\n",
    "    detections['frame_id'].append(frame['frame_id'])\n",
    "    detections['bbox'].append(frame['bbox'])\n",
    "    detections['confidence'].append(frame['confidence'])\n",
    "    detections['class_id'].append(frame['class_id'])"
   ],
   "metadata": {
    "collapsed": false,
    "ExecuteTime": {
     "end_time": "2024-11-30T15:14:03.735555Z",
     "start_time": "2024-11-30T15:14:03.691556Z"
    }
   },
   "id": "3416c7325f14e4ba",
   "outputs": [],
   "execution_count": 2
  },
  {
   "cell_type": "code",
   "source": [
    "with open('keypoints.json', 'r') as f:\n",
    "    keypoints_data = json.load(f)"
   ],
   "metadata": {
    "collapsed": false,
    "ExecuteTime": {
     "end_time": "2024-11-30T15:14:07.995500Z",
     "start_time": "2024-11-30T15:14:07.969498Z"
    }
   },
   "id": "d3ed2e5262cfa7ac",
   "outputs": [],
   "execution_count": 3
  },
  {
   "cell_type": "code",
   "source": [
    "keypoints = {'frame_id': [], 'keypoints': []}\n",
    "for frame in keypoints_data:\n",
    "    keypoints['frame_id'].append(frame['frame_id'])\n",
    "    keypoints['keypoints'].append(frame['keypoints']) "
   ],
   "metadata": {
    "collapsed": false,
    "ExecuteTime": {
     "end_time": "2024-11-30T15:14:09.984385Z",
     "start_time": "2024-11-30T15:14:09.980385Z"
    }
   },
   "id": "2402c46f4653df87",
   "outputs": [],
   "execution_count": 4
  },
  {
   "cell_type": "code",
   "source": [
    "player_positions: pd.DataFrame = pd.read_csv('positions_valid_021.csv')"
   ],
   "metadata": {
    "collapsed": false,
    "ExecuteTime": {
     "end_time": "2024-11-30T15:14:12.522045Z",
     "start_time": "2024-11-30T15:14:12.503982Z"
    }
   },
   "id": "2edb5918b3517579",
   "outputs": [],
   "execution_count": 5
  },
  {
   "cell_type": "code",
   "source": [
    "player_positions"
   ],
   "metadata": {
    "collapsed": false,
    "ExecuteTime": {
     "end_time": "2024-11-30T15:14:14.171603Z",
     "start_time": "2024-11-30T15:14:14.162548Z"
    }
   },
   "id": "3d98e102cdabac20",
   "outputs": [
    {
     "data": {
      "text/plain": [
       "       frame  track_id          x          y  team\n",
       "0          1         1  28.666695   8.431301     0\n",
       "1          1         2  54.177563  10.422185     1\n",
       "2          1         3  34.421994  37.107522     0\n",
       "3          1         4  73.594478  34.074165     1\n",
       "4          1         5  72.897025  41.929613     1\n",
       "...      ...       ...        ...        ...   ...\n",
       "11604    750       186  64.636321  40.563977     0\n",
       "11605    750       250  52.851868   4.986941     0\n",
       "11606    750       187  87.517303  47.956335     0\n",
       "11607    750       192  23.664182  18.029772     0\n",
       "11608    750       210  43.839877  61.468863     1\n",
       "\n",
       "[11609 rows x 5 columns]"
      ],
      "text/html": [
       "<div>\n",
       "<style scoped>\n",
       "    .dataframe tbody tr th:only-of-type {\n",
       "        vertical-align: middle;\n",
       "    }\n",
       "\n",
       "    .dataframe tbody tr th {\n",
       "        vertical-align: top;\n",
       "    }\n",
       "\n",
       "    .dataframe thead th {\n",
       "        text-align: right;\n",
       "    }\n",
       "</style>\n",
       "<table border=\"1\" class=\"dataframe\">\n",
       "  <thead>\n",
       "    <tr style=\"text-align: right;\">\n",
       "      <th></th>\n",
       "      <th>frame</th>\n",
       "      <th>track_id</th>\n",
       "      <th>x</th>\n",
       "      <th>y</th>\n",
       "      <th>team</th>\n",
       "    </tr>\n",
       "  </thead>\n",
       "  <tbody>\n",
       "    <tr>\n",
       "      <th>0</th>\n",
       "      <td>1</td>\n",
       "      <td>1</td>\n",
       "      <td>28.666695</td>\n",
       "      <td>8.431301</td>\n",
       "      <td>0</td>\n",
       "    </tr>\n",
       "    <tr>\n",
       "      <th>1</th>\n",
       "      <td>1</td>\n",
       "      <td>2</td>\n",
       "      <td>54.177563</td>\n",
       "      <td>10.422185</td>\n",
       "      <td>1</td>\n",
       "    </tr>\n",
       "    <tr>\n",
       "      <th>2</th>\n",
       "      <td>1</td>\n",
       "      <td>3</td>\n",
       "      <td>34.421994</td>\n",
       "      <td>37.107522</td>\n",
       "      <td>0</td>\n",
       "    </tr>\n",
       "    <tr>\n",
       "      <th>3</th>\n",
       "      <td>1</td>\n",
       "      <td>4</td>\n",
       "      <td>73.594478</td>\n",
       "      <td>34.074165</td>\n",
       "      <td>1</td>\n",
       "    </tr>\n",
       "    <tr>\n",
       "      <th>4</th>\n",
       "      <td>1</td>\n",
       "      <td>5</td>\n",
       "      <td>72.897025</td>\n",
       "      <td>41.929613</td>\n",
       "      <td>1</td>\n",
       "    </tr>\n",
       "    <tr>\n",
       "      <th>...</th>\n",
       "      <td>...</td>\n",
       "      <td>...</td>\n",
       "      <td>...</td>\n",
       "      <td>...</td>\n",
       "      <td>...</td>\n",
       "    </tr>\n",
       "    <tr>\n",
       "      <th>11604</th>\n",
       "      <td>750</td>\n",
       "      <td>186</td>\n",
       "      <td>64.636321</td>\n",
       "      <td>40.563977</td>\n",
       "      <td>0</td>\n",
       "    </tr>\n",
       "    <tr>\n",
       "      <th>11605</th>\n",
       "      <td>750</td>\n",
       "      <td>250</td>\n",
       "      <td>52.851868</td>\n",
       "      <td>4.986941</td>\n",
       "      <td>0</td>\n",
       "    </tr>\n",
       "    <tr>\n",
       "      <th>11606</th>\n",
       "      <td>750</td>\n",
       "      <td>187</td>\n",
       "      <td>87.517303</td>\n",
       "      <td>47.956335</td>\n",
       "      <td>0</td>\n",
       "    </tr>\n",
       "    <tr>\n",
       "      <th>11607</th>\n",
       "      <td>750</td>\n",
       "      <td>192</td>\n",
       "      <td>23.664182</td>\n",
       "      <td>18.029772</td>\n",
       "      <td>0</td>\n",
       "    </tr>\n",
       "    <tr>\n",
       "      <th>11608</th>\n",
       "      <td>750</td>\n",
       "      <td>210</td>\n",
       "      <td>43.839877</td>\n",
       "      <td>61.468863</td>\n",
       "      <td>1</td>\n",
       "    </tr>\n",
       "  </tbody>\n",
       "</table>\n",
       "<p>11609 rows × 5 columns</p>\n",
       "</div>"
      ]
     },
     "execution_count": 6,
     "metadata": {},
     "output_type": "execute_result"
    }
   ],
   "execution_count": 6
  },
  {
   "cell_type": "code",
   "source": [
    "detections['class_id'][1]"
   ],
   "metadata": {
    "collapsed": false,
    "ExecuteTime": {
     "end_time": "2024-11-30T15:14:26.162005Z",
     "start_time": "2024-11-30T15:14:26.158318Z"
    }
   },
   "id": "fda360796d11c21c",
   "outputs": [
    {
     "data": {
      "text/plain": [
       "[0, 0, 0, 0, 0, 3, 0, 0, 0, 0, 0, 0, 0, 0, 3, 0, 0]"
      ]
     },
     "execution_count": 7,
     "metadata": {},
     "output_type": "execute_result"
    }
   ],
   "execution_count": 7
  },
  {
   "cell_type": "code",
   "source": [
    "frame_mask = [True if x == 0 else False for x in detections['class_id'][1]]"
   ],
   "metadata": {
    "collapsed": false,
    "ExecuteTime": {
     "end_time": "2024-11-30T15:14:28.259137Z",
     "start_time": "2024-11-30T15:14:28.256760Z"
    }
   },
   "id": "e6edc17a4ef9e5d4",
   "outputs": [],
   "execution_count": 8
  },
  {
   "cell_type": "code",
   "source": [
    "frame_mask"
   ],
   "metadata": {
    "collapsed": false,
    "ExecuteTime": {
     "end_time": "2024-11-30T15:14:30.059507Z",
     "start_time": "2024-11-30T15:14:30.055680Z"
    }
   },
   "id": "bee570f358f9aac0",
   "outputs": [
    {
     "data": {
      "text/plain": [
       "[True,\n",
       " True,\n",
       " True,\n",
       " True,\n",
       " True,\n",
       " False,\n",
       " True,\n",
       " True,\n",
       " True,\n",
       " True,\n",
       " True,\n",
       " True,\n",
       " True,\n",
       " True,\n",
       " False,\n",
       " True,\n",
       " True]"
      ]
     },
     "execution_count": 9,
     "metadata": {},
     "output_type": "execute_result"
    }
   ],
   "execution_count": 9
  },
  {
   "cell_type": "code",
   "execution_count": 49,
   "outputs": [],
   "source": [
    "player_positions_first_frame = player_positions[player_positions['frame'] == 2]"
   ],
   "metadata": {
    "collapsed": false,
    "ExecuteTime": {
     "end_time": "2024-11-25T07:51:43.177451Z",
     "start_time": "2024-11-25T07:51:43.145735Z"
    }
   },
   "id": "92d8eb49ade998be"
  },
  {
   "cell_type": "code",
   "execution_count": 40,
   "outputs": [
    {
     "data": {
      "text/plain": "    frame  track_id          x          y  team\n17      2         1  28.393654   8.519980     0\n18      2         2  54.194970  10.355383     1\n19      2         3  34.040185  37.347190     0\n20      2         4  73.909428  33.926558     1\n21      2         5  73.345672  41.892614     1\n22      2         7  65.009710  14.654892     1\n23      2         6  45.952678  23.574324     0\n24      2        10  53.462393   0.316886     1\n25      2         8  26.172024  27.158103     0\n26      2         9  36.839993  53.805182     0\n27      2        11   9.208623  53.382854     0\n28      2        12  52.109619  46.851829     0\n29      2        13  80.820519  58.410168     1\n30      2        14  52.709565  34.001497     1\n31      2        15  14.492011  69.257911     1\n32      2        16  52.137162  35.768354     1\n33      2        17  53.228476  66.917609     1",
      "text/html": "<div>\n<style scoped>\n    .dataframe tbody tr th:only-of-type {\n        vertical-align: middle;\n    }\n\n    .dataframe tbody tr th {\n        vertical-align: top;\n    }\n\n    .dataframe thead th {\n        text-align: right;\n    }\n</style>\n<table border=\"1\" class=\"dataframe\">\n  <thead>\n    <tr style=\"text-align: right;\">\n      <th></th>\n      <th>frame</th>\n      <th>track_id</th>\n      <th>x</th>\n      <th>y</th>\n      <th>team</th>\n    </tr>\n  </thead>\n  <tbody>\n    <tr>\n      <th>17</th>\n      <td>2</td>\n      <td>1</td>\n      <td>28.393654</td>\n      <td>8.519980</td>\n      <td>0</td>\n    </tr>\n    <tr>\n      <th>18</th>\n      <td>2</td>\n      <td>2</td>\n      <td>54.194970</td>\n      <td>10.355383</td>\n      <td>1</td>\n    </tr>\n    <tr>\n      <th>19</th>\n      <td>2</td>\n      <td>3</td>\n      <td>34.040185</td>\n      <td>37.347190</td>\n      <td>0</td>\n    </tr>\n    <tr>\n      <th>20</th>\n      <td>2</td>\n      <td>4</td>\n      <td>73.909428</td>\n      <td>33.926558</td>\n      <td>1</td>\n    </tr>\n    <tr>\n      <th>21</th>\n      <td>2</td>\n      <td>5</td>\n      <td>73.345672</td>\n      <td>41.892614</td>\n      <td>1</td>\n    </tr>\n    <tr>\n      <th>22</th>\n      <td>2</td>\n      <td>7</td>\n      <td>65.009710</td>\n      <td>14.654892</td>\n      <td>1</td>\n    </tr>\n    <tr>\n      <th>23</th>\n      <td>2</td>\n      <td>6</td>\n      <td>45.952678</td>\n      <td>23.574324</td>\n      <td>0</td>\n    </tr>\n    <tr>\n      <th>24</th>\n      <td>2</td>\n      <td>10</td>\n      <td>53.462393</td>\n      <td>0.316886</td>\n      <td>1</td>\n    </tr>\n    <tr>\n      <th>25</th>\n      <td>2</td>\n      <td>8</td>\n      <td>26.172024</td>\n      <td>27.158103</td>\n      <td>0</td>\n    </tr>\n    <tr>\n      <th>26</th>\n      <td>2</td>\n      <td>9</td>\n      <td>36.839993</td>\n      <td>53.805182</td>\n      <td>0</td>\n    </tr>\n    <tr>\n      <th>27</th>\n      <td>2</td>\n      <td>11</td>\n      <td>9.208623</td>\n      <td>53.382854</td>\n      <td>0</td>\n    </tr>\n    <tr>\n      <th>28</th>\n      <td>2</td>\n      <td>12</td>\n      <td>52.109619</td>\n      <td>46.851829</td>\n      <td>0</td>\n    </tr>\n    <tr>\n      <th>29</th>\n      <td>2</td>\n      <td>13</td>\n      <td>80.820519</td>\n      <td>58.410168</td>\n      <td>1</td>\n    </tr>\n    <tr>\n      <th>30</th>\n      <td>2</td>\n      <td>14</td>\n      <td>52.709565</td>\n      <td>34.001497</td>\n      <td>1</td>\n    </tr>\n    <tr>\n      <th>31</th>\n      <td>2</td>\n      <td>15</td>\n      <td>14.492011</td>\n      <td>69.257911</td>\n      <td>1</td>\n    </tr>\n    <tr>\n      <th>32</th>\n      <td>2</td>\n      <td>16</td>\n      <td>52.137162</td>\n      <td>35.768354</td>\n      <td>1</td>\n    </tr>\n    <tr>\n      <th>33</th>\n      <td>2</td>\n      <td>17</td>\n      <td>53.228476</td>\n      <td>66.917609</td>\n      <td>1</td>\n    </tr>\n  </tbody>\n</table>\n</div>"
     },
     "execution_count": 40,
     "metadata": {},
     "output_type": "execute_result"
    }
   ],
   "source": [
    "player_positions_first_frame"
   ],
   "metadata": {
    "collapsed": false,
    "ExecuteTime": {
     "end_time": "2024-11-23T14:44:56.818939500Z",
     "start_time": "2024-11-23T14:44:56.775131300Z"
    }
   },
   "id": "43a1821be05980c5"
  },
  {
   "cell_type": "code",
   "execution_count": 50,
   "outputs": [],
   "source": [
    "player_positions_first_frame_masked = player_positions_first_frame[frame_mask]"
   ],
   "metadata": {
    "collapsed": false,
    "ExecuteTime": {
     "end_time": "2024-11-25T07:51:46.281841800Z",
     "start_time": "2024-11-25T07:51:46.219260400Z"
    }
   },
   "id": "37db9fd424919d7"
  },
  {
   "cell_type": "code",
   "execution_count": 42,
   "outputs": [
    {
     "data": {
      "text/plain": "    frame  track_id          x          y  team\n17      2         1  28.393654   8.519980     0\n18      2         2  54.194970  10.355383     1\n19      2         3  34.040185  37.347190     0\n20      2         4  73.909428  33.926558     1\n21      2         5  73.345672  41.892614     1\n23      2         6  45.952678  23.574324     0\n24      2        10  53.462393   0.316886     1\n25      2         8  26.172024  27.158103     0\n26      2         9  36.839993  53.805182     0\n27      2        11   9.208623  53.382854     0\n28      2        12  52.109619  46.851829     0\n29      2        13  80.820519  58.410168     1\n30      2        14  52.709565  34.001497     1\n32      2        16  52.137162  35.768354     1\n33      2        17  53.228476  66.917609     1",
      "text/html": "<div>\n<style scoped>\n    .dataframe tbody tr th:only-of-type {\n        vertical-align: middle;\n    }\n\n    .dataframe tbody tr th {\n        vertical-align: top;\n    }\n\n    .dataframe thead th {\n        text-align: right;\n    }\n</style>\n<table border=\"1\" class=\"dataframe\">\n  <thead>\n    <tr style=\"text-align: right;\">\n      <th></th>\n      <th>frame</th>\n      <th>track_id</th>\n      <th>x</th>\n      <th>y</th>\n      <th>team</th>\n    </tr>\n  </thead>\n  <tbody>\n    <tr>\n      <th>17</th>\n      <td>2</td>\n      <td>1</td>\n      <td>28.393654</td>\n      <td>8.519980</td>\n      <td>0</td>\n    </tr>\n    <tr>\n      <th>18</th>\n      <td>2</td>\n      <td>2</td>\n      <td>54.194970</td>\n      <td>10.355383</td>\n      <td>1</td>\n    </tr>\n    <tr>\n      <th>19</th>\n      <td>2</td>\n      <td>3</td>\n      <td>34.040185</td>\n      <td>37.347190</td>\n      <td>0</td>\n    </tr>\n    <tr>\n      <th>20</th>\n      <td>2</td>\n      <td>4</td>\n      <td>73.909428</td>\n      <td>33.926558</td>\n      <td>1</td>\n    </tr>\n    <tr>\n      <th>21</th>\n      <td>2</td>\n      <td>5</td>\n      <td>73.345672</td>\n      <td>41.892614</td>\n      <td>1</td>\n    </tr>\n    <tr>\n      <th>23</th>\n      <td>2</td>\n      <td>6</td>\n      <td>45.952678</td>\n      <td>23.574324</td>\n      <td>0</td>\n    </tr>\n    <tr>\n      <th>24</th>\n      <td>2</td>\n      <td>10</td>\n      <td>53.462393</td>\n      <td>0.316886</td>\n      <td>1</td>\n    </tr>\n    <tr>\n      <th>25</th>\n      <td>2</td>\n      <td>8</td>\n      <td>26.172024</td>\n      <td>27.158103</td>\n      <td>0</td>\n    </tr>\n    <tr>\n      <th>26</th>\n      <td>2</td>\n      <td>9</td>\n      <td>36.839993</td>\n      <td>53.805182</td>\n      <td>0</td>\n    </tr>\n    <tr>\n      <th>27</th>\n      <td>2</td>\n      <td>11</td>\n      <td>9.208623</td>\n      <td>53.382854</td>\n      <td>0</td>\n    </tr>\n    <tr>\n      <th>28</th>\n      <td>2</td>\n      <td>12</td>\n      <td>52.109619</td>\n      <td>46.851829</td>\n      <td>0</td>\n    </tr>\n    <tr>\n      <th>29</th>\n      <td>2</td>\n      <td>13</td>\n      <td>80.820519</td>\n      <td>58.410168</td>\n      <td>1</td>\n    </tr>\n    <tr>\n      <th>30</th>\n      <td>2</td>\n      <td>14</td>\n      <td>52.709565</td>\n      <td>34.001497</td>\n      <td>1</td>\n    </tr>\n    <tr>\n      <th>32</th>\n      <td>2</td>\n      <td>16</td>\n      <td>52.137162</td>\n      <td>35.768354</td>\n      <td>1</td>\n    </tr>\n    <tr>\n      <th>33</th>\n      <td>2</td>\n      <td>17</td>\n      <td>53.228476</td>\n      <td>66.917609</td>\n      <td>1</td>\n    </tr>\n  </tbody>\n</table>\n</div>"
     },
     "execution_count": 42,
     "metadata": {},
     "output_type": "execute_result"
    }
   ],
   "source": [
    "player_positions_first_frame_masked"
   ],
   "metadata": {
    "collapsed": false,
    "ExecuteTime": {
     "end_time": "2024-11-23T14:45:02.449258900Z",
     "start_time": "2024-11-23T14:45:02.398884300Z"
    }
   },
   "id": "d5ae496cf2b92435"
  },
  {
   "cell_type": "code",
   "execution_count": 51,
   "outputs": [
    {
     "data": {
      "text/plain": "<Figure size 800x800 with 0 Axes>"
     },
     "metadata": {},
     "output_type": "display_data"
    },
    {
     "data": {
      "text/plain": "<Figure size 640x480 with 1 Axes>",
      "image/png": "[encoded data removed]"
     },
     "metadata": {},
     "output_type": "display_data"
    }
   ],
   "source": [
    "plt.figure(figsize=(8, 8))\n",
    "pitch = Pitch(pitch_type='custom', pitch_length=105, pitch_width=68)\n",
    "fig, ax = pitch.draw()\n",
    "fig.patch.set_alpha(0)\n",
    "ax.set_facecolor((0,0,0,0))\n",
    "df = player_positions_first_frame_masked\n",
    "pitch_plot = pitch.scatter(df.x, df.y, ax=ax, c=df.team, marker='o', edgecolors='black')\n",
    "plt.show()"
   ],
   "metadata": {
    "collapsed": false,
    "ExecuteTime": {
     "end_time": "2024-11-25T07:51:48.972807300Z",
     "start_time": "2024-11-25T07:51:48.631714800Z"
    }
   },
   "id": "8a8c4738f6ad5940"
  },
  {
   "cell_type": "code",
   "execution_count": 52,
   "outputs": [],
   "source": [
    "fig.canvas.draw()\n",
    "w,h = fig.canvas.get_width_height()\n",
    "img = np.frombuffer(fig.canvas.tostring_argb(), dtype=np.uint8)\n",
    "img = img.reshape(h, w, 4)\n",
    "img = np.roll(img, -1, axis=2)"
   ],
   "metadata": {
    "collapsed": false,
    "ExecuteTime": {
     "end_time": "2024-11-25T07:51:51.275186Z",
     "start_time": "2024-11-25T07:51:51.157695500Z"
    }
   },
   "id": "a1221e44612eb70c"
  },
  {
   "cell_type": "code",
   "execution_count": 53,
   "outputs": [],
   "source": [
    "first_frame = cv2.imread('data/SoccerNetGS/gamestate-2024/valid/SNGS-021/img1/000001.jpg')\n",
    "frame_height, frame_width, _ = first_frame.shape"
   ],
   "metadata": {
    "collapsed": false,
    "ExecuteTime": {
     "end_time": "2024-11-25T07:51:53.827911600Z",
     "start_time": "2024-11-25T07:51:53.751124500Z"
    }
   },
   "id": "121749df1cbddabd"
  },
  {
   "cell_type": "code",
   "execution_count": 71,
   "outputs": [
    {
     "data": {
      "text/plain": "(1080, 1920)"
     },
     "execution_count": 71,
     "metadata": {},
     "output_type": "execute_result"
    }
   ],
   "source": [
    "frame_height, frame_width"
   ],
   "metadata": {
    "collapsed": false,
    "ExecuteTime": {
     "end_time": "2024-11-23T19:24:03.858984500Z",
     "start_time": "2024-11-23T19:24:03.827515Z"
    }
   },
   "id": "23f49f99e02dbaf"
  },
  {
   "cell_type": "code",
   "execution_count": 54,
   "outputs": [],
   "source": [
    "# overlay_resized = cv2.resize(img, (frame_width // 3, frame_height // 3))\n",
    "# overlay_height, overlay_width, _ = overlay_resized.shape\n",
    "# \n",
    "# frame_with_overlay = first_frame.copy()\n",
    "# \n",
    "# start_y = frame_height - overlay_height\n",
    "# start_x = (frame_width - overlay_width) // 2 \n",
    "# end_y = frame_height\n",
    "# end_x = start_x + overlay_width\n",
    "# \n",
    "# pitch_alpha = overlay_resized[..., 3] / 255.0\n",
    "# for c in range(3):\n",
    "#     frame_with_overlay[start_y:end_y, start_x:end_x, c] = (\n",
    "#         pitch_alpha * overlay_resized[..., c] +\n",
    "#         (1 - pitch_alpha) * frame_with_overlay[start_y:end_y, start_x:end_x, c]\n",
    "# )\n",
    "# cv2.imshow('Frame with Pitch', frame_with_overlay)\n",
    "# cv2.waitKey(0)\n",
    "# cv2.destroyAllWindows()\n"
   ],
   "metadata": {
    "collapsed": false,
    "ExecuteTime": {
     "end_time": "2024-11-25T07:52:02.590364600Z",
     "start_time": "2024-11-25T07:51:55.727366600Z"
    }
   },
   "id": "cf5189eff756488"
  },
  {
   "cell_type": "code",
   "execution_count": 126,
   "outputs": [
    {
     "data": {
      "text/plain": "True"
     },
     "execution_count": 126,
     "metadata": {},
     "output_type": "execute_result"
    }
   ],
   "source": [
    "# overlay_bgr = overlay_resized[..., :3]  \n",
    "# overlay_alpha = overlay_resized[..., 3] / 255.0  \n",
    "# \n",
    "# start_y = frame_with_overlay.shape[0] - overlay_bgr.shape[0]\n",
    "# start_x = (frame_with_overlay.shape[1] - overlay_bgr.shape[1]) // 2\n",
    "# \n",
    "# end_y = start_y + overlay_bgr.shape[0]\n",
    "# end_x = start_x + overlay_bgr.shape[1]\n",
    "# \n",
    "# for c in range(3):\n",
    "#     frame_with_overlay[start_y:end_y, start_x:end_x, c] = (\n",
    "#         overlay_alpha * overlay_bgr[..., c] + \n",
    "#         (1 - overlay_alpha) * frame_with_overlay[start_y:end_y, start_x:end_x, c]\n",
    "#     ).astype(np.uint8)\n",
    "# \n",
    "# cv2.imshow('Frame with Pitch', frame_with_overlay)\n",
    "# cv2.waitKey(0)\n",
    "# cv2.destroyAllWindows()\n",
    "# \n",
    "# cv2.imwrite('frame_with_radar.jpg', frame_with_overlay)\n"
   ],
   "metadata": {
    "collapsed": false,
    "ExecuteTime": {
     "end_time": "2024-11-24T14:07:24.457079700Z",
     "start_time": "2024-11-24T14:07:19.878212700Z"
    }
   },
   "id": "ae3e8410dde5d65f"
  },
  {
   "cell_type": "code",
   "execution_count": 128,
   "outputs": [
    {
     "data": {
      "text/plain": "      frame  track_id          x         y  team\n0         1         1  28.666695  8.431301     0\n17        2         1  28.393654  8.519980     0\n34        3         1  28.598199  8.436447     0\n51        4         1  28.680965  8.406194     0\n68        5         1  28.511615  8.575993     0\n...     ...       ...        ...       ...   ...\n2865    169         1  28.636950  6.162529     0\n2881    170         1  28.351227  6.216261     0\n2898    171         1  27.973599  6.221111     0\n2914    172         1  27.418526  8.147218     0\n2930    173         1  28.059444  5.908674     0\n\n[173 rows x 5 columns]",
      "text/html": "<div>\n<style scoped>\n    .dataframe tbody tr th:only-of-type {\n        vertical-align: middle;\n    }\n\n    .dataframe tbody tr th {\n        vertical-align: top;\n    }\n\n    .dataframe thead th {\n        text-align: right;\n    }\n</style>\n<table border=\"1\" class=\"dataframe\">\n  <thead>\n    <tr style=\"text-align: right;\">\n      <th></th>\n      <th>frame</th>\n      <th>track_id</th>\n      <th>x</th>\n      <th>y</th>\n      <th>team</th>\n    </tr>\n  </thead>\n  <tbody>\n    <tr>\n      <th>0</th>\n      <td>1</td>\n      <td>1</td>\n      <td>28.666695</td>\n      <td>8.431301</td>\n      <td>0</td>\n    </tr>\n    <tr>\n      <th>17</th>\n      <td>2</td>\n      <td>1</td>\n      <td>28.393654</td>\n      <td>8.519980</td>\n      <td>0</td>\n    </tr>\n    <tr>\n      <th>34</th>\n      <td>3</td>\n      <td>1</td>\n      <td>28.598199</td>\n      <td>8.436447</td>\n      <td>0</td>\n    </tr>\n    <tr>\n      <th>51</th>\n      <td>4</td>\n      <td>1</td>\n      <td>28.680965</td>\n      <td>8.406194</td>\n      <td>0</td>\n    </tr>\n    <tr>\n      <th>68</th>\n      <td>5</td>\n      <td>1</td>\n      <td>28.511615</td>\n      <td>8.575993</td>\n      <td>0</td>\n    </tr>\n    <tr>\n      <th>...</th>\n      <td>...</td>\n      <td>...</td>\n      <td>...</td>\n      <td>...</td>\n      <td>...</td>\n    </tr>\n    <tr>\n      <th>2865</th>\n      <td>169</td>\n      <td>1</td>\n      <td>28.636950</td>\n      <td>6.162529</td>\n      <td>0</td>\n    </tr>\n    <tr>\n      <th>2881</th>\n      <td>170</td>\n      <td>1</td>\n      <td>28.351227</td>\n      <td>6.216261</td>\n      <td>0</td>\n    </tr>\n    <tr>\n      <th>2898</th>\n      <td>171</td>\n      <td>1</td>\n      <td>27.973599</td>\n      <td>6.221111</td>\n      <td>0</td>\n    </tr>\n    <tr>\n      <th>2914</th>\n      <td>172</td>\n      <td>1</td>\n      <td>27.418526</td>\n      <td>8.147218</td>\n      <td>0</td>\n    </tr>\n    <tr>\n      <th>2930</th>\n      <td>173</td>\n      <td>1</td>\n      <td>28.059444</td>\n      <td>5.908674</td>\n      <td>0</td>\n    </tr>\n  </tbody>\n</table>\n<p>173 rows × 5 columns</p>\n</div>"
     },
     "execution_count": 128,
     "metadata": {},
     "output_type": "execute_result"
    }
   ],
   "source": [
    "player_positions[player_positions['track_id'] == 1]"
   ],
   "metadata": {
    "collapsed": false,
    "ExecuteTime": {
     "end_time": "2024-11-24T14:19:10.639652200Z",
     "start_time": "2024-11-24T14:19:10.598520300Z"
    }
   },
   "id": "763f16a029be8d01"
  },
  {
   "cell_type": "code",
   "source": [
    "radar = Radar(player_positions)\n",
    "position_smoothed = radar.apply_savgol_filter()"
   ],
   "metadata": {
    "collapsed": false,
    "ExecuteTime": {
     "end_time": "2024-11-30T15:15:37.687445Z",
     "start_time": "2024-11-30T15:15:37.609694Z"
    }
   },
   "id": "6e8feb263818f37c",
   "outputs": [],
   "execution_count": 10
  },
  {
   "cell_type": "code",
   "source": [
    "position_n_frames = position_smoothed[position_smoothed['frame'] < 400]"
   ],
   "metadata": {
    "collapsed": false,
    "ExecuteTime": {
     "end_time": "2024-11-30T15:15:40.165656Z",
     "start_time": "2024-11-30T15:15:40.162637Z"
    }
   },
   "id": "cbfb9356fc4ae894",
   "outputs": [],
   "execution_count": 11
  },
  {
   "cell_type": "code",
   "execution_count": 9,
   "outputs": [
    {
     "data": {
      "text/plain": "      frame  track_id          x          y  team   x_smooth   y_smooth\n0         1         1  28.666695   8.431301     0  28.587025   8.469652\n1         1         2  54.177563  10.422185     1  54.197634  10.404359\n2         1         3  34.421994  37.107522     0  34.336429  37.171694\n3         1         4  73.594478  34.074165     1  73.728749  34.012742\n4         1         5  72.897025  41.929613     1  73.042742  41.903894\n...     ...       ...        ...        ...   ...        ...        ...\n5946    399       188  56.448615  67.321622     1  56.881583  67.481254\n5947    399       210  -2.486861  38.934514     1  -2.459600  39.252872\n5948    399       116  28.757776  12.993643     0  28.777334  13.116426\n5949    399       238  29.245783  -0.415881     1  29.245783  -0.415881\n5950    399       242  44.827543  80.534960     1  44.827543  80.534960\n\n[5951 rows x 7 columns]",
      "text/html": "<div>\n<style scoped>\n    .dataframe tbody tr th:only-of-type {\n        vertical-align: middle;\n    }\n\n    .dataframe tbody tr th {\n        vertical-align: top;\n    }\n\n    .dataframe thead th {\n        text-align: right;\n    }\n</style>\n<table border=\"1\" class=\"dataframe\">\n  <thead>\n    <tr style=\"text-align: right;\">\n      <th></th>\n      <th>frame</th>\n      <th>track_id</th>\n      <th>x</th>\n      <th>y</th>\n      <th>team</th>\n      <th>x_smooth</th>\n      <th>y_smooth</th>\n    </tr>\n  </thead>\n  <tbody>\n    <tr>\n      <th>0</th>\n      <td>1</td>\n      <td>1</td>\n      <td>28.666695</td>\n      <td>8.431301</td>\n      <td>0</td>\n      <td>28.587025</td>\n      <td>8.469652</td>\n    </tr>\n    <tr>\n      <th>1</th>\n      <td>1</td>\n      <td>2</td>\n      <td>54.177563</td>\n      <td>10.422185</td>\n      <td>1</td>\n      <td>54.197634</td>\n      <td>10.404359</td>\n    </tr>\n    <tr>\n      <th>2</th>\n      <td>1</td>\n      <td>3</td>\n      <td>34.421994</td>\n      <td>37.107522</td>\n      <td>0</td>\n      <td>34.336429</td>\n      <td>37.171694</td>\n    </tr>\n    <tr>\n      <th>3</th>\n      <td>1</td>\n      <td>4</td>\n      <td>73.594478</td>\n      <td>34.074165</td>\n      <td>1</td>\n      <td>73.728749</td>\n      <td>34.012742</td>\n    </tr>\n    <tr>\n      <th>4</th>\n      <td>1</td>\n      <td>5</td>\n      <td>72.897025</td>\n      <td>41.929613</td>\n      <td>1</td>\n      <td>73.042742</td>\n      <td>41.903894</td>\n    </tr>\n    <tr>\n      <th>...</th>\n      <td>...</td>\n      <td>...</td>\n      <td>...</td>\n      <td>...</td>\n      <td>...</td>\n      <td>...</td>\n      <td>...</td>\n    </tr>\n    <tr>\n      <th>5946</th>\n      <td>399</td>\n      <td>188</td>\n      <td>56.448615</td>\n      <td>67.321622</td>\n      <td>1</td>\n      <td>56.881583</td>\n      <td>67.481254</td>\n    </tr>\n    <tr>\n      <th>5947</th>\n      <td>399</td>\n      <td>210</td>\n      <td>-2.486861</td>\n      <td>38.934514</td>\n      <td>1</td>\n      <td>-2.459600</td>\n      <td>39.252872</td>\n    </tr>\n    <tr>\n      <th>5948</th>\n      <td>399</td>\n      <td>116</td>\n      <td>28.757776</td>\n      <td>12.993643</td>\n      <td>0</td>\n      <td>28.777334</td>\n      <td>13.116426</td>\n    </tr>\n    <tr>\n      <th>5949</th>\n      <td>399</td>\n      <td>238</td>\n      <td>29.245783</td>\n      <td>-0.415881</td>\n      <td>1</td>\n      <td>29.245783</td>\n      <td>-0.415881</td>\n    </tr>\n    <tr>\n      <th>5950</th>\n      <td>399</td>\n      <td>242</td>\n      <td>44.827543</td>\n      <td>80.534960</td>\n      <td>1</td>\n      <td>44.827543</td>\n      <td>80.534960</td>\n    </tr>\n  </tbody>\n</table>\n<p>5951 rows × 7 columns</p>\n</div>"
     },
     "execution_count": 9,
     "metadata": {},
     "output_type": "execute_result"
    }
   ],
   "source": [
    "position_n_frames"
   ],
   "metadata": {
    "collapsed": false,
    "ExecuteTime": {
     "end_time": "2024-11-24T21:05:25.596658600Z",
     "start_time": "2024-11-24T21:05:25.536925500Z"
    }
   },
   "id": "4922e9624ec48926"
  },
  {
   "cell_type": "code",
   "source": [
    "player_positions[player_positions['frame'] == 89]"
   ],
   "metadata": {
    "collapsed": false,
    "ExecuteTime": {
     "end_time": "2024-11-30T15:15:48.200837Z",
     "start_time": "2024-11-30T15:15:48.194461Z"
    }
   },
   "id": "7cdbe0101504c595",
   "outputs": [
    {
     "data": {
      "text/plain": [
       "      frame  track_id          x          y  team\n",
       "1496     89         2  55.958384  10.371977     1\n",
       "1497     89         6  49.310504  23.265478     0\n",
       "1498     89         7  68.635931  21.308240     1\n",
       "1499     89         3  38.192133  36.726503     0\n",
       "1500     89         9  42.559792  52.809503     0\n",
       "1501     89         1  31.254438   8.478437     0\n",
       "1502     89        12  55.433531  45.959543     0\n",
       "1503     89        10  55.219702   0.564571     1\n",
       "1504     89        11  14.690541  52.401479     0\n",
       "1505     89         8  32.362469  26.410581     0\n",
       "1506     89         5  75.593005  41.002168     1\n",
       "1507     89        13  78.940115  57.181151     1\n",
       "1508     89        14  55.963277  33.435943     1\n",
       "1509     89         4  74.574880  32.500680     1\n",
       "1510     89        17  57.692516  64.851243     1\n",
       "1511     89        16  55.289279  35.362360     1\n",
       "1512     89        15  19.963743  67.605429     1"
      ],
      "text/html": [
       "<div>\n",
       "<style scoped>\n",
       "    .dataframe tbody tr th:only-of-type {\n",
       "        vertical-align: middle;\n",
       "    }\n",
       "\n",
       "    .dataframe tbody tr th {\n",
       "        vertical-align: top;\n",
       "    }\n",
       "\n",
       "    .dataframe thead th {\n",
       "        text-align: right;\n",
       "    }\n",
       "</style>\n",
       "<table border=\"1\" class=\"dataframe\">\n",
       "  <thead>\n",
       "    <tr style=\"text-align: right;\">\n",
       "      <th></th>\n",
       "      <th>frame</th>\n",
       "      <th>track_id</th>\n",
       "      <th>x</th>\n",
       "      <th>y</th>\n",
       "      <th>team</th>\n",
       "    </tr>\n",
       "  </thead>\n",
       "  <tbody>\n",
       "    <tr>\n",
       "      <th>1496</th>\n",
       "      <td>89</td>\n",
       "      <td>2</td>\n",
       "      <td>55.958384</td>\n",
       "      <td>10.371977</td>\n",
       "      <td>1</td>\n",
       "    </tr>\n",
       "    <tr>\n",
       "      <th>1497</th>\n",
       "      <td>89</td>\n",
       "      <td>6</td>\n",
       "      <td>49.310504</td>\n",
       "      <td>23.265478</td>\n",
       "      <td>0</td>\n",
       "    </tr>\n",
       "    <tr>\n",
       "      <th>1498</th>\n",
       "      <td>89</td>\n",
       "      <td>7</td>\n",
       "      <td>68.635931</td>\n",
       "      <td>21.308240</td>\n",
       "      <td>1</td>\n",
       "    </tr>\n",
       "    <tr>\n",
       "      <th>1499</th>\n",
       "      <td>89</td>\n",
       "      <td>3</td>\n",
       "      <td>38.192133</td>\n",
       "      <td>36.726503</td>\n",
       "      <td>0</td>\n",
       "    </tr>\n",
       "    <tr>\n",
       "      <th>1500</th>\n",
       "      <td>89</td>\n",
       "      <td>9</td>\n",
       "      <td>42.559792</td>\n",
       "      <td>52.809503</td>\n",
       "      <td>0</td>\n",
       "    </tr>\n",
       "    <tr>\n",
       "      <th>1501</th>\n",
       "      <td>89</td>\n",
       "      <td>1</td>\n",
       "      <td>31.254438</td>\n",
       "      <td>8.478437</td>\n",
       "      <td>0</td>\n",
       "    </tr>\n",
       "    <tr>\n",
       "      <th>1502</th>\n",
       "      <td>89</td>\n",
       "      <td>12</td>\n",
       "      <td>55.433531</td>\n",
       "      <td>45.959543</td>\n",
       "      <td>0</td>\n",
       "    </tr>\n",
       "    <tr>\n",
       "      <th>1503</th>\n",
       "      <td>89</td>\n",
       "      <td>10</td>\n",
       "      <td>55.219702</td>\n",
       "      <td>0.564571</td>\n",
       "      <td>1</td>\n",
       "    </tr>\n",
       "    <tr>\n",
       "      <th>1504</th>\n",
       "      <td>89</td>\n",
       "      <td>11</td>\n",
       "      <td>14.690541</td>\n",
       "      <td>52.401479</td>\n",
       "      <td>0</td>\n",
       "    </tr>\n",
       "    <tr>\n",
       "      <th>1505</th>\n",
       "      <td>89</td>\n",
       "      <td>8</td>\n",
       "      <td>32.362469</td>\n",
       "      <td>26.410581</td>\n",
       "      <td>0</td>\n",
       "    </tr>\n",
       "    <tr>\n",
       "      <th>1506</th>\n",
       "      <td>89</td>\n",
       "      <td>5</td>\n",
       "      <td>75.593005</td>\n",
       "      <td>41.002168</td>\n",
       "      <td>1</td>\n",
       "    </tr>\n",
       "    <tr>\n",
       "      <th>1507</th>\n",
       "      <td>89</td>\n",
       "      <td>13</td>\n",
       "      <td>78.940115</td>\n",
       "      <td>57.181151</td>\n",
       "      <td>1</td>\n",
       "    </tr>\n",
       "    <tr>\n",
       "      <th>1508</th>\n",
       "      <td>89</td>\n",
       "      <td>14</td>\n",
       "      <td>55.963277</td>\n",
       "      <td>33.435943</td>\n",
       "      <td>1</td>\n",
       "    </tr>\n",
       "    <tr>\n",
       "      <th>1509</th>\n",
       "      <td>89</td>\n",
       "      <td>4</td>\n",
       "      <td>74.574880</td>\n",
       "      <td>32.500680</td>\n",
       "      <td>1</td>\n",
       "    </tr>\n",
       "    <tr>\n",
       "      <th>1510</th>\n",
       "      <td>89</td>\n",
       "      <td>17</td>\n",
       "      <td>57.692516</td>\n",
       "      <td>64.851243</td>\n",
       "      <td>1</td>\n",
       "    </tr>\n",
       "    <tr>\n",
       "      <th>1511</th>\n",
       "      <td>89</td>\n",
       "      <td>16</td>\n",
       "      <td>55.289279</td>\n",
       "      <td>35.362360</td>\n",
       "      <td>1</td>\n",
       "    </tr>\n",
       "    <tr>\n",
       "      <th>1512</th>\n",
       "      <td>89</td>\n",
       "      <td>15</td>\n",
       "      <td>19.963743</td>\n",
       "      <td>67.605429</td>\n",
       "      <td>1</td>\n",
       "    </tr>\n",
       "  </tbody>\n",
       "</table>\n",
       "</div>"
      ]
     },
     "execution_count": 12,
     "metadata": {},
     "output_type": "execute_result"
    }
   ],
   "execution_count": 12
  },
  {
   "cell_type": "code",
   "execution_count": 43,
   "outputs": [
    {
     "data": {
      "text/plain": "<Figure size 800x800 with 0 Axes>"
     },
     "metadata": {},
     "output_type": "display_data"
    },
    {
     "data": {
      "text/plain": "<Figure size 640x480 with 1 Axes>",
      "image/png": "[encoded data removed]"
     },
     "metadata": {},
     "output_type": "display_data"
    }
   ],
   "source": [
    "plt.figure(figsize=(8, 8))\n",
    "pitch = Pitch(pitch_type='custom', pitch_length=105, pitch_width=68)\n",
    "fig, ax = pitch.draw()\n",
    "fig.patch.set_alpha(0)\n",
    "ax.set_facecolor((0,0,0,0))\n",
    "df = player_positions[player_positions['frame'] == 400]\n",
    "track_ids = df['track_id'].unique()\n",
    "position_n_frames_filtered = position_n_frames[position_n_frames['track_id'].isin(track_ids)]\n",
    "pitch.scatter(position_n_frames_filtered.x_smooth, position_n_frames_filtered.y_smooth, ax=ax, c=position_n_frames_filtered.frame, marker='.', s=30)\n",
    "pitch_plot = pitch.scatter(df.x, df.y, ax=ax, c=df.team, marker='o', edgecolors='black', s=60)\n",
    "plt.show()"
   ],
   "metadata": {
    "collapsed": false,
    "ExecuteTime": {
     "end_time": "2024-11-25T07:48:28.736423600Z",
     "start_time": "2024-11-25T07:48:28.364544800Z"
    }
   },
   "id": "239597112957d56a"
  },
  {
   "cell_type": "code",
   "source": [
    "# add ticks for given player track id (also plot track id, maybee) and then adds tracks for last idk 60 frames so 2 secs or just specify it\n",
    "def draw_trace(df: pd.DataFrame, n_frame: int, n_frames_back: int = 30, draw: bool = True) -> tuple:\n",
    "    last_frame: int = n_frame - n_frames_back if n_frame - n_frames_back > 0 else 0\n",
    "    df_frame = df[df['frame'] == n_frame]\n",
    "    track_ids = df_frame['track_id'].unique()\n",
    "    df_range = df[df['frame'].isin(range(last_frame, n_frame+1))]\n",
    "    df_filtered = df_range[df_range['track_id'].isin(track_ids)]\n",
    "    \n",
    "    plt.figure(figsize=(8, 8))\n",
    "    pitch = Pitch(pitch_type='custom', pitch_length=105, pitch_width=68)\n",
    "    fig, ax = pitch.draw()\n",
    "    fig.patch.set_alpha(0)\n",
    "    ax.set_facecolor((0,0,0,0))\n",
    "    for track_id in track_ids:\n",
    "        df_track = df_range[df_range['track_id'] == track_id]\n",
    "        pitch.plot(df_track.x_smooth, df_track.y_smooth, ax=ax)\n",
    "    # pitch.scatter(df_filtered.x_smooth, df_filtered.y_smooth, ax=ax, c=df_filtered.frame, marker='.', s=30)\n",
    "    pitch.scatter(df_frame.x_smooth, df_frame.y_smooth, ax=ax, c=df_frame.team, marker='o', edgecolors='black', s=45)\n",
    "    if draw:\n",
    "        plt.show()\n",
    "    return fig, ax"
   ],
   "metadata": {
    "collapsed": false,
    "ExecuteTime": {
     "end_time": "2024-11-30T15:16:00.294928Z",
     "start_time": "2024-11-30T15:16:00.291367Z"
    }
   },
   "id": "48558ca4dd1e07d8",
   "outputs": [],
   "execution_count": 13
  },
  {
   "cell_type": "code",
   "source": [
    "draw_trace(position_smoothed, 339, 30)"
   ],
   "metadata": {
    "collapsed": false,
    "ExecuteTime": {
     "end_time": "2024-11-30T15:16:17.869235Z",
     "start_time": "2024-11-30T15:16:17.729324Z"
    }
   },
   "id": "2378933e5ed4eee2",
   "outputs": [
    {
     "data": {
      "text/plain": [
       "<Figure size 800x800 with 0 Axes>"
      ]
     },
     "metadata": {},
     "output_type": "display_data"
    },
    {
     "data": {
      "text/plain": [
       "<Figure size 640x480 with 1 Axes>"
      ],
      "image/png": "[encoded data removed]"
     },
     "metadata": {},
     "output_type": "display_data"
    },
    {
     "data": {
      "text/plain": [
       "(<Figure size 640x480 with 1 Axes>, <Axes: >)"
      ]
     },
     "execution_count": 14,
     "metadata": {},
     "output_type": "execute_result"
    }
   ],
   "execution_count": 14
  },
  {
   "cell_type": "code",
   "execution_count": 94,
   "outputs": [
    {
     "data": {
      "text/plain": "<Figure size 800x800 with 0 Axes>"
     },
     "metadata": {},
     "output_type": "display_data"
    },
    {
     "data": {
      "text/plain": "<Figure size 640x480 with 1 Axes>",
      "image/png": "[encoded data removed]"
     },
     "metadata": {},
     "output_type": "display_data"
    },
    {
     "data": {
      "text/plain": "(<Figure size 640x480 with 1 Axes>, <Axes: >)"
     },
     "execution_count": 94,
     "metadata": {},
     "output_type": "execute_result"
    }
   ],
   "source": [
    "draw_trace(position_smoothed, 340, 30)"
   ],
   "metadata": {
    "collapsed": false,
    "ExecuteTime": {
     "end_time": "2024-11-25T08:34:35.702633500Z",
     "start_time": "2024-11-25T08:34:35.320296300Z"
    }
   },
   "id": "17e49cf0528c2df0"
  },
  {
   "cell_type": "code",
   "source": [
    "def get_frame_with_radar(frame: np.array, path: str, radar, show: bool = False) -> None:\n",
    "    frame_height, frame_width, _ = frame.shape\n",
    "    radar.canvas.draw()\n",
    "    radar_w, radar_h = radar.canvas.get_width_height()\n",
    "    img = np.frombuffer(radar.canvas.tostring_argb(), dtype=np.uint8)\n",
    "    img = img.reshape(radar_h, radar_w, 4)\n",
    "    img = np.roll(img, -1, axis=2) \n",
    "    overlay_resized = cv2.resize(img, (frame_width // 3, frame_height // 3))\n",
    "    overlay_height, overlay_width, _ = overlay_resized.shape\n",
    "    \n",
    "    frame_with_overlay = frame.copy()\n",
    "    \n",
    "    start_y = frame_height - overlay_height\n",
    "    start_x = (frame_width - overlay_width) // 2 \n",
    "    end_y = frame_height\n",
    "    end_x = start_x + overlay_width\n",
    "    \n",
    "    pitch_alpha = overlay_resized[..., 3] / 255.0\n",
    "    for c in range(3):\n",
    "        frame_with_overlay[start_y:end_y, start_x:end_x, c] = (\n",
    "            pitch_alpha * overlay_resized[..., c] +\n",
    "            (1 - pitch_alpha) * frame_with_overlay[start_y:end_y, start_x:end_x, c]\n",
    "    )\n",
    "    if show:\n",
    "        cv2.imshow('Frame with Pitch', frame_with_overlay)\n",
    "        cv2.waitKey(0)\n",
    "        cv2.destroyAllWindows()\n",
    "    cv2.imwrite(path, frame_with_overlay)"
   ],
   "metadata": {
    "collapsed": false,
    "ExecuteTime": {
     "end_time": "2024-11-30T15:16:28.837128Z",
     "start_time": "2024-11-30T15:16:28.831938Z"
    }
   },
   "id": "85e313b6a766394d",
   "outputs": [],
   "execution_count": 15
  },
  {
   "cell_type": "code",
   "source": [
    "fig, _ = draw_trace(position_smoothed, 750, 15, False)\n",
    "frame = cv2.imread('data/SoccerNetGS/gamestate-2024/valid/SNGS-021/img1/000750.jpg')\n",
    "get_frame_with_radar(frame, 'first_with_radar.png', fig)"
   ],
   "metadata": {
    "collapsed": false,
    "ExecuteTime": {
     "end_time": "2024-11-30T16:37:34.412444Z",
     "start_time": "2024-11-30T16:37:34.183650Z"
    }
   },
   "id": "8f2aba5ed83ca001",
   "outputs": [
    {
     "data": {
      "text/plain": [
       "<Figure size 800x800 with 0 Axes>"
      ]
     },
     "metadata": {},
     "output_type": "display_data"
    },
    {
     "data": {
      "text/plain": [
       "<Figure size 640x480 with 1 Axes>"
      ],
      "image/png": "[encoded data removed]"
     },
     "metadata": {},
     "output_type": "display_data"
    }
   ],
   "execution_count": 22
  },
  {
   "metadata": {
    "ExecuteTime": {
     "end_time": "2024-11-30T16:37:14.003570Z",
     "start_time": "2024-11-30T16:37:13.996571Z"
    }
   },
   "cell_type": "code",
   "source": "player_positions[player_positions['frame'] == 750]",
   "id": "4bd8e257ce9b6e8",
   "outputs": [
    {
     "data": {
      "text/plain": [
       "       frame  track_id          x          y  team\n",
       "11594    750        57  45.623229   8.802873     0\n",
       "11595    750       191  40.024841  31.115503     0\n",
       "11596    750       116  39.115707  19.241567     0\n",
       "11597    750       151  31.748263  22.727359     1\n",
       "11598    750         7  69.441623  23.107386     1\n",
       "11599    750       190  37.231166  18.182555     1\n",
       "11600    750         3  65.126183  29.156312     0\n",
       "11601    750        48  51.505807   8.142936     1\n",
       "11602    750       247  57.266934  -0.258323     1\n",
       "11603    750       156  22.791119  16.901619     1\n",
       "11604    750       186  64.636321  40.563977     0\n",
       "11605    750       250  52.851868   4.986941     0\n",
       "11606    750       187  87.517303  47.956335     0\n",
       "11607    750       192  23.664182  18.029772     0\n",
       "11608    750       210  43.839877  61.468863     1"
      ],
      "text/html": [
       "<div>\n",
       "<style scoped>\n",
       "    .dataframe tbody tr th:only-of-type {\n",
       "        vertical-align: middle;\n",
       "    }\n",
       "\n",
       "    .dataframe tbody tr th {\n",
       "        vertical-align: top;\n",
       "    }\n",
       "\n",
       "    .dataframe thead th {\n",
       "        text-align: right;\n",
       "    }\n",
       "</style>\n",
       "<table border=\"1\" class=\"dataframe\">\n",
       "  <thead>\n",
       "    <tr style=\"text-align: right;\">\n",
       "      <th></th>\n",
       "      <th>frame</th>\n",
       "      <th>track_id</th>\n",
       "      <th>x</th>\n",
       "      <th>y</th>\n",
       "      <th>team</th>\n",
       "    </tr>\n",
       "  </thead>\n",
       "  <tbody>\n",
       "    <tr>\n",
       "      <th>11594</th>\n",
       "      <td>750</td>\n",
       "      <td>57</td>\n",
       "      <td>45.623229</td>\n",
       "      <td>8.802873</td>\n",
       "      <td>0</td>\n",
       "    </tr>\n",
       "    <tr>\n",
       "      <th>11595</th>\n",
       "      <td>750</td>\n",
       "      <td>191</td>\n",
       "      <td>40.024841</td>\n",
       "      <td>31.115503</td>\n",
       "      <td>0</td>\n",
       "    </tr>\n",
       "    <tr>\n",
       "      <th>11596</th>\n",
       "      <td>750</td>\n",
       "      <td>116</td>\n",
       "      <td>39.115707</td>\n",
       "      <td>19.241567</td>\n",
       "      <td>0</td>\n",
       "    </tr>\n",
       "    <tr>\n",
       "      <th>11597</th>\n",
       "      <td>750</td>\n",
       "      <td>151</td>\n",
       "      <td>31.748263</td>\n",
       "      <td>22.727359</td>\n",
       "      <td>1</td>\n",
       "    </tr>\n",
       "    <tr>\n",
       "      <th>11598</th>\n",
       "      <td>750</td>\n",
       "      <td>7</td>\n",
       "      <td>69.441623</td>\n",
       "      <td>23.107386</td>\n",
       "      <td>1</td>\n",
       "    </tr>\n",
       "    <tr>\n",
       "      <th>11599</th>\n",
       "      <td>750</td>\n",
       "      <td>190</td>\n",
       "      <td>37.231166</td>\n",
       "      <td>18.182555</td>\n",
       "      <td>1</td>\n",
       "    </tr>\n",
       "    <tr>\n",
       "      <th>11600</th>\n",
       "      <td>750</td>\n",
       "      <td>3</td>\n",
       "      <td>65.126183</td>\n",
       "      <td>29.156312</td>\n",
       "      <td>0</td>\n",
       "    </tr>\n",
       "    <tr>\n",
       "      <th>11601</th>\n",
       "      <td>750</td>\n",
       "      <td>48</td>\n",
       "      <td>51.505807</td>\n",
       "      <td>8.142936</td>\n",
       "      <td>1</td>\n",
       "    </tr>\n",
       "    <tr>\n",
       "      <th>11602</th>\n",
       "      <td>750</td>\n",
       "      <td>247</td>\n",
       "      <td>57.266934</td>\n",
       "      <td>-0.258323</td>\n",
       "      <td>1</td>\n",
       "    </tr>\n",
       "    <tr>\n",
       "      <th>11603</th>\n",
       "      <td>750</td>\n",
       "      <td>156</td>\n",
       "      <td>22.791119</td>\n",
       "      <td>16.901619</td>\n",
       "      <td>1</td>\n",
       "    </tr>\n",
       "    <tr>\n",
       "      <th>11604</th>\n",
       "      <td>750</td>\n",
       "      <td>186</td>\n",
       "      <td>64.636321</td>\n",
       "      <td>40.563977</td>\n",
       "      <td>0</td>\n",
       "    </tr>\n",
       "    <tr>\n",
       "      <th>11605</th>\n",
       "      <td>750</td>\n",
       "      <td>250</td>\n",
       "      <td>52.851868</td>\n",
       "      <td>4.986941</td>\n",
       "      <td>0</td>\n",
       "    </tr>\n",
       "    <tr>\n",
       "      <th>11606</th>\n",
       "      <td>750</td>\n",
       "      <td>187</td>\n",
       "      <td>87.517303</td>\n",
       "      <td>47.956335</td>\n",
       "      <td>0</td>\n",
       "    </tr>\n",
       "    <tr>\n",
       "      <th>11607</th>\n",
       "      <td>750</td>\n",
       "      <td>192</td>\n",
       "      <td>23.664182</td>\n",
       "      <td>18.029772</td>\n",
       "      <td>0</td>\n",
       "    </tr>\n",
       "    <tr>\n",
       "      <th>11608</th>\n",
       "      <td>750</td>\n",
       "      <td>210</td>\n",
       "      <td>43.839877</td>\n",
       "      <td>61.468863</td>\n",
       "      <td>1</td>\n",
       "    </tr>\n",
       "  </tbody>\n",
       "</table>\n",
       "</div>"
      ]
     },
     "execution_count": 21,
     "metadata": {},
     "output_type": "execute_result"
    }
   ],
   "execution_count": 21
  }
 ],
 "metadata": {
  "kernelspec": {
   "display_name": "Python 3",
   "language": "python",
   "name": "python3"
  },
  "language_info": {
   "codemirror_mode": {
    "name": "ipython",
    "version": 2
   },
   "file_extension": ".py",
   "mimetype": "text/x-python",
   "name": "python",
   "nbconvert_exporter": "python",
   "pygments_lexer": "ipython2",
   "version": "2.7.6"
  }
 },
 "nbformat": 4,
 "nbformat_minor": 5
}
