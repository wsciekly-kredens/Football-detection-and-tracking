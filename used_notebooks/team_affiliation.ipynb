{
 "cells": [
  {
   "cell_type": "code",
   "id": "initial_id",
   "metadata": {
    "collapsed": true
   },
   "source": [
    "from scipy.optimize import direct\n",
    "from ultralytics import YOLO\n",
    "from PIL import Image\n",
    "import numpy as np\n",
    "import cv2\n",
    "import matplotlib.pyplot as plt\n",
    "import os\n",
    "import seaborn as sb"
   ],
   "outputs": [],
   "execution_count": null
  },
  {
   "cell_type": "code",
   "source": "model = YOLO('yolo11l.pt')",
   "metadata": {
    "collapsed": false
   },
   "id": "66cd5322109e0f55",
   "outputs": [],
   "execution_count": null
  },
  {
   "cell_type": "code",
   "source": [
    "image_path = 'results/frame.jpg'\n",
    "results = model.predict(image_path)"
   ],
   "metadata": {
    "collapsed": false
   },
   "id": "f7ad6472fccb46d9",
   "outputs": [],
   "execution_count": null
  },
  {
   "cell_type": "code",
   "source": [
    "frame = cv2.imread(image_path)"
   ],
   "metadata": {
    "collapsed": false
   },
   "id": "12f03dc4aa40788c",
   "outputs": [],
   "execution_count": null
  },
  {
   "cell_type": "code",
   "source": [
    "b_boxes = results[0].boxes.xyxy.tolist()"
   ],
   "metadata": {
    "collapsed": false
   },
   "id": "6684783397977d9b",
   "outputs": [],
   "execution_count": null
  },
  {
   "cell_type": "code",
   "source": [
    "cv2.imshow('frame', frame[int(b_boxes[2][1]):int(b_boxes[2][3]), int(b_boxes[2][0]):int(b_boxes[2][2])])\n",
    "cv2.waitKey(0)\n",
    "cv2.destroyAllWindows()"
   ],
   "metadata": {
    "collapsed": false
   },
   "id": "9295bd047d266c39",
   "outputs": [],
   "execution_count": null
  },
  {
   "cell_type": "code",
   "source": [
    "def get_players(frame: np.ndarray, boxes: list[np.ndarray]) -> list[np.ndarray]:\n",
    "    players = []\n",
    "    for bbox in boxes:\n",
    "        player = frame[int(bbox[1]):int(bbox[3]), int(bbox[0]):int(bbox[2])]\n",
    "        players.append(player)\n",
    "    return players"
   ],
   "metadata": {
    "collapsed": false
   },
   "id": "50bc3cc42f2653d5",
   "outputs": [],
   "execution_count": null
  },
  {
   "cell_type": "code",
   "source": [
    "players = get_players(frame, results[0].boxes.xyxy.tolist())"
   ],
   "metadata": {
    "collapsed": false
   },
   "id": "7ec023077c560e8c",
   "outputs": [],
   "execution_count": null
  },
  {
   "cell_type": "code",
   "source": [
    "players[2].shape"
   ],
   "metadata": {
    "collapsed": false
   },
   "id": "65fe91997bce2816",
   "outputs": [],
   "execution_count": null
  },
  {
   "cell_type": "code",
   "source": [
    "def get_kits(players: list[np.ndarray]) -> list[np.ndarray]:\n",
    "    kits = []\n",
    "    for player in players:\n",
    "        kit = player[player.shape[0]//6:player.shape[0]//2, int(player.shape[1] * 0.25):int(player.shape[1] * 0.75)]\n",
    "        kits.append(kit)\n",
    "    return kits"
   ],
   "metadata": {
    "collapsed": false
   },
   "id": "166f2f083ce985e4",
   "outputs": [],
   "execution_count": null
  },
  {
   "cell_type": "code",
   "source": [
    "kits = get_kits(players)"
   ],
   "metadata": {
    "collapsed": false
   },
   "id": "1b20ba878744bb7f",
   "outputs": [],
   "execution_count": null
  },
  {
   "metadata": {},
   "cell_type": "code",
   "source": [
    "total_width = sum(kit.shape[1] for kit in kits)\n",
    "max_height = max(kit.shape[0] for kit in kits)\n",
    "\n",
    "output_image = np.zeros((max_height, total_width, 3), dtype=np.uint8)\n",
    "\n",
    "current_x = 0\n",
    "for kit in kits:\n",
    "    h, w = kit.shape[:2]\n",
    "    output_image[0:h, current_x:current_x+w] = kit \n",
    "    current_x += w\n",
    "\n",
    "cv2.imshow(\"kits Side by Side\", output_image)\n",
    "cv2.waitKey(0)\n",
    "cv2.destroyAllWindows()\n",
    "cv2.imwrite(\"kits.jpg\", output_image)"
   ],
   "id": "248830ad611f46e",
   "outputs": [],
   "execution_count": null
  },
  {
   "cell_type": "code",
   "source": [
    "kits[2]"
   ],
   "metadata": {
    "collapsed": false
   },
   "id": "1cd47af87234a7d",
   "outputs": [],
   "execution_count": null
  },
  {
   "cell_type": "code",
   "source": [
    "cv2.imshow('kit1', kits[0])"
   ],
   "metadata": {
    "collapsed": false
   },
   "id": "4d5d42fa00572501",
   "outputs": [],
   "execution_count": null
  },
  {
   "cell_type": "code",
   "source": [
    "for i, kit in enumerate(kits):\n",
    "    cv2.imwrite(f'kits/kit{i+1}.png', kits[i])"
   ],
   "metadata": {
    "collapsed": false
   },
   "id": "61c71951341cbb5b",
   "outputs": [],
   "execution_count": null
  },
  {
   "cell_type": "code",
   "source": [
    "cv2.imwrite('kits/kit1.png', kits[0])\n",
    "cv2.imshow('kits_0', kits[0])\n",
    "cv2.waitKey(0)\n",
    "cv2.destroyAllWindows()"
   ],
   "metadata": {
    "collapsed": false
   },
   "id": "5510afe3f03ef9aa",
   "outputs": [],
   "execution_count": null
  },
  {
   "cell_type": "code",
   "source": [
    "def get_mean_color(kits: np.ndarray) -> list[np.ndarray]:\n",
    "    mean_colors: list[int] = []\n",
    "    for kit in kits:\n",
    "        im = Image.fromarray(kit)\n",
    "        im = im.convert('P', colors=16)\n",
    "        im = np.array(im)\n",
    "        mean_color = np.mean(im, axis=(0, 1))\n",
    "        # color_image = np.zeros((100, 100, 3), dtype=np.uint8)\n",
    "        # color_image[:] = [int(mean_color[0]), int(mean_color[1]), int(mean_color[2])]\n",
    "        mean_colors.append(mean_color)\n",
    "    return mean_colors"
   ],
   "metadata": {
    "collapsed": false
   },
   "id": "1f97553db3c55440",
   "outputs": [],
   "execution_count": null
  },
  {
   "cell_type": "code",
   "source": [
    "means = get_mean_color(kits)\n",
    "means"
   ],
   "metadata": {
    "collapsed": false
   },
   "id": "4cef95702fb1dca7",
   "outputs": [],
   "execution_count": null
  },
  {
   "cell_type": "code",
   "source": [
    "def get_shirt_color(num: int) -> int:\n",
    "    image = Image.open(f'kits/kit{num}.png')\n",
    "    image = image.convert('P', palette=Image.ADAPTIVE, colors=2)\n",
    "    img_colors = image.getcolors(maxcolors=2)\n",
    "    print(img_colors)\n",
    "    w, h = image.size\n",
    "    points = [(0,0), (0, h-1), (w-1, 0), (w-1, h-1)]\n",
    "    colors: list[tuple] = []\n",
    "    for point in points:\n",
    "        colors.append(image.getpixel(point))\n",
    "    bg_color: int = max(set(colors), key=colors.count)\n",
    "    shirt_index: int = 1 - bg_color\n",
    "    for color in img_colors:\n",
    "        if color[1] == shirt_index:\n",
    "            return color[0]\n",
    "    return -1"
   ],
   "metadata": {
    "collapsed": false
   },
   "id": "5b66df8f9d430c1d",
   "outputs": [],
   "execution_count": null
  },
  {
   "cell_type": "code",
   "source": [
    "kits_n = len(kits)\n",
    "shirt_color = []\n",
    "for i in range(kits_n):\n",
    "    shirt_color.append(get_shirt_color(i+1))"
   ],
   "metadata": {
    "collapsed": false
   },
   "id": "78ba8ac11f686410",
   "outputs": [],
   "execution_count": null
  },
  {
   "cell_type": "code",
   "source": "means",
   "metadata": {
    "collapsed": false
   },
   "id": "63440aa1c5058ffc",
   "outputs": [],
   "execution_count": null
  },
  {
   "cell_type": "code",
   "source": [
    "y = shirt_color.copy()"
   ],
   "metadata": {
    "collapsed": false
   },
   "id": "47af94c84a1023c3",
   "outputs": [],
   "execution_count": null
  },
  {
   "cell_type": "code",
   "source": "true = [2, 2, 2, 1, 0, 0, 1, 0, 2, 1, 0, 0, 0, 2, 1, 1, 1, 1, 1, 1, 0, 0]",
   "metadata": {
    "collapsed": false
   },
   "id": "c16fa8fbc5402844",
   "outputs": [],
   "execution_count": null
  },
  {
   "cell_type": "code",
   "source": "plt.scatter(range(1, len(means)+1), means, c=true)",
   "metadata": {
    "collapsed": false
   },
   "id": "3bff1b844649ad2e",
   "outputs": [],
   "execution_count": null
  },
  {
   "cell_type": "code",
   "source": [
    "img_rgb = Image.open('kits/kit7.png')\n",
    "img_rgb = img_rgb.convert('P', palette=Image.ADAPTIVE, colors=2)\n",
    "img_rgb"
   ],
   "metadata": {
    "collapsed": false
   },
   "id": "febf3e39cf399816",
   "outputs": [],
   "execution_count": null
  },
  {
   "metadata": {},
   "cell_type": "code",
   "source": [
    "from data_parse import DataParser\n",
    "directory = 'data/SoccerNetGS/gamestate-2024/train/'\n",
    "data_parser = DataParser(directory)\n",
    "data_parser.parse_data_to_df()\n",
    "shirts_data = data_parser.get_shirts_data()"
   ],
   "id": "cc3c2c0bf725d8a",
   "outputs": [],
   "execution_count": null
  },
  {
   "metadata": {},
   "cell_type": "code",
   "source": "shirts_data",
   "id": "caf15e80a2f785f1",
   "outputs": [],
   "execution_count": null
  },
  {
   "metadata": {},
   "cell_type": "code",
   "source": "from shirt_color import ShirtColor",
   "id": "3206653eadd0295b",
   "outputs": [],
   "execution_count": null
  },
  {
   "metadata": {},
   "cell_type": "code",
   "source": [
    "img_id = '1113000444'\n",
    "img_path = f'data/SoccerNetGS/gamestate-2024/train/SNGS-113/img1/{img_id[-6:]}.jpg'\n",
    "shirts_data_test = shirts_data[shirts_data['image_id'] == img_id]\n",
    "frame = cv2.imread(img_path)\n",
    "b_boxes = [row for row in shirts_data_test[['bbox_image_x', 'bbox_image_y', 'bbox_image_w', 'bbox_image_h']].values]\n",
    "true_values = [1 if row == 'left' else 0 for row in shirts_data_test['attributes_team'].values]\n",
    "shirt_color = ShirtColor(frame, b_boxes)"
   ],
   "id": "13870c9688baa564",
   "outputs": [],
   "execution_count": null
  },
  {
   "metadata": {},
   "cell_type": "code",
   "source": [
    "plt.figure(figsize=(10, 20))\n",
    "\n",
    "for i in range(8):\n",
    "    shirt_color.set_crop_factor(0.05*(i+1))\n",
    "    shirt_color.get_shirt_color()\n",
    "    plt.subplot(4, 2, i+1)\n",
    "    shirt_color.plot_colors(true_values, True)\n",
    "    plt.title(f'Crop factor: {0.05*(i+1)}')\n",
    "plt.show()\n"
   ],
   "id": "7719ed22d9cea2b2",
   "outputs": [],
   "execution_count": null
  },
  {
   "metadata": {},
   "cell_type": "markdown",
   "source": "",
   "id": "5c34f50e7b0d395c"
  },
  {
   "metadata": {},
   "cell_type": "code",
   "source": [
    "shirt_color.set_crop_factor(0.25)\n",
    "shirt_color.get_shirt_color()"
   ],
   "id": "fa1fd7ffffef64c5",
   "outputs": [],
   "execution_count": null
  },
  {
   "metadata": {},
   "cell_type": "code",
   "source": "x, y, w, h = map(lambda elem: int(elem),  b_boxes[0])",
   "id": "50d6021595647475",
   "outputs": [],
   "execution_count": null
  },
  {
   "metadata": {},
   "cell_type": "code",
   "source": [
    "img = cv2.imread(img_path)\n",
    "image = img[y:y+h, x:x+w]"
   ],
   "id": "917e497e828f6816",
   "outputs": [],
   "execution_count": null
  },
  {
   "metadata": {},
   "cell_type": "code",
   "source": [
    "asd = [1, 2, 3, 4, 5]\n",
    "a, b, c, d, e = map(lambda x: x+1, asd)\n"
   ],
   "id": "54e74923fe6e3c0d",
   "outputs": [],
   "execution_count": null
  },
  {
   "metadata": {},
   "cell_type": "code",
   "source": [
    "from sklearn.cluster import KMeans\n",
    "\n",
    "kmeans = KMeans(n_clusters=2, random_state=0).fit(np.array(shirt_color.colors).reshape(-1, 1))\n",
    "labels = kmeans.labels_\n",
    "labels"
   ],
   "id": "fe42005a9ea60362",
   "outputs": [],
   "execution_count": null
  },
  {
   "metadata": {},
   "cell_type": "code",
   "source": "plt.scatter(range(1, len(shirt_color.colors) + 1), shirt_color.colors, c=labels)\n",
   "id": "f919a284a611caea",
   "outputs": [],
   "execution_count": null
  },
  {
   "metadata": {},
   "cell_type": "code",
   "source": "true_values",
   "id": "f737999a103c6c8a",
   "outputs": [],
   "execution_count": null
  },
  {
   "metadata": {},
   "cell_type": "code",
   "source": [
    "accuracy = sum([1 if true == labels else 0 for true, labels in zip(true_values, labels)])/len(true_values)\n",
    "accuracy"
   ],
   "id": "b8b075c774e73cac",
   "outputs": [],
   "execution_count": null
  },
  {
   "metadata": {},
   "cell_type": "code",
   "source": [
    "acc = np.mean(labels == true_values)\n",
    "acc"
   ],
   "id": "5c2e60b3232ca5e4",
   "outputs": [],
   "execution_count": null
  }
 ],
 "metadata": {
  "kernelspec": {
   "display_name": "Python 3",
   "language": "python",
   "name": "python3"
  },
  "language_info": {
   "codemirror_mode": {
    "name": "ipython",
    "version": 2
   },
   "file_extension": ".py",
   "mimetype": "text/x-python",
   "name": "python",
   "nbconvert_exporter": "python",
   "pygments_lexer": "ipython2",
   "version": "2.7.6"
  }
 },
 "nbformat": 4,
 "nbformat_minor": 5
}
