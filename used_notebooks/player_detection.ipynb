{
 "cells": [
  {
   "cell_type": "code",
   "id": "initial_id",
   "metadata": {
    "collapsed": true
   },
   "source": [
    "from ultralytics import YOLO\n",
    "from PIL import Image\n",
    "import numpy as np\n",
    "import cv2\n",
    "import matplotlib.pyplot as plt\n",
    "import os"
   ],
   "outputs": [],
   "execution_count": null
  },
  {
   "metadata": {},
   "cell_type": "code",
   "source": "model = YOLO(\"runs/detect/train24/weights/best.pt\").to(\"cuda\")",
   "id": "b9ae296ee3eabd7a",
   "outputs": [],
   "execution_count": null
  },
  {
   "metadata": {},
   "cell_type": "code",
   "source": "results = model.predict(r\"C:\\Users\\Marcin\\Videos\\ganzgut.mp4\")",
   "id": "eb56e16d707317e2",
   "outputs": [],
   "execution_count": null
  },
  {
   "metadata": {},
   "cell_type": "code",
   "source": [
    "cap = cv2.VideoCapture(r\"C:\\Users\\Marcin\\Videos\\ganzgut.mp4\")\n",
    "frame_number = 0\n",
    "cap.set(cv2.CAP_PROP_POS_FRAMES, frame_number)\n",
    "ret, frame = cap.read()\n",
    "# if ret:\n",
    "#     # Wyświetlanie klatki\n",
    "#     cv2.imshow(f\"Klatka nr {frame_number}\", frame)\n",
    "#     cv2.waitKey(0)  # Oczekiwanie na dowolny klawisz\n",
    "#     cv2.destroyAllWindows()\n"
   ],
   "id": "5608073cc3967da5",
   "outputs": [],
   "execution_count": null
  },
  {
   "metadata": {},
   "cell_type": "code",
   "source": "cv2.imwrite(\"results/frame.jpg\", frame)",
   "id": "260c85518910e433",
   "outputs": [],
   "execution_count": null
  },
  {
   "metadata": {},
   "cell_type": "code",
   "source": "",
   "id": "21c8180459d6337a",
   "outputs": [],
   "execution_count": null
  },
  {
   "metadata": {},
   "cell_type": "markdown",
   "source": "",
   "id": "7ded5239635ce3b6"
  },
  {
   "metadata": {},
   "cell_type": "code",
   "source": [
    "players: list[np.ndarray] = []\n",
    "for bbox in results[0].boxes.xyxy.tolist():\n",
    "    player = frame[int(bbox[1]):int(bbox[3]), int(bbox[0]):int(bbox[2])]\n",
    "    players.append(player)"
   ],
   "id": "3d125a76c8fe0f42",
   "outputs": [],
   "execution_count": null
  },
  {
   "metadata": {},
   "cell_type": "code",
   "source": [
    "kits = []\n",
    "for player in players:\n",
    "    kit = player[player.shape[0]//6:player.shape[0]//2, int(player.shape[1]*0.35):int(player.shape[1]*0.65)]\n",
    "    kits.append(kit)"
   ],
   "id": "acc3cd39b8039f12",
   "outputs": [],
   "execution_count": null
  },
  {
   "metadata": {},
   "cell_type": "code",
   "source": [
    "mean_colors: list[np.ndarray] = []\n",
    "for kit in kits:\n",
    "    mean_color = np.mean(kit, axis=(0, 1))\n",
    "    color_image = np.zeros((100, 100, 3), dtype=np.uint8)\n",
    "    color_image[:] = [int(mean_color[0]), int(mean_color[1]), int(mean_color[2])]\n",
    "    mean_colors.append(color_image)"
   ],
   "id": "41ebc46056f0a396",
   "outputs": [],
   "execution_count": null
  },
  {
   "metadata": {},
   "cell_type": "code",
   "source": "mean_colors",
   "id": "a6a1fe04c183979d",
   "outputs": [],
   "execution_count": null
  },
  {
   "metadata": {},
   "cell_type": "code",
   "source": [
    "total_width_color = sum(color.shape[1] for color in mean_colors)\n",
    "max_height_color = max(color.shape[0] for color in mean_colors)\n",
    "output_image_colors = np.zeros((max_height_color, total_width_color, 3), dtype=np.uint8)\n",
    "\n",
    "current_x_color = 0\n",
    "for color in mean_colors:\n",
    "    h, w = color.shape[:2]\n",
    "    output_image_colors[0:h, current_x_color:current_x_color+w] = color\n",
    "    current_x_color += w\n",
    "    \n",
    "cv2.imshow(\"Colors Side by Side\", output_image_colors)\n",
    "cv2.waitKey(0)\n",
    "cv2.destroyAllWindows()\n",
    "cv2.imwrite(\"colors.jpg\", output_image_colors)"
   ],
   "id": "58692895be55d4b9",
   "outputs": [],
   "execution_count": null
  },
  {
   "metadata": {},
   "cell_type": "code",
   "source": [
    "total_width = sum(kit.shape[1] for kit in kits)\n",
    "max_height = max(kit.shape[0] for kit in kits)\n",
    "\n",
    "output_image = np.zeros((max_height, total_width, 3), dtype=np.uint8)\n",
    "\n",
    "current_x = 0\n",
    "for kit in kits:\n",
    "    h, w = kit.shape[:2]\n",
    "    output_image[0:h, current_x:current_x+w] = kit \n",
    "    current_x += w\n",
    "\n",
    "cv2.imshow(\"kits Side by Side\", output_image)\n",
    "cv2.waitKey(0)\n",
    "cv2.destroyAllWindows()\n",
    "cv2.imwrite(\"kits.jpg\", output_image)"
   ],
   "id": "c0ed35f5c76dba4b",
   "outputs": [],
   "execution_count": null
  },
  {
   "metadata": {},
   "cell_type": "code",
   "source": "",
   "id": "b7e5bc10b082747",
   "outputs": [],
   "execution_count": null
  }
 ],
 "metadata": {
  "kernelspec": {
   "display_name": "Python 3",
   "language": "python",
   "name": "python3"
  },
  "language_info": {
   "codemirror_mode": {
    "name": "ipython",
    "version": 2
   },
   "file_extension": ".py",
   "mimetype": "text/x-python",
   "name": "python",
   "nbconvert_exporter": "python",
   "pygments_lexer": "ipython2",
   "version": "2.7.6"
  }
 },
 "nbformat": 4,
 "nbformat_minor": 5
}
