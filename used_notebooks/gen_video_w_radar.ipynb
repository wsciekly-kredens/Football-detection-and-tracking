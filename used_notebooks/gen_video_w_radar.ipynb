{
 "cells": [
  {
   "cell_type": "code",
   "id": "initial_id",
   "metadata": {
    "collapsed": true,
    "ExecuteTime": {
     "end_time": "2024-11-30T16:49:09.844291Z",
     "start_time": "2024-11-30T16:49:08.242879Z"
    }
   },
   "source": [
    "from radar import Radar\n",
    "import cv2\n",
    "import numpy as np\n",
    "import pandas as pd\n",
    "import matplotlib.pyplot as plt\n",
    "import json\n",
    "from video_generator import VideoGenerator\n",
    "import utils"
   ],
   "outputs": [],
   "execution_count": 1
  },
  {
   "metadata": {
    "ExecuteTime": {
     "end_time": "2024-11-30T16:49:09.878010Z",
     "start_time": "2024-11-30T16:49:09.847290Z"
    }
   },
   "cell_type": "code",
   "source": [
    "detections = {'frame_id': [], 'bbox': [], 'confidence': [], 'class_id': []}\n",
    "with open('detections.json', 'r') as f:\n",
    "    data = json.load(f)\n",
    "\n",
    "for frame in data:\n",
    "    detections['frame_id'].append(frame['frame_id'])\n",
    "    detections['bbox'].append(frame['bbox'])\n",
    "    detections['confidence'].append(frame['confidence'])\n",
    "    detections['class_id'].append(frame['class_id'])"
   ],
   "id": "e7c94cbdab730c40",
   "outputs": [],
   "execution_count": 2
  },
  {
   "metadata": {
    "ExecuteTime": {
     "end_time": "2024-11-30T16:49:10.026525Z",
     "start_time": "2024-11-30T16:49:10.010823Z"
    }
   },
   "cell_type": "code",
   "source": [
    "with open('keypoints.json', 'r') as f:\n",
    "    keypoints_data = json.load(f)"
   ],
   "id": "bf72aba6b3783cb0",
   "outputs": [],
   "execution_count": 3
  },
  {
   "metadata": {
    "ExecuteTime": {
     "end_time": "2024-11-30T16:49:10.034569Z",
     "start_time": "2024-11-30T16:49:10.032177Z"
    }
   },
   "cell_type": "code",
   "source": [
    "keypoints = {'frame_id': [], 'keypoints': []}\n",
    "for frame in keypoints_data:\n",
    "    keypoints['frame_id'].append(frame['frame_id'])\n",
    "    keypoints['keypoints'].append(frame['keypoints']) "
   ],
   "id": "88786f1d4de5586b",
   "outputs": [],
   "execution_count": 4
  },
  {
   "metadata": {
    "ExecuteTime": {
     "end_time": "2024-11-30T16:49:10.050541Z",
     "start_time": "2024-11-30T16:49:10.039309Z"
    }
   },
   "cell_type": "code",
   "source": "player_positions: pd.DataFrame = pd.read_csv('positions_valid_021.csv')",
   "id": "cf3bdb364d95e7ed",
   "outputs": [],
   "execution_count": 5
  },
  {
   "metadata": {
    "ExecuteTime": {
     "end_time": "2024-11-30T16:49:10.061763Z",
     "start_time": "2024-11-30T16:49:10.059058Z"
    }
   },
   "cell_type": "code",
   "source": "radar = Radar(player_positions)",
   "id": "78740ecc58b29abf",
   "outputs": [
    {
     "name": "stdout",
     "output_type": "stream",
     "text": [
      "[  1   2   3   4   5   6   7   8   9  10  11  12  13  14  15  16  17  21\n",
      "  23  41  43  44  48  55  57  58  66  86 116 139 149 151 152 153 154 155\n",
      " 156 186 187 188 190 192 191 199 210 238 242 246 247 248 249 250 258 260\n",
      " 261 262 263 266 267 269 270 275 276 277]\n"
     ]
    }
   ],
   "execution_count": 6
  },
  {
   "metadata": {
    "ExecuteTime": {
     "end_time": "2024-11-30T16:49:20.127997Z",
     "start_time": "2024-11-30T16:49:10.129505Z"
    }
   },
   "cell_type": "code",
   "source": "frames = utils.load_frames_from_images('data/SoccerNetGS/gamestate-2024/valid/SNGS-021/img1')",
   "id": "b4b58512b5601b04",
   "outputs": [],
   "execution_count": 7
  },
  {
   "metadata": {
    "ExecuteTime": {
     "end_time": "2024-11-30T16:49:20.141195Z",
     "start_time": "2024-11-30T16:49:20.136940Z"
    }
   },
   "cell_type": "code",
   "source": "type(frames[0])",
   "id": "1431fed36cd8c19e",
   "outputs": [
    {
     "data": {
      "text/plain": [
       "numpy.ndarray"
      ]
     },
     "execution_count": 8,
     "metadata": {},
     "output_type": "execute_result"
    }
   ],
   "execution_count": 8
  },
  {
   "metadata": {
    "ExecuteTime": {
     "end_time": "2024-11-30T16:49:20.222233Z",
     "start_time": "2024-11-30T16:49:20.219655Z"
    }
   },
   "cell_type": "code",
   "source": "video_generator = VideoGenerator(frames, radar)",
   "id": "92263b6af23352e6",
   "outputs": [],
   "execution_count": 9
  },
  {
   "metadata": {
    "ExecuteTime": {
     "end_time": "2024-11-30T16:51:32.282360Z",
     "start_time": "2024-11-30T16:49:20.231144Z"
    }
   },
   "cell_type": "code",
   "source": "video_generator.generate_video_with_radar('video_with_radar.mp4', fps=25)",
   "id": "a40bc46cebcd0df9",
   "outputs": [
    {
     "name": "stdout",
     "output_type": "stream",
     "text": [
      "Video saved to video_with_radar.mp4\n"
     ]
    }
   ],
   "execution_count": 10
  }
 ],
 "metadata": {
  "kernelspec": {
   "display_name": "Python 3",
   "language": "python",
   "name": "python3"
  },
  "language_info": {
   "codemirror_mode": {
    "name": "ipython",
    "version": 2
   },
   "file_extension": ".py",
   "mimetype": "text/x-python",
   "name": "python",
   "nbconvert_exporter": "python",
   "pygments_lexer": "ipython2",
   "version": "2.7.6"
  }
 },
 "nbformat": 4,
 "nbformat_minor": 5
}
