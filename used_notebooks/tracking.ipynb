{
 "cells": [
  {
   "cell_type": "code",
   "id": "initial_id",
   "metadata": {
    "collapsed": true
   },
   "source": [
    "import torch\n",
    "from torchaudio import list_audio_backends\n",
    "from ultralytics import YOLO\n",
    "import supervision as sv\n",
    "import numpy as np\n",
    "import cv2\n",
    "from tracker import Tracker\n",
    "from detector import Detector\n",
    "from teams import TeamAffiliation"
   ],
   "outputs": [],
   "execution_count": null
  },
  {
   "metadata": {},
   "cell_type": "code",
   "source": "model = YOLO(\"runs/detect/train38/weights/best.pt\")",
   "id": "96004a1ef24c3ea2",
   "outputs": [],
   "execution_count": null
  },
  {
   "metadata": {},
   "cell_type": "code",
   "source": "tracker = sv.ByteTrack()",
   "id": "bfec0407711a3887",
   "outputs": [],
   "execution_count": null
  },
  {
   "metadata": {},
   "cell_type": "code",
   "source": "annotator = sv.BoxAnnotator()",
   "id": "4db34e008f344a19",
   "outputs": [],
   "execution_count": null
  },
  {
   "metadata": {},
   "cell_type": "code",
   "source": [
    "def load_frames(source_path: str) -> list[np.ndarray]:\n",
    "    frames: list[np.ndarray] = list()\n",
    "    cap = cv2.VideoCapture(source_path)\n",
    "    while cap.isOpened():\n",
    "        ret, frame = cap.read()\n",
    "        if not ret:\n",
    "            break\n",
    "        frames.append(frame)\n",
    "    cap.release()\n",
    "    return frames"
   ],
   "id": "4cf88dd1fd71dbf",
   "outputs": [],
   "execution_count": null
  },
  {
   "metadata": {},
   "cell_type": "code",
   "source": "video = load_frames(r\"C:\\Users\\Marcin\\Videos\\ganzgut.mp4\")",
   "id": "530c9fde414ce2c0",
   "outputs": [],
   "execution_count": null
  },
  {
   "metadata": {},
   "cell_type": "code",
   "source": [
    "def detect(frames: list[np.ndarray], batch_size: int = 40) -> list:\n",
    "    detections = list()\n",
    "    for frame in frames:\n",
    "        results = model.predict(frame, conf=0.5)\n",
    "        detections += results\n",
    "    return detections"
   ],
   "id": "7f5f90a2f737cb91",
   "outputs": [],
   "execution_count": null
  },
  {
   "metadata": {},
   "cell_type": "code",
   "source": "detections = detect(video)",
   "id": "57299c0bee018264",
   "outputs": [],
   "execution_count": null
  },
  {
   "metadata": {},
   "cell_type": "code",
   "source": "detections",
   "id": "c7fd2ee4a7f72a02",
   "outputs": [],
   "execution_count": null
  },
  {
   "metadata": {},
   "cell_type": "code",
   "source": [
    "trckr = sv.ByteTrack()\n",
    "dets = sv.Detections.from_ultralytics(detections)"
   ],
   "id": "fa7a05dbf4917f0a",
   "outputs": [],
   "execution_count": null
  },
  {
   "metadata": {},
   "cell_type": "code",
   "source": [
    "def track(frames: list[np.ndarray]) -> list:\n",
    "    detections = detect(frames)\n",
    "    tracker = sv.ByteTrack()\n",
    "    tracks: list = list()\n",
    "    for i, detection in enumerate(detections):\n",
    "        dets = sv.Detections.from_ultralytics(detection)\n",
    "        tracks.append(tracker.update_with_detections(dets))\n",
    "    return tracks"
   ],
   "id": "42d6750daac74278",
   "outputs": [],
   "execution_count": null
  },
  {
   "metadata": {},
   "cell_type": "code",
   "source": "trackers = track(video)",
   "id": "601de06e6bc14eba",
   "outputs": [],
   "execution_count": null
  },
  {
   "metadata": {},
   "cell_type": "code",
   "source": "trackers[0]",
   "id": "8105a847e31b4be2",
   "outputs": [],
   "execution_count": null
  },
  {
   "metadata": {},
   "cell_type": "code",
   "source": "list(track.tracker_id for track in trackers[:10])",
   "id": "bbe970e856f6da8d",
   "outputs": [],
   "execution_count": null
  },
  {
   "metadata": {},
   "cell_type": "code",
   "source": [
    "def anotate_frames(frames: list[np.ndarray], trackers: list) -> list[np.ndarray]:\n",
    "    for frame, tracker in zip(frames, trackers):\n",
    "        for bbox, tracker_id in zip(tracker.xyxy, tracker.tracker_id):\n",
    "            x1, y1, x2, y2 = map(int, bbox)\n",
    "            cv2.rectangle(frame, (x1, y1), (x2, y2), (0, 255, 0), 2)\n",
    "            cv2.putText(frame, str(tracker_id), (x1, y1), cv2.FONT_HERSHEY_SIMPLEX, 0.75, (0, 255, 0), 4)\n",
    "    return frames"
   ],
   "id": "2c559b9003b0c6a0",
   "outputs": [],
   "execution_count": null
  },
  {
   "metadata": {},
   "cell_type": "code",
   "source": "annotated = anotate_frames(video, trackers)",
   "id": "a05e25b2728a0b55",
   "outputs": [],
   "execution_count": null
  },
  {
   "metadata": {},
   "cell_type": "code",
   "source": "",
   "id": "5b35d5d8e7f43261",
   "outputs": [],
   "execution_count": null
  },
  {
   "metadata": {},
   "cell_type": "code",
   "source": [
    "# przeliczenie na homografie tam wyznaczenie trasy i potem przeliczenie z powrotem dla każdej klatki\n",
    "def draw_traces(frames: list[np.ndarray], trackers: list) -> list[np.ndarray]:\n",
    "    tracked_player_id = 4\n",
    "    tracker_id = trackers[0].tracker_id[tracked_player_id]\n",
    "    trace = list()\n",
    "    for frame, tracker in zip(frames, trackers):\n",
    "        try:\n",
    "            tracker_list_pos = int(np.where(tracker.tracker_id == tracker_id)[0][0])\n",
    "        except IndexError:\n",
    "            break\n",
    "        tracked_player_bbox = tracker.xyxy[tracker_list_pos]\n",
    "        x = int((tracked_player_bbox[0] + tracked_player_bbox[2]) / 2)\n",
    "        y = int((tracked_player_bbox[1] + tracked_player_bbox[3]) / 2)\n",
    "        trace.append((x, y))\n",
    "        for x, y in trace:\n",
    "            cv2.circle(frame, (x, y), 5, (0, 255, 0), -1)\n",
    "    return frames"
   ],
   "id": "32f2de0ebf281c0e",
   "outputs": [],
   "execution_count": null
  },
  {
   "metadata": {},
   "cell_type": "code",
   "source": "traces = draw_traces(video, trackers)",
   "id": "36667a40482e3ffb",
   "outputs": [],
   "execution_count": null
  },
  {
   "metadata": {},
   "cell_type": "code",
   "source": "traces[0].shape",
   "id": "e27d12e165dd3f1b",
   "outputs": [],
   "execution_count": null
  },
  {
   "metadata": {},
   "cell_type": "code",
   "source": [
    "cv2.imshow('rsssss', traces[50])\n",
    "cv2.waitKey(0)\n",
    "cv2.destroyAllWindows()"
   ],
   "id": "e73945b0136d6f84",
   "outputs": [],
   "execution_count": null
  },
  {
   "metadata": {},
   "cell_type": "code",
   "source": [
    "out = cv2.VideoWriter(r\"C:\\Users\\Marcin\\Videos\\ganzgut_track.mp4\", cv2.VideoWriter_fourcc(*'mp4v'), 25, (1280, 720))\n",
    "for frame in annotated:\n",
    "    out.write(frame)\n",
    "out.release()"
   ],
   "id": "cf976782ee541891",
   "outputs": [],
   "execution_count": null
  },
  {
   "metadata": {},
   "cell_type": "code",
   "source": [
    "model = YOLO(\"runs/detect/train38/weights/best.pt\")\n",
    "detector = Detector(model, 0.5)\n",
    "tracker = Tracker(detector)\n",
    "video_path = r\"C:\\Users\\Marcin\\Videos\\liverpool-real.mp4\"\n",
    "frames = load_frames(video_path)"
   ],
   "id": "f79ecd9d5bdde581",
   "outputs": [],
   "execution_count": null
  },
  {
   "metadata": {},
   "cell_type": "code",
   "source": "tracks = tracker.track(frames)",
   "id": "d3b1e58f765c3694",
   "outputs": [],
   "execution_count": null
  },
  {
   "metadata": {},
   "cell_type": "code",
   "source": [
    "teams = TeamAffiliation(tracks, frames)\n",
    "teams.save_video(r\"C:\\Users\\Marcin\\Videos\\liverpool-real_track.mp4\")"
   ],
   "id": "da6c1b6cb710a1ee",
   "outputs": [],
   "execution_count": null
  },
  {
   "metadata": {},
   "cell_type": "code",
   "source": "tracker.save_video(frames, r\"C:\\Users\\Marcin\\Videos\\liverpool-real_track.mp4\")",
   "id": "2679b0a8f88ecf5b",
   "outputs": [],
   "execution_count": null
  }
 ],
 "metadata": {
  "kernelspec": {
   "display_name": "Python 3",
   "language": "python",
   "name": "python3"
  },
  "language_info": {
   "codemirror_mode": {
    "name": "ipython",
    "version": 2
   },
   "file_extension": ".py",
   "mimetype": "text/x-python",
   "name": "python",
   "nbconvert_exporter": "python",
   "pygments_lexer": "ipython2",
   "version": "2.7.6"
  }
 },
 "nbformat": 4,
 "nbformat_minor": 5
}
