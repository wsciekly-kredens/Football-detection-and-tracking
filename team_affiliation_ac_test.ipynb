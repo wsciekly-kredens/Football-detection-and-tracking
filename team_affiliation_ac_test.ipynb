{
 "cells": [
  {
   "cell_type": "code",
   "id": "initial_id",
   "metadata": {
    "collapsed": true
   },
   "source": [
    "import cv2\n",
    "import numpy as np\n",
    "from data_parse import DataParser\n",
    "from shirt_color import ShirtColor\n",
    "import random\n",
    "from tqdm import tqdm"
   ],
   "outputs": [],
   "execution_count": null
  },
  {
   "metadata": {},
   "cell_type": "code",
   "source": [
    "directory = 'data/SoccerNetGS/gamestate-2024/train/'\n",
    "data_parser = DataParser(directory)\n",
    "df = data_parser.parse_data_to_df()"
   ],
   "id": "4983b15174ea468e",
   "outputs": [],
   "execution_count": null
  },
  {
   "metadata": {},
   "cell_type": "code",
   "source": "indexes = random.sample(list(df['image_id'].unique()), 500)",
   "id": "f35db50c265705b4",
   "outputs": [],
   "execution_count": null
  },
  {
   "metadata": {},
   "cell_type": "code",
   "source": [
    "prediction_results = {}\n",
    "for img_id in tqdm(indexes):\n",
    "    img_path = f'data/SoccerNetGS/gamestate-2024/train/SNGS-{img_id[1:4]}/img1/{img_id[-6:]}.jpg'\n",
    "    frame = cv2.imread(img_path)\n",
    "    shirts_data_test = data_parser.get_shirts_data(img_id)\n",
    "    b_boxes = [row for row in shirts_data_test[['bbox_image_x', 'bbox_image_y', 'bbox_image_w', 'bbox_image_h']].values]\n",
    "    true_values = [1 if row == 'left' else 0 for row in shirts_data_test['attributes_team'].values]\n",
    "    shirt_color = ShirtColor(frame, b_boxes, true_values)\n",
    "    accuracy = shirt_color.run_prediction()\n",
    "    prediction_results[img_id] = accuracy"
   ],
   "id": "1899e98633c66f3d",
   "outputs": [],
   "execution_count": null
  },
  {
   "metadata": {},
   "cell_type": "code",
   "source": "prediction_results_mapped = {k: 1 - v if v < 0.5 else v for k, v in prediction_results.items()}",
   "id": "b3e6dca8d0ba4b91",
   "outputs": [],
   "execution_count": null
  },
  {
   "metadata": {},
   "cell_type": "code",
   "source": "prediction_results_mapped",
   "id": "56a1d7356171736d",
   "outputs": [],
   "execution_count": null
  },
  {
   "metadata": {},
   "cell_type": "code",
   "source": [
    "avg_prediction = sum(prediction_results_mapped.values()) / len(prediction_results_mapped)\n",
    "avg_prediction"
   ],
   "id": "16bfea620f07d72",
   "outputs": [],
   "execution_count": null
  },
  {
   "metadata": {},
   "cell_type": "code",
   "source": [
    "#plotting\n",
    "import matplotlib.pyplot as plt\n",
    "plt.figure(figsize=(10, 6))\n",
    "plt.bar(prediction_results_mapped.keys(), prediction_results_mapped.values())\n",
    "plt.axhline(y=avg_prediction, color='r', linestyle='-')\n",
    "plt.show()\n"
   ],
   "id": "731d9cf461a01488",
   "outputs": [],
   "execution_count": null
  }
 ],
 "metadata": {
  "kernelspec": {
   "display_name": "Python 3",
   "language": "python",
   "name": "python3"
  },
  "language_info": {
   "codemirror_mode": {
    "name": "ipython",
    "version": 2
   },
   "file_extension": ".py",
   "mimetype": "text/x-python",
   "name": "python",
   "nbconvert_exporter": "python",
   "pygments_lexer": "ipython2",
   "version": "2.7.6"
  }
 },
 "nbformat": 4,
 "nbformat_minor": 5
}
