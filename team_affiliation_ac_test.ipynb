{
 "cells": [
  {
   "cell_type": "code",
   "id": "initial_id",
   "metadata": {
    "collapsed": true,
    "ExecuteTime": {
     "end_time": "2024-11-05T20:07:38.114783Z",
     "start_time": "2024-11-05T20:07:38.111818Z"
    }
   },
   "source": [
    "import cv2\n",
    "import numpy as np\n",
    "from data_parse import DataParser\n",
    "from shirt_color import ShirtColor\n",
    "import random\n",
    "from tqdm import tqdm"
   ],
   "outputs": [],
   "execution_count": 12
  },
  {
   "metadata": {
    "ExecuteTime": {
     "end_time": "2024-11-05T20:01:21.227348Z",
     "start_time": "2024-11-05T20:01:00.960594Z"
    }
   },
   "cell_type": "code",
   "source": [
    "directory = 'data/SoccerNetGS/gamestate-2024/train/'\n",
    "data_parser = DataParser(directory)\n",
    "df = data_parser.parse_data_to_df()"
   ],
   "id": "4983b15174ea468e",
   "outputs": [
    {
     "name": "stdout",
     "output_type": "stream",
     "text": [
      "Wczytywanie danych...\n"
     ]
    },
    {
     "name": "stderr",
     "output_type": "stream",
     "text": [
      "100%|██████████| 58/58 [00:13<00:00,  4.43it/s]\n"
     ]
    },
    {
     "name": "stdout",
     "output_type": "stream",
     "text": [
      "Tworzenie DataFrame...\n"
     ]
    },
    {
     "name": "stderr",
     "output_type": "stream",
     "text": [
      "100%|██████████| 57/57 [00:04<00:00, 12.89it/s]\n"
     ]
    }
   ],
   "execution_count": 2
  },
  {
   "metadata": {
    "ExecuteTime": {
     "end_time": "2024-11-05T20:02:41.869406Z",
     "start_time": "2024-11-05T20:02:41.799063Z"
    }
   },
   "cell_type": "code",
   "source": "indexes = random.sample(list(df['image_id'].unique()), 200)",
   "id": "f35db50c265705b4",
   "outputs": [],
   "execution_count": 7
  },
  {
   "metadata": {
    "ExecuteTime": {
     "end_time": "2024-11-05T20:11:11.843455Z",
     "start_time": "2024-11-05T20:10:56.028627Z"
    }
   },
   "cell_type": "code",
   "source": [
    "prediction_results = {}\n",
    "for img_id in tqdm(indexes):\n",
    "    img_path = f'data/SoccerNetGS/gamestate-2024/train/SNGS-{img_id[1:4]}/img1/{img_id[-6:]}.jpg'\n",
    "    frame = cv2.imread(img_path)\n",
    "    shirts_data_test = data_parser.get_shirts_data(img_id)\n",
    "    b_boxes = [row for row in shirts_data_test[['bbox_image_x', 'bbox_image_y', 'bbox_image_w', 'bbox_image_h']].values]\n",
    "    true_values = [1 if row == 'left' else 0 for row in shirts_data_test['attributes_team'].values]\n",
    "    shirt_color = ShirtColor(frame, b_boxes, true_values)\n",
    "    accuracy = shirt_color.run_prediction()\n",
    "    prediction_results[img_id] = accuracy"
   ],
   "id": "1899e98633c66f3d",
   "outputs": [
    {
     "name": "stderr",
     "output_type": "stream",
     "text": [
      "100%|██████████| 200/200 [00:15<00:00, 12.65it/s]\n"
     ]
    }
   ],
   "execution_count": 18
  },
  {
   "metadata": {
    "ExecuteTime": {
     "end_time": "2024-11-05T20:19:02.997059Z",
     "start_time": "2024-11-05T20:19:02.994118Z"
    }
   },
   "cell_type": "code",
   "source": "prediction_results_mapped = {k: 1 - v if v < 0.5 else v for k, v in sorted(prediction_results.items(), key=lambda item: item[1])}",
   "id": "b3e6dca8d0ba4b91",
   "outputs": [],
   "execution_count": 48
  },
  {
   "metadata": {
    "ExecuteTime": {
     "end_time": "2024-11-05T20:19:04.672768Z",
     "start_time": "2024-11-05T20:19:04.667702Z"
    }
   },
   "cell_type": "code",
   "source": "prediction_results_mapped",
   "id": "56a1d7356171736d",
   "outputs": [
    {
     "data": {
      "text/plain": [
       "{'1169000257': np.float64(1.0),\n",
       " '1070000604': np.float64(1.0),\n",
       " '1104000709': np.float64(1.0),\n",
       " '1154000413': np.float64(1.0),\n",
       " '1155000498': np.float64(1.0),\n",
       " '1156000730': np.float64(1.0),\n",
       " '1157000496': np.float64(1.0),\n",
       " '1165000467': np.float64(1.0),\n",
       " '1161000656': np.float64(1.0),\n",
       " '1104000021': np.float64(1.0),\n",
       " '1154000438': np.float64(1.0),\n",
       " '1155000704': np.float64(1.0),\n",
       " '1159000519': np.float64(1.0),\n",
       " '1165000733': np.float64(1.0),\n",
       " '1065000196': np.float64(0.95),\n",
       " '1168000340': np.float64(0.9473684210526316),\n",
       " '1100000005': np.float64(0.9473684210526316),\n",
       " '1113000538': np.float64(0.9375),\n",
       " '1166000120': np.float64(0.9333333333333333),\n",
       " '1163000102': np.float64(0.9285714285714286),\n",
       " '1163000707': np.float64(0.9285714285714286),\n",
       " '1097000541': np.float64(0.9285714285714286),\n",
       " '1170000122': np.float64(0.9285714285714286),\n",
       " '1115000481': np.float64(0.9285714285714286),\n",
       " '1164000555': np.float64(0.9285714285714286),\n",
       " '1099000263': np.float64(0.9230769230769231),\n",
       " '1166000315': np.float64(0.9230769230769231),\n",
       " '1154000464': np.float64(0.9),\n",
       " '1076000688': np.float64(0.9),\n",
       " '1107000045': np.float64(0.8947368421052632),\n",
       " '1113000121': np.float64(0.8947368421052632),\n",
       " '1104000731': np.float64(0.8888888888888888),\n",
       " '1100000228': np.float64(0.8823529411764706),\n",
       " '1109000087': np.float64(0.8823529411764706),\n",
       " '1110000667': np.float64(0.8823529411764706),\n",
       " '1099000339': np.float64(0.8823529411764706),\n",
       " '1072000193': np.float64(0.875),\n",
       " '1099000505': np.float64(0.875),\n",
       " '1165000407': np.float64(0.875),\n",
       " '1170000537': np.float64(0.875),\n",
       " '1168000357': np.float64(0.875),\n",
       " '1113000528': np.float64(0.875),\n",
       " '1097000076': np.float64(0.875),\n",
       " '1066000659': np.float64(0.8666666666666667),\n",
       " '1066000592': np.float64(0.8666666666666667),\n",
       " '1062000733': np.float64(0.8666666666666667),\n",
       " '1072000462': np.float64(0.8666666666666667),\n",
       " '1060000647': np.float64(0.8666666666666667),\n",
       " '1115000446': np.float64(0.8571428571428572),\n",
       " '1067000645': np.float64(0.8571428571428572),\n",
       " '1153000678': np.float64(0.8571428571428572),\n",
       " '1104000206': np.float64(0.85),\n",
       " '1061000269': np.float64(0.8461538461538461),\n",
       " '1076000189': np.float64(0.8421052631578947),\n",
       " '1112000301': np.float64(0.8333333333333334),\n",
       " '1162000720': np.float64(0.8333333333333334),\n",
       " '1066000535': np.float64(0.8333333333333334),\n",
       " '1153000096': np.float64(0.8333333333333334),\n",
       " '1110000745': np.float64(0.8333333333333334),\n",
       " '1072000344': np.float64(0.8125),\n",
       " '1165000209': np.float64(0.8),\n",
       " '1098000226': np.float64(0.8),\n",
       " '1170000595': np.float64(0.8),\n",
       " '1067000598': np.float64(0.7857142857142857),\n",
       " '1112000531': np.float64(0.7857142857142857),\n",
       " '1070000207': np.float64(0.7857142857142857),\n",
       " '1110000019': np.float64(0.7857142857142857),\n",
       " '1070000179': np.float64(0.7692307692307692),\n",
       " '1164000167': np.float64(0.736842105263158),\n",
       " '1104000437': np.float64(0.736842105263158),\n",
       " '1156000297': np.float64(0.7333333333333334),\n",
       " '1112000415': np.float64(0.7142857142857143),\n",
       " '1069000233': np.float64(0.7058823529411764),\n",
       " '1062000643': np.float64(0.6923076923076923),\n",
       " '1070000369': np.float64(0.6923076923076923),\n",
       " '1073000194': np.float64(0.6470588235294117),\n",
       " '1107000735': np.float64(0.6470588235294117),\n",
       " '1110000027': np.float64(0.6428571428571428),\n",
       " '1158000678': np.float64(0.6363636363636364),\n",
       " '1155000471': np.float64(0.5833333333333333),\n",
       " '1162000082': np.float64(0.5789473684210527),\n",
       " '1075000370': np.float64(0.5625),\n",
       " '1064000453': np.float64(0.5384615384615384),\n",
       " '1098000155': np.float64(0.5),\n",
       " '1099000022': np.float64(0.5),\n",
       " '1063000255': np.float64(0.5555555555555556),\n",
       " '1160000528': np.float64(0.6),\n",
       " '1160000738': np.float64(0.625),\n",
       " '1061000586': np.float64(0.625),\n",
       " '1152000177': np.float64(0.631578947368421),\n",
       " '1101000239': np.float64(0.6363636363636364),\n",
       " '1153000341': np.float64(0.6363636363636364),\n",
       " '1106000168': np.float64(0.6363636363636364),\n",
       " '1061000109': np.float64(0.6428571428571429),\n",
       " '1060000040': np.float64(0.6428571428571429),\n",
       " '1066000437': np.float64(0.65),\n",
       " '1061000533': np.float64(0.6666666666666666),\n",
       " '1151000698': np.float64(0.6666666666666666),\n",
       " '1063000643': np.float64(0.6666666666666666),\n",
       " '1152000423': np.float64(0.6842105263157895),\n",
       " '1066000516': np.float64(0.6842105263157895),\n",
       " '1164000457': np.float64(0.6875),\n",
       " '1106000311': np.float64(0.6923076923076923),\n",
       " '1151000078': np.float64(0.6923076923076923),\n",
       " '1106000259': np.float64(0.6923076923076923),\n",
       " '1151000024': np.float64(0.6923076923076923),\n",
       " '1114000719': np.float64(0.7),\n",
       " '1168000012': np.float64(0.7),\n",
       " '1162000636': np.float64(0.7058823529411765),\n",
       " '1061000113': np.float64(0.7142857142857143),\n",
       " '1061000514': np.float64(0.7142857142857143),\n",
       " '1065000554': np.float64(0.7272727272727273),\n",
       " '1071000094': np.float64(0.7368421052631579),\n",
       " '1066000079': np.float64(0.75),\n",
       " '1099000115': np.float64(0.75),\n",
       " '1113000665': np.float64(0.75),\n",
       " '1157000200': np.float64(0.75),\n",
       " '1154000149': np.float64(0.7647058823529411),\n",
       " '1151000125': np.float64(0.7692307692307693),\n",
       " '1070000707': np.float64(0.7777777777777778),\n",
       " '1068000742': np.float64(0.7857142857142857),\n",
       " '1110000499': np.float64(0.8),\n",
       " '1153000415': np.float64(0.8),\n",
       " '1064000288': np.float64(0.8),\n",
       " '1164000450': np.float64(0.8),\n",
       " '1109000347': np.float64(0.8),\n",
       " '1097000689': np.float64(0.8),\n",
       " '1105000584': np.float64(0.8125),\n",
       " '1113000003': np.float64(0.8235294117647058),\n",
       " '1156000494': np.float64(0.8235294117647058),\n",
       " '1109000211': np.float64(0.8235294117647058),\n",
       " '1060000205': np.float64(0.8333333333333334),\n",
       " '1152000016': np.float64(0.8333333333333334),\n",
       " '1162000099': np.float64(0.8421052631578947),\n",
       " '1105000656': np.float64(0.8461538461538461),\n",
       " '1110000628': np.float64(0.8571428571428571),\n",
       " '1100000389': np.float64(0.8571428571428571),\n",
       " '1151000627': np.float64(0.8571428571428571),\n",
       " '1101000567': np.float64(0.8571428571428571),\n",
       " '1076000270': np.float64(0.8571428571428571),\n",
       " '1165000163': np.float64(0.8571428571428571),\n",
       " '1170000028': np.float64(0.8571428571428571),\n",
       " '1165000723': np.float64(0.875),\n",
       " '1069000185': np.float64(0.875),\n",
       " '1097000477': np.float64(0.8823529411764706),\n",
       " '1167000292': np.float64(0.8888888888888888),\n",
       " '1071000699': np.float64(0.8888888888888888),\n",
       " '1065000438': np.float64(0.8888888888888888),\n",
       " '1099000367': np.float64(0.8947368421052632),\n",
       " '1073000656': np.float64(0.9),\n",
       " '1114000445': np.float64(0.9),\n",
       " '1065000202': np.float64(0.9),\n",
       " '1107000479': np.float64(0.9),\n",
       " '1168000048': np.float64(0.9090909090909091),\n",
       " '1151000242': np.float64(0.9090909090909091),\n",
       " '1065000736': np.float64(0.9090909090909091),\n",
       " '1098000511': np.float64(0.9090909090909091),\n",
       " '1168000058': np.float64(0.9090909090909091),\n",
       " '1062000693': np.float64(0.9166666666666666),\n",
       " '1070000299': np.float64(0.9230769230769231),\n",
       " '1115000270': np.float64(0.9285714285714286),\n",
       " '1157000407': np.float64(0.9285714285714286),\n",
       " '1159000641': np.float64(0.9333333333333333),\n",
       " '1060000010': np.float64(0.9333333333333333),\n",
       " '1074000494': np.float64(0.9333333333333333),\n",
       " '1069000061': np.float64(0.9375),\n",
       " '1097000106': np.float64(0.9375),\n",
       " '1152000643': np.float64(0.9411764705882353),\n",
       " '1168000701': np.float64(0.9411764705882353),\n",
       " '1109000218': np.float64(0.9411764705882353),\n",
       " '1068000171': np.float64(0.9444444444444444),\n",
       " '1071000365': np.float64(0.9444444444444444),\n",
       " '1062000155': np.float64(0.9473684210526315),\n",
       " '1062000156': np.float64(0.9473684210526315),\n",
       " '1075000174': np.float64(0.9473684210526315),\n",
       " '1068000250': np.float64(0.95),\n",
       " '1065000160': np.float64(0.95),\n",
       " '1064000537': np.float64(0.95),\n",
       " '1168000588': np.float64(1.0),\n",
       " '1074000635': np.float64(1.0),\n",
       " '1073000024': np.float64(1.0),\n",
       " '1071000601': np.float64(1.0),\n",
       " '1102000615': np.float64(1.0),\n",
       " '1112000137': np.float64(1.0),\n",
       " '1112000183': np.float64(1.0),\n",
       " '1153000337': np.float64(1.0),\n",
       " '1073000111': np.float64(1.0),\n",
       " '1075000171': np.float64(1.0),\n",
       " '1162000451': np.float64(1.0),\n",
       " '1060000156': np.float64(1.0),\n",
       " '1069000342': np.float64(1.0),\n",
       " '1075000175': np.float64(1.0),\n",
       " '1162000564': np.float64(1.0),\n",
       " '1097000081': np.float64(1.0),\n",
       " '1165000671': np.float64(1.0),\n",
       " '1065000463': np.float64(1.0),\n",
       " '1070000572': np.float64(1.0),\n",
       " '1111000061': np.float64(1.0),\n",
       " '1162000601': np.float64(1.0),\n",
       " '1162000266': np.float64(1.0)}"
      ]
     },
     "execution_count": 49,
     "metadata": {},
     "output_type": "execute_result"
    }
   ],
   "execution_count": 49
  },
  {
   "metadata": {
    "ExecuteTime": {
     "end_time": "2024-11-05T20:19:07.787467Z",
     "start_time": "2024-11-05T20:19:07.783510Z"
    }
   },
   "cell_type": "code",
   "source": [
    "avg_prediction = sum(prediction_results_mapped.values()) / len(prediction_results_mapped)\n",
    "avg_prediction"
   ],
   "id": "16bfea620f07d72",
   "outputs": [
    {
     "data": {
      "text/plain": [
       "np.float64(0.8460265402597058)"
      ]
     },
     "execution_count": 50,
     "metadata": {},
     "output_type": "execute_result"
    }
   ],
   "execution_count": 50
  },
  {
   "metadata": {
    "ExecuteTime": {
     "end_time": "2024-11-05T20:19:10.685040Z",
     "start_time": "2024-11-05T20:19:09.429786Z"
    }
   },
   "cell_type": "code",
   "source": [
    "#plotting\n",
    "import matplotlib.pyplot as plt\n",
    "plt.figure(figsize=(10, 6))\n",
    "plt.bar(prediction_results_mapped.keys(), prediction_results_mapped.values())\n",
    "plt.axhline(y=avg_prediction, color='r', linestyle='-')\n",
    "plt.show()\n"
   ],
   "id": "731d9cf461a01488",
   "outputs": [
    {
     "data": {
      "text/plain": [
       "<Figure size 1000x600 with 1 Axes>"
      ],
      "image/png": "[encoded data removed]"
     },
     "metadata": {},
     "output_type": "display_data"
    }
   ],
   "execution_count": 51
  }
 ],
 "metadata": {
  "kernelspec": {
   "display_name": "Python 3",
   "language": "python",
   "name": "python3"
  },
  "language_info": {
   "codemirror_mode": {
    "name": "ipython",
    "version": 2
   },
   "file_extension": ".py",
   "mimetype": "text/x-python",
   "name": "python",
   "nbconvert_exporter": "python",
   "pygments_lexer": "ipython2",
   "version": "2.7.6"
  }
 },
 "nbformat": 4,
 "nbformat_minor": 5
}
