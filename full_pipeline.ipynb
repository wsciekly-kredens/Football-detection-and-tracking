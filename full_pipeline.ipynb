{
 "cells": [
  {
   "cell_type": "code",
   "id": "initial_id",
   "metadata": {
    "collapsed": true
   },
   "source": [
    "import cv2\n",
    "import numpy as np\n",
    "import pandas as pd\n",
    "from ultralytics import YOLO\n",
    "from tracker import Tracker\n",
    "from detector import Detector\n",
    "from teams import TeamAffiliation\n",
    "from keypoint_detector import KeypointDetector\n",
    "from mplsoccer import Pitch\n",
    "import matplotlib.pyplot as plt\n",
    "import utils\n",
    "from player_position import PlayerPosition\n",
    "from radar import Radar\n",
    "from video_generator import VideoGenerator"
   ],
   "outputs": [],
   "execution_count": null
  },
  {
   "metadata": {},
   "cell_type": "code",
   "source": [
    "SOURCE_PATH = r\"\"\n",
    "DEST_PATH = r\"\""
   ],
   "id": "de01660cb53e959a",
   "outputs": [],
   "execution_count": null
  },
  {
   "metadata": {},
   "cell_type": "code",
   "source": [
    "model = YOLO(\"training/runs/detect/train4/weights/best.pt\")\n",
    "model_keypoints = YOLO(\"training/runs/pose/train8/weights/best.pt\")\n",
    "detector = Detector(model, 0.5)\n",
    "keypoint_detector = KeypointDetector(model_keypoints)\n",
    "tracker = Tracker(detector)\n",
    "positions = PlayerPosition()"
   ],
   "id": "3dd064fa84afd381",
   "outputs": [],
   "execution_count": null
  },
  {
   "metadata": {},
   "cell_type": "code",
   "source": [
    "# images_path = r'data/SoccerNetGS/gamestate-2024/valid/SNGS-021/img1'\n",
    "# frames = utils.load_frames_from_images(images_path)\n",
    "frames = utils.load_frames_from_video(SOURCE_PATH)"
   ],
   "id": "744e4766fd863271",
   "outputs": [],
   "execution_count": null
  },
  {
   "metadata": {},
   "cell_type": "code",
   "source": [
    "tracks = tracker.track(frames)"
   ],
   "id": "7eee661ce8e2fae",
   "outputs": [],
   "execution_count": null
  },
  {
   "metadata": {},
   "cell_type": "code",
   "source": [
    "keypoints = keypoint_detector.detect(frames)"
   ],
   "id": "690441c165ab6098",
   "outputs": [],
   "execution_count": null
  },
  {
   "metadata": {},
   "cell_type": "code",
   "source": "keypoints_list = keypoint_detector.fill_blank(frames)",
   "id": "f0877e9adbd2e550",
   "outputs": [],
   "execution_count": null
  },
  {
   "metadata": {},
   "cell_type": "code",
   "source": "player_positions = positions.get_players_position(keypoints_list, tracks)",
   "id": "81aa93eede13bbf7",
   "outputs": [],
   "execution_count": null
  },
  {
   "metadata": {},
   "cell_type": "code",
   "source": [
    "teams = TeamAffiliation(tracks, frames)"
   ],
   "id": "afaa0bcfa982ae7b",
   "outputs": [],
   "execution_count": null
  },
  {
   "metadata": {},
   "cell_type": "code",
   "source": "player_teams: list[np.array] = teams.get_teams()",
   "id": "baed29375bfac011",
   "outputs": [],
   "execution_count": null
  },
  {
   "metadata": {},
   "cell_type": "code",
   "source": "position_df = utils.parse_player_data(player_positions, tracks, player_teams)",
   "id": "a1c19a95c3a6e71",
   "outputs": [],
   "execution_count": null
  },
  {
   "metadata": {},
   "cell_type": "code",
   "source": "video = teams.annotate_frames()",
   "id": "75fb76bc031742d7",
   "outputs": [],
   "execution_count": null
  },
  {
   "metadata": {},
   "cell_type": "code",
   "source": "radar = Radar(position_df, teams.get_team_colors())",
   "id": "ec72063aff0207f2",
   "outputs": [],
   "execution_count": null
  },
  {
   "metadata": {},
   "cell_type": "code",
   "source": "video_generator = VideoGenerator(video, radar)",
   "id": "e16c6018fe95da18",
   "outputs": [],
   "execution_count": null
  },
  {
   "metadata": {},
   "cell_type": "code",
   "source": "video_generator.generate_video_with_radar(DEST_PATH, n_frames_back=45)",
   "id": "98786bb04d34939e",
   "outputs": [],
   "execution_count": null
  }
 ],
 "metadata": {
  "kernelspec": {
   "display_name": "Python 3",
   "language": "python",
   "name": "python3"
  },
  "language_info": {
   "codemirror_mode": {
    "name": "ipython",
    "version": 2
   },
   "file_extension": ".py",
   "mimetype": "text/x-python",
   "name": "python",
   "nbconvert_exporter": "python",
   "pygments_lexer": "ipython2",
   "version": "2.7.6"
  }
 },
 "nbformat": 4,
 "nbformat_minor": 5
}
